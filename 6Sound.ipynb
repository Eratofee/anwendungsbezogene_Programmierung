{
  "cells": [
    {
      "cell_type": "markdown",
      "id": "6789b1a6",
      "metadata": {
        "id": "6789b1a6"
      },
      "source": [
        "# 6. Eine Audioanwendung (und advanced plotting)"
      ]
    },
    {
      "cell_type": "markdown",
      "id": "6a33874a",
      "metadata": {
        "id": "6a33874a"
      },
      "source": [
        "## 1. generieren und anzeigen"
      ]
    },
    {
      "cell_type": "code",
      "source": [
        "# pip install simpleaudio"
      ],
      "metadata": {
        "id": "9Cka9W0so47-"
      },
      "id": "9Cka9W0so47-",
      "execution_count": null,
      "outputs": []
    },
    {
      "cell_type": "code",
      "execution_count": null,
      "id": "22282a11",
      "metadata": {
        "id": "22282a11"
      },
      "outputs": [],
      "source": [
        "import numpy as np\n",
        "import simpleaudio as sa\n",
        "import matplotlib.pyplot as plt"
      ]
    },
    {
      "cell_type": "markdown",
      "id": "f1608f2f",
      "metadata": {
        "id": "f1608f2f"
      },
      "source": [
        "Eine einzelne Schwingung kann über ihre Frequenz, ihre Lautstärke und ihre Dauer angegeben werden. In der Praxis setzen wir die Amplitude auf einen Standardwert (1) und müssen aber zusätzlich die Anzahl an Datenpunkten pro Sekunde angeben.\n",
        "\n",
        "Im ersten Schritt definieren wir eine Funktion\n",
        "```python\n",
        "create_wave_and_timeaxis(frequency, fs, seconds)\n",
        "```\n",
        "deren Übergabeparameter auf 440, 44100 und 1 vorinitialisiert sind.\n",
        "\n",
        "Es soll zwei Rückgabewerte geben:\n",
        "* note = die Schwingung mit der Frequenz frequency und seconds * fs vielen Werten (Siehe hierzu: np.sin() )\n",
        "und\n",
        "* t = ein Array ebenfalls der Länge seconds * fs mit erstem Wert 0 und höchsten Wert seconds. (Siehe hierzu: np.linspace() )\n",
        "\n",
        "Wobei t zuerst(!) für die Berechnung von note gebraucht wird."
      ]
    },
    {
      "cell_type": "code",
      "execution_count": null,
      "id": "3fdc6e77",
      "metadata": {
        "id": "3fdc6e77"
      },
      "outputs": [],
      "source": [
        "def create_wave_and_timeaxis(frequency=440, fs=44100, seconds=1):\n",
        "    t = np.linspace(0, seconds, fs*seconds, endpoint=False)\n",
        "    note = np.sin(2*np.pi*frequency*t)\n",
        "    return note, t"
      ]
    },
    {
      "cell_type": "markdown",
      "id": "47fcc661",
      "metadata": {
        "id": "47fcc661"
      },
      "source": [
        "Die Funktion play_tone(note) normalisiert zuerst die Daten, so dass der lauteste Datenpunkt auf 1 liegt und spielt das gegebene Array ab."
      ]
    },
    {
      "cell_type": "code",
      "execution_count": null,
      "id": "280925ab",
      "metadata": {
        "id": "280925ab"
      },
      "outputs": [],
      "source": [
        "def play_tone(note, fs=44100):\n",
        "\n",
        "    # Ensure that highest value is in 16-bit range\n",
        "    audio = note * (2**15 - 1) / np.max(np.abs(note))\n",
        "\n",
        "    # Convert to 16-bit data\n",
        "    audio = audio.astype(np.int16)\n",
        "    # print(audio)\n",
        "\n",
        "    # Start playback\n",
        "    play_obj = sa.play_buffer(audio, 1, 2, fs)\n",
        "\n",
        "    # Wait for playback to finish before exiting\n",
        "    play_obj.wait_done()"
      ]
    },
    {
      "cell_type": "markdown",
      "id": "20599cd7",
      "metadata": {
        "id": "20599cd7"
      },
      "source": [
        "Die Funktion plot_data(x, y) zeichnet einen Graphen mit den Daten des y-Arrays auf der Achse der x-Werte."
      ]
    },
    {
      "cell_type": "code",
      "execution_count": null,
      "id": "cbcd194a",
      "metadata": {
        "id": "cbcd194a"
      },
      "outputs": [],
      "source": [
        "def plot_data(x, y):\n",
        "    plt.plot(x,y)"
      ]
    },
    {
      "cell_type": "markdown",
      "id": "d02ab9f2",
      "metadata": {
        "id": "d02ab9f2"
      },
      "source": [
        "Fülle die Variablen note und t durch den Aufruf von create_wave_and_timeaxis()"
      ]
    },
    {
      "cell_type": "code",
      "execution_count": null,
      "id": "fd5c387d",
      "metadata": {
        "id": "fd5c387d"
      },
      "outputs": [],
      "source": [
        "note, t = create_wave_and_timeaxis()"
      ]
    },
    {
      "cell_type": "markdown",
      "id": "fa2353a4",
      "metadata": {
        "id": "fa2353a4"
      },
      "source": [
        "Spiele note ab."
      ]
    },
    {
      "cell_type": "code",
      "execution_count": null,
      "id": "42fec9c8",
      "metadata": {
        "id": "42fec9c8"
      },
      "outputs": [],
      "source": [
        "play_tone(note)"
      ]
    },
    {
      "cell_type": "markdown",
      "id": "4a7776a7",
      "metadata": {
        "id": "4a7776a7"
      },
      "source": [
        "Erzeuge einen neuen Sinuston der eine Oktave unter dem ersten liegt."
      ]
    },
    {
      "cell_type": "code",
      "execution_count": null,
      "id": "357be198",
      "metadata": {
        "id": "357be198"
      },
      "outputs": [],
      "source": [
        "note_A3, time = create_wave_and_timeaxis(frequency=220)"
      ]
    },
    {
      "cell_type": "code",
      "execution_count": null,
      "id": "3a3d2862",
      "metadata": {
        "id": "3a3d2862"
      },
      "outputs": [],
      "source": [
        "play_tone(note_A3)"
      ]
    },
    {
      "cell_type": "markdown",
      "id": "b3e58e42",
      "metadata": {
        "id": "b3e58e42"
      },
      "source": [
        "Zeichne die Töne mit der plot Funktion."
      ]
    },
    {
      "cell_type": "code",
      "execution_count": null,
      "id": "b4d8b44f",
      "metadata": {
        "id": "b4d8b44f"
      },
      "outputs": [],
      "source": [
        "plot_data(t[0:1000], note[0:1000])"
      ]
    },
    {
      "cell_type": "markdown",
      "id": "4c2badf7",
      "metadata": {
        "id": "4c2badf7"
      },
      "source": [
        "Bonus-Level: plotten geht noch schöner mit plt.subplots. So lassen sich eigentschaften wie Titel, x-Achsen-Ausschnitt (set_xlim), Farben und noch mehr einstellen. Einmal Schmöckern und Ausprobieren bitte."
      ]
    },
    {
      "cell_type": "code",
      "execution_count": null,
      "id": "d290b8cd",
      "metadata": {
        "id": "d290b8cd"
      },
      "outputs": [],
      "source": [
        "def plot_data_advanced(x, y, xlim=0.03):\n",
        "    fig, ax = plt.subplots(facecolor = '0.9')\n",
        "    ax.plot(x, y, \"g\", alpha=0.5)\n",
        "    ax.set_xlabel(\"time in sec\")\n",
        "    ax.set_ylabel(\"amplitude\")\n",
        "    ax.set_xlim(0,xlim)\n",
        "    ax.set_title(\"waveform of an audio snipped\", fontsize = 14, fontweight = \"bold\")\n",
        "    plt.show()"
      ]
    },
    {
      "cell_type": "code",
      "execution_count": null,
      "id": "d8aca37e",
      "metadata": {
        "id": "d8aca37e"
      },
      "outputs": [],
      "source": [
        "plot_data_advanced(t, note, xlim = 0.05)"
      ]
    },
    {
      "cell_type": "markdown",
      "id": "4c78774d",
      "metadata": {
        "id": "4c78774d"
      },
      "source": [
        "## 2. mit librosa und IPython.display WAV-Dateien einlesen und anzeigen"
      ]
    },
    {
      "cell_type": "markdown",
      "id": "8e5d2317",
      "metadata": {
        "id": "8e5d2317"
      },
      "source": [
        "In den Modulen Ipython.display und librosa gibt es sehr viele hilfreiche Funktionen zur Darstellung, Analyse und Manipulation von Audiodaten:"
      ]
    },
    {
      "cell_type": "code",
      "execution_count": null,
      "id": "4fa3c9a0",
      "metadata": {
        "id": "4fa3c9a0"
      },
      "outputs": [],
      "source": [
        "import librosa\n",
        "import librosa.display\n",
        "import IPython.display as ipd"
      ]
    },
    {
      "cell_type": "markdown",
      "id": "df68a047",
      "metadata": {
        "id": "df68a047"
      },
      "source": [
        "Zuerst laden wir drei Audiofiles (.wav-Dateien) und hören sie an:"
      ]
    },
    {
      "cell_type": "code",
      "execution_count": null,
      "id": "27349083",
      "metadata": {
        "id": "27349083"
      },
      "outputs": [],
      "source": [
        "piano_file = \"011PFNOF60.WAV\"\n",
        "violin_file = \"151VNNOF60.WAV\"\n",
        "double_bass_file = \"181CBNOF60.WAV\""
      ]
    },
    {
      "cell_type": "code",
      "execution_count": null,
      "id": "21c2c119",
      "metadata": {
        "id": "21c2c119"
      },
      "outputs": [],
      "source": [
        "ipd.Audio(piano_file)"
      ]
    },
    {
      "cell_type": "code",
      "execution_count": null,
      "id": "e7adc446",
      "metadata": {
        "id": "e7adc446"
      },
      "outputs": [],
      "source": [
        "ipd.Audio(violin_file)"
      ]
    },
    {
      "cell_type": "code",
      "execution_count": null,
      "id": "f653c044",
      "metadata": {
        "id": "f653c044"
      },
      "outputs": [],
      "source": [
        "ipd.Audio(double_bass_file)"
      ]
    },
    {
      "cell_type": "markdown",
      "id": "c6d4dee2",
      "metadata": {
        "id": "c6d4dee2"
      },
      "source": [
        "Audiodateien einlesen mit librosa."
      ]
    },
    {
      "cell_type": "code",
      "execution_count": null,
      "id": "1a405cbb",
      "metadata": {
        "id": "1a405cbb"
      },
      "outputs": [],
      "source": [
        "piano, sr = librosa.load(piano_file) # sr = sample rate oft auch als fs\n",
        "violin, _ = librosa.load(violin_file)\n",
        "double_bass, _ = librosa.load(double_bass_file)"
      ]
    },
    {
      "cell_type": "markdown",
      "id": "1d552ba3",
      "metadata": {
        "id": "1d552ba3"
      },
      "source": [
        "Was haben wir eigentlich genau eingelesen? Gib die \"shape\" aus, das ganze array und die samplerate sr."
      ]
    },
    {
      "cell_type": "code",
      "execution_count": null,
      "id": "7f9ded46",
      "metadata": {
        "id": "7f9ded46"
      },
      "outputs": [],
      "source": [
        "print(piano.shape)"
      ]
    },
    {
      "cell_type": "code",
      "execution_count": null,
      "id": "e8feea22",
      "metadata": {
        "id": "e8feea22"
      },
      "outputs": [],
      "source": [
        "# total number of samples in audio file\n",
        "tot_samples = len(piano)\n",
        "tot_samples"
      ]
    },
    {
      "cell_type": "markdown",
      "id": "88292cea",
      "metadata": {
        "id": "88292cea"
      },
      "source": [
        "Wie lange dauert das eingelesene \"piano\" File?"
      ]
    },
    {
      "cell_type": "code",
      "execution_count": null,
      "id": "661b9e24",
      "metadata": {
        "id": "661b9e24"
      },
      "outputs": [],
      "source": [
        "# duration of piano audio in seconds\n",
        "duration = tot_samples / sr\n",
        "print(\"The audio lasts for\",duration,\"seconds\")"
      ]
    },
    {
      "cell_type": "markdown",
      "id": "bd2f1f99",
      "metadata": {
        "id": "bd2f1f99"
      },
      "source": [
        "Zeige mit 3 subplots die Instrumentefiles unter einander an."
      ]
    },
    {
      "cell_type": "code",
      "execution_count": null,
      "id": "fc9a6019",
      "metadata": {
        "id": "fc9a6019"
      },
      "outputs": [],
      "source": [
        "plt.figure(figsize=(15,17))\n",
        "\n",
        "plt.subplot(3, 1, 1)\n",
        "librosa.display.waveshow(piano, alpha=0.5)\n",
        "plt.ylim(-1,1)\n",
        "plt.title(\"Piano\")\n",
        "\n",
        "plt.subplot(3, 1, 2)\n",
        "librosa.display.waveshow(violin, alpha=0.5)\n",
        "plt.ylim(-1,1)\n",
        "plt.title(\"Violin\")\n",
        "\n",
        "plt.subplot(3, 1, 3)\n",
        "librosa.display.waveshow(double_bass, alpha=0.5)\n",
        "plt.ylim(-1,1)\n",
        "plt.title(\"Doulbe Bass\")\n",
        "\n",
        "plt.show()"
      ]
    },
    {
      "cell_type": "markdown",
      "id": "7964b6a3",
      "metadata": {
        "id": "7964b6a3"
      },
      "source": [
        "### 3. Audio im Frequenzbereich"
      ]
    },
    {
      "cell_type": "code",
      "execution_count": null,
      "id": "7396133e",
      "metadata": {
        "id": "7396133e"
      },
      "outputs": [],
      "source": []
    },
    {
      "cell_type": "code",
      "execution_count": null,
      "id": "e18b7445",
      "metadata": {
        "id": "e18b7445"
      },
      "outputs": [],
      "source": [
        "def plot_magnitude_spectrum(signal, sr, title, f_ratio=1):\n",
        "    X = np.fft.fft(signal)\n",
        "    X_mag = np.absolute(X)\n",
        "\n",
        "    plt.figure(figsize=(18, 5))\n",
        "\n",
        "    f = np.linspace(0, sr, len(X_mag))\n",
        "    f_bins = int(len(X_mag)*f_ratio)\n",
        "\n",
        "    print(f[np.argmax(X_mag[:f_bins])])\n",
        "\n",
        "    plt.plot(f[:f_bins], X_mag[:f_bins])\n",
        "    plt.xlabel('Frequency (Hz)')\n",
        "    plt.title(title)"
      ]
    },
    {
      "cell_type": "code",
      "execution_count": null,
      "id": "dee79d82",
      "metadata": {
        "id": "dee79d82"
      },
      "outputs": [],
      "source": [
        "plot_magnitude_spectrum(piano, sr, \"piano\", 0.5)"
      ]
    },
    {
      "cell_type": "code",
      "execution_count": null,
      "id": "58cb5711",
      "metadata": {
        "id": "58cb5711"
      },
      "outputs": [],
      "source": [
        "plot_magnitude_spectrum(violin, sr, \"violin\", 0.5)"
      ]
    },
    {
      "cell_type": "code",
      "execution_count": null,
      "id": "b792a150",
      "metadata": {
        "id": "b792a150"
      },
      "outputs": [],
      "source": [
        "plot_magnitude_spectrum(double_bass, sr, \"double bass\", 0.5)"
      ]
    },
    {
      "cell_type": "markdown",
      "id": "56dc9a77",
      "metadata": {
        "id": "56dc9a77"
      },
      "source": [
        "Um die Veränderung der Frequenzen über die Zeit zu sehen, müssen Nachbarschaften -so genannte Frames- bestimmt werden. Aus diesen wird jeweils ein Spektrum berechnet. Werden diese Nacheinander angezeigt, ergibt sich aus vielen aufeinanderfolgenden Spektren ein Spektrogram. Die Frames haben alle eine gewisse Größe (FRAME_SIZE) und, da sie überlappen, einen Versatz (HOP_SIZE)."
      ]
    },
    {
      "cell_type": "code",
      "execution_count": null,
      "id": "bc44a1eb",
      "metadata": {
        "id": "bc44a1eb"
      },
      "outputs": [],
      "source": [
        "FRAME_SIZE = 2048\n",
        "HOP_SIZE = 512"
      ]
    },
    {
      "cell_type": "code",
      "execution_count": null,
      "id": "d9b4b627",
      "metadata": {
        "id": "d9b4b627"
      },
      "outputs": [],
      "source": [
        "S_scale = librosa.stft(violin, n_fft=FRAME_SIZE, hop_length=HOP_SIZE)"
      ]
    },
    {
      "cell_type": "code",
      "execution_count": null,
      "id": "47c173b1",
      "metadata": {
        "id": "47c173b1"
      },
      "outputs": [],
      "source": [
        "S_scale.shape"
      ]
    },
    {
      "cell_type": "code",
      "execution_count": null,
      "id": "52aef386",
      "metadata": {
        "id": "52aef386"
      },
      "outputs": [],
      "source": [
        "type(S_scale[0][0])"
      ]
    },
    {
      "cell_type": "code",
      "execution_count": null,
      "id": "0e329d82",
      "metadata": {
        "id": "0e329d82"
      },
      "outputs": [],
      "source": [
        "Y_scale = np.abs(S_scale) ** 2"
      ]
    },
    {
      "cell_type": "code",
      "execution_count": null,
      "id": "5aac5cab",
      "metadata": {
        "id": "5aac5cab"
      },
      "outputs": [],
      "source": [
        "def plot_spectrogram(Y, sr, hop_length, y_axis=\"linear\"):\n",
        "    plt.figure(figsize=(25, 10))\n",
        "    librosa.display.specshow(Y,\n",
        "                             sr=sr,\n",
        "                             hop_length=hop_length,\n",
        "                             x_axis=\"time\",\n",
        "                             y_axis=y_axis)\n",
        "    plt.colorbar(format=\"%+2.f\")"
      ]
    },
    {
      "cell_type": "code",
      "execution_count": null,
      "id": "cee3ae87",
      "metadata": {
        "id": "cee3ae87"
      },
      "outputs": [],
      "source": [
        "plot_spectrogram(Y_scale, sr, HOP_SIZE)"
      ]
    },
    {
      "cell_type": "code",
      "execution_count": null,
      "id": "1a40d788",
      "metadata": {
        "id": "1a40d788"
      },
      "outputs": [],
      "source": [
        "Y_log_scale = librosa.power_to_db(Y_scale)\n",
        "plot_spectrogram(Y_log_scale, sr, HOP_SIZE)"
      ]
    },
    {
      "cell_type": "code",
      "execution_count": null,
      "id": "028eaa53",
      "metadata": {
        "id": "028eaa53"
      },
      "outputs": [],
      "source": [
        "plot_spectrogram(Y_log_scale, sr, HOP_SIZE, y_axis=\"log\")"
      ]
    },
    {
      "cell_type": "code",
      "execution_count": null,
      "id": "14c9b01a",
      "metadata": {
        "id": "14c9b01a"
      },
      "outputs": [],
      "source": []
    }
  ],
  "metadata": {
    "kernelspec": {
      "display_name": "Python 3 (ipykernel)",
      "language": "python",
      "name": "python3"
    },
    "language_info": {
      "codemirror_mode": {
        "name": "ipython",
        "version": 3
      },
      "file_extension": ".py",
      "mimetype": "text/x-python",
      "name": "python",
      "nbconvert_exporter": "python",
      "pygments_lexer": "ipython3",
      "version": "3.9.15"
    },
    "colab": {
      "provenance": []
    }
  },
  "nbformat": 4,
  "nbformat_minor": 5
}