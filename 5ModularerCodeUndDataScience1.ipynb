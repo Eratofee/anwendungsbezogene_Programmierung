{
  "cells": [
    {
      "cell_type": "markdown",
      "id": "66684b6b",
      "metadata": {
        "id": "66684b6b"
      },
      "source": [
        "# 5. Modularer Code und Ploting Data"
      ]
    },
    {
      "cell_type": "markdown",
      "id": "32920736",
      "metadata": {
        "id": "32920736"
      },
      "source": [
        "## 1. Wir schreiben ein modulareres Quiz, das beliebige Fragen-Antwort-Paare aus einer .txt Datei im csv Format lesen kann."
      ]
    },
    {
      "cell_type": "code",
      "execution_count": null,
      "id": "af4d32f9",
      "metadata": {
        "id": "af4d32f9"
      },
      "outputs": [],
      "source": [
        "import sys\n",
        "import numpy as np\n",
        "import pandas as pd\n",
        "import random\n",
        "\n",
        "question_list = pd.read_csv('SindarinVocabulary.txt', header=None).values.tolist()\n",
        "random.shuffle(question_list)\n",
        "\n",
        "\n",
        "score = 0\n",
        "\n",
        "# definiere hier eine Funktion \"start()\" Sie soll alles beinhalten, was for der ersten Frage angezeigt wird\n",
        "\n",
        "\n",
        "\n",
        "\n",
        "# definiere hier eine Funktion: asking(question, answer_correct, score) mit dem Return-Wert: score\n",
        "# hier muss der Code für eine einzelnes Frage Antwort Paar stehen:\n",
        "\n",
        "\n",
        "\n",
        "# definiere hier eine Funktion: end(). Sie gibt die Abschlussbewertung aus\n",
        "\n",
        "\n",
        "#### Jetzt wurde alles definiert, aber hier wird der Ablauf gestartet und alles\n",
        "# nacheinander aufgerufen:\n",
        "\n",
        "# rufe start() auf\n",
        "\n",
        "# hier die Schleife für jede einzelne Frage\n",
        "for question, answer_correct in question_list:\n",
        "    score = asking(question, answer_correct, score)\n",
        "\n",
        "# rufe end() auf\n"
      ]
    },
    {
      "cell_type": "markdown",
      "id": "45630a84",
      "metadata": {
        "id": "45630a84"
      },
      "source": [
        "## 2. Aufgabe: visualize_intervals"
      ]
    },
    {
      "cell_type": "markdown",
      "id": "2ab6f133",
      "metadata": {
        "id": "2ab6f133"
      },
      "source": [
        "Schreibe das Python Script, das die csv Datei intervals.cvs einliest und mit Hilfe der Funktion  matplotlib.pyplot.hist() die Vorkommen der Worte:\n",
        "```python\n",
        "names = [\"Prime\",\"Sekunde\", \"Terz\",\"Quarte\",\"Quinte\",\"Sexte\", \"Septime\",\"Oktave\"]\n",
        "```\n",
        "anzeigt."
      ]
    },
    {
      "cell_type": "markdown",
      "id": "6759c8f5",
      "metadata": {
        "id": "6759c8f5"
      },
      "source": [
        "Importiere das Packet numpy und matplotlib.pyplot in die Kurzformen np bzw. plt"
      ]
    },
    {
      "cell_type": "code",
      "execution_count": null,
      "id": "eb0b305a",
      "metadata": {
        "id": "eb0b305a"
      },
      "outputs": [],
      "source": [
        "import numpy as np\n",
        "import matplotlib.pyplot as plt"
      ]
    },
    {
      "cell_type": "markdown",
      "id": "a158eb4e",
      "metadata": {
        "id": "a158eb4e"
      },
      "source": [
        "Lese 'Intervals.csv' in die Variable **data** ein."
      ]
    },
    {
      "cell_type": "code",
      "execution_count": null,
      "id": "0df75bd0",
      "metadata": {
        "id": "0df75bd0"
      },
      "outputs": [],
      "source": [
        "with open('Intervals.csv', encoding='utf8') as file:\n",
        "    data = file.read().splitlines()\n",
        "print(data)"
      ]
    },
    {
      "cell_type": "markdown",
      "id": "54e62de0",
      "metadata": {
        "id": "54e62de0"
      },
      "source": [
        "Erstelle eine leere Liste intervals.\n",
        "Splitte jede Zeile von data an jedem Komma in ein neues Element und füge jeweils nur das **erste** Element der Zeile zu intervals hinzu."
      ]
    },
    {
      "cell_type": "code",
      "execution_count": null,
      "id": "0c51ca09",
      "metadata": {
        "id": "0c51ca09"
      },
      "outputs": [],
      "source": [
        "intervals = []\n",
        "for i, interval in enumerate(data):\n",
        "    a = interval.split(\",\")[:-1]\n",
        "    intervals.append(a[0])\n",
        "\n",
        "print(intervals)"
      ]
    },
    {
      "cell_type": "markdown",
      "id": "555ace86",
      "metadata": {
        "id": "555ace86"
      },
      "source": [
        "Ersetze in jedem Element (intervals[i]) die Anführungsstriche mit dem leeren String und ersetze damit das alte Element an dieser Stelle."
      ]
    },
    {
      "cell_type": "code",
      "execution_count": null,
      "id": "7ca9877b",
      "metadata": {
        "id": "7ca9877b"
      },
      "outputs": [],
      "source": [
        "for i, interval in enumerate(intervals):\n",
        "    intervals[i] = interval.replace('\"','')\n",
        "print(intervals)"
      ]
    },
    {
      "cell_type": "markdown",
      "id": "29082c43",
      "metadata": {
        "id": "29082c43"
      },
      "source": [
        "Speichere die Liste [\"Prime\", \"Sekunde\", \"Terz\", \"Quarte\", \"Quinte\", \"Sexte\", \"Septime\", \"Oktave\"] in der Variable **names**."
      ]
    },
    {
      "cell_type": "code",
      "execution_count": null,
      "id": "c83568b6",
      "metadata": {
        "id": "c83568b6"
      },
      "outputs": [],
      "source": [
        "names = [\"Prime\", \"Sekunde\", \"Terz\", \"Quarte\", \"Quinte\", \"Sexte\", \"Septime\", \"Oktave\"]"
      ]
    },
    {
      "cell_type": "markdown",
      "id": "e23332f8",
      "metadata": {
        "id": "e23332f8"
      },
      "source": [
        "Erstelle eine leere Liste **sub**\n",
        "Für jeden **name** in der Liste **names** gehe die Liste **intervals** durch und schaue ob der **name** in **interval** ist. Falls das der Fall ist, füge **name** zu sub hinzu (auch mehrfach)."
      ]
    },
    {
      "cell_type": "code",
      "execution_count": null,
      "id": "2a3b0915",
      "metadata": {
        "id": "2a3b0915"
      },
      "outputs": [],
      "source": [
        "sub = []\n",
        "for name in names:\n",
        "    for interval in intervals:\n",
        "        if name.upper() in interval:\n",
        "            print(name)\n",
        "            sub.append(name)"
      ]
    },
    {
      "cell_type": "markdown",
      "id": "235a8827",
      "metadata": {
        "id": "235a8827"
      },
      "source": [
        "Verwende np.unique(sub, return_counts=True) um die Variablen **labels, counts = ..** zu füllen."
      ]
    },
    {
      "cell_type": "code",
      "execution_count": null,
      "id": "9bca4b01",
      "metadata": {
        "id": "9bca4b01"
      },
      "outputs": [],
      "source": [
        "labels, counts = np.unique(sub, return_counts=True)\n",
        "print(labels, counts)"
      ]
    },
    {
      "cell_type": "markdown",
      "id": "38906532",
      "metadata": {
        "id": "38906532"
      },
      "source": [
        "verwende die bar()-Funktion von pyplot:"
      ]
    },
    {
      "cell_type": "code",
      "execution_count": null,
      "id": "187d3105",
      "metadata": {
        "id": "187d3105"
      },
      "outputs": [],
      "source": [
        "ticks = range(len(counts))\n",
        "plt.bar(ticks, counts, align='center')\n",
        "plt.xticks(ticks, labels)"
      ]
    },
    {
      "cell_type": "code",
      "source": [],
      "metadata": {
        "id": "pMfxFKhZn51r"
      },
      "id": "pMfxFKhZn51r",
      "execution_count": null,
      "outputs": []
    }
  ],
  "metadata": {
    "kernelspec": {
      "display_name": "Python 3 (ipykernel)",
      "language": "python",
      "name": "python3"
    },
    "language_info": {
      "codemirror_mode": {
        "name": "ipython",
        "version": 3
      },
      "file_extension": ".py",
      "mimetype": "text/x-python",
      "name": "python",
      "nbconvert_exporter": "python",
      "pygments_lexer": "ipython3",
      "version": "3.9.15"
    },
    "colab": {
      "provenance": []
    }
  },
  "nbformat": 4,
  "nbformat_minor": 5
}