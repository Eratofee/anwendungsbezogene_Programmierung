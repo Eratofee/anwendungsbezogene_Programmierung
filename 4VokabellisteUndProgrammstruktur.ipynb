{
  "cells": [
    {
      "cell_type": "markdown",
      "metadata": {
        "id": "view-in-github",
        "colab_type": "text"
      },
      "source": [
        "<a href=\"https://colab.research.google.com/github/Eratofee/anwendungsorientierte_Programmierung/blob/main/4VokabellisteUndProgrammstruktur.ipynb\" target=\"_parent\"><img src=\"https://colab.research.google.com/assets/colab-badge.svg\" alt=\"Open In Colab\"/></a>"
      ]
    },
    {
      "cell_type": "markdown",
      "id": "dc55ec8d",
      "metadata": {
        "id": "dc55ec8d"
      },
      "source": [
        "## Vokabelliste"
      ]
    },
    {
      "cell_type": "markdown",
      "id": "fb0d651b",
      "metadata": {
        "id": "fb0d651b"
      },
      "source": [
        "* Program\n",
        "* Algorithm\n",
        "* Function\n",
        "* Instruction\n",
        "* Operand\n",
        "* Operator\n",
        "* Return value\n",
        "* Module\n",
        "* Package\n",
        "* Library\n",
        "* API\n",
        "* Runtime\n",
        "* Back-end\n",
        "* Front-end"
      ]
    },
    {
      "cell_type": "markdown",
      "id": "b87bf75a",
      "metadata": {
        "id": "b87bf75a"
      },
      "source": [
        "* Keywords\n",
        "* High-level language\n",
        "* Low-level language\n",
        "* Machine language\n",
        "* Markup language"
      ]
    },
    {
      "cell_type": "markdown",
      "id": "47d4896c",
      "metadata": {
        "id": "47d4896c"
      },
      "source": [
        "* Data types\n",
        "* Char\n",
        "* Encoding (ASCII, UTF8)\n",
        "* String (Concatenation)\n",
        "* Integer\n",
        "* Float\n",
        "* Boolean\n",
        "* Casting\n",
        "* List\n",
        "* List Comprehension\n",
        "* Tuple\n",
        "* Set\n",
        "* Dictionary (Key, Value)\n",
        "* Array\n",
        "* (Im)mutable data type\n"
      ]
    },
    {
      "cell_type": "markdown",
      "id": "185c2a3d",
      "metadata": {
        "id": "185c2a3d"
      },
      "source": [
        "* Loop\n",
        "* Iteration\n",
        "* Indexing, Slicing\n",
        "* Conditionals\n",
        "* If-statement"
      ]
    },
    {
      "cell_type": "markdown",
      "id": "085ae0a0",
      "metadata": {
        "id": "085ae0a0"
      },
      "source": [
        "* Variable\n",
        "* Value\n",
        "* Assignment\n",
        "* Initialization\n",
        "* Constants\n",
        "* Pointer\n",
        "* Argument / Parameter\n"
      ]
    },
    {
      "cell_type": "markdown",
      "id": "41cfb430",
      "metadata": {
        "id": "41cfb430"
      },
      "source": [
        "* Object-Oriented Programming\n",
        "* Class\n",
        "* Child, Parent\n",
        "* Instance\n",
        "* Polymorphism\n",
        "* Inheritance\n",
        "* Method\n",
        "* inherent\n"
      ]
    },
    {
      "cell_type": "markdown",
      "id": "558132a5",
      "metadata": {
        "id": "558132a5"
      },
      "source": [
        "* Bug\n",
        "* Command-line\n",
        "* Editor\n",
        "* Notebook\n",
        "* Environment\n",
        "* Naming convention\n",
        "\n",
        "* plot()\n",
        "* print()\n"
      ]
    },
    {
      "cell_type": "markdown",
      "id": "c3df11fe",
      "metadata": {
        "id": "c3df11fe"
      },
      "source": [
        "## Wir übernehmen ein Miniprojekt und schreiben es um:\n",
        "(https://www.youtube.com/watch?v=DLn3jOsNRVE&t=291s)"
      ]
    },
    {
      "cell_type": "code",
      "execution_count": null,
      "id": "64944108",
      "metadata": {
        "id": "64944108"
      },
      "outputs": [],
      "source": [
        "print(\"Welcome to my computer quiz!\")\n",
        "\n",
        "playing = input(\"Do you want to play? \")\n",
        "\n",
        "if playing.lower() != \"yes\":\n",
        "    quit()\n",
        "\n",
        "print(\"Okay! Let's play :)\")\n",
        "score = 0\n",
        "\n",
        "answer = input(\"What does CPU stand for? \")\n",
        "if answer.lower() == \"central processing unit\":\n",
        "    print('Correct!')\n",
        "    score += 1\n",
        "else:\n",
        "    print(\"Incorrect!\")\n",
        "\n",
        "answer = input(\"What does GPU stand for? \")\n",
        "if answer.lower() == \"graphics processing unit\":\n",
        "    print('Correct!')\n",
        "    score += 1\n",
        "else:\n",
        "    print(\"Incorrect!\")\n",
        "\n",
        "answer = input(\"What does RAM stand for? \")\n",
        "if answer.lower() == \"random access memory\":\n",
        "    print('Correct!')\n",
        "    score += 1\n",
        "else:\n",
        "    print(\"Incorrect!\")\n",
        "\n",
        "answer = input(\"What does PSU stand for? \")\n",
        "if answer.lower() == \"power supply\":\n",
        "    print('Correct!')\n",
        "    score += 1\n",
        "else:\n",
        "    print(\"Incorrect!\")\n",
        "\n",
        "print(\"You got \" + str(score) + \" questions correct!\")\n",
        "print(\"You got \" + str((score / len(questions)) * 100) + \"%.\")"
      ]
    },
    {
      "cell_type": "markdown",
      "id": "8de40bd4",
      "metadata": {
        "id": "8de40bd4"
      },
      "source": [
        "### schlanker und übersichtlicher:\n",
        "Ziele:\n",
        "* Die Frage und Antwortpaar als Tupel in einer Liste gespeichert\n",
        "* Oben die Variablen definiert\n",
        "* Möglichst viel in Funktionen strukturieren\n",
        "* Ablauf klar sichtbar"
      ]
    },
    {
      "cell_type": "code",
      "execution_count": null,
      "id": "3f0fc206",
      "metadata": {
        "id": "3f0fc206"
      },
      "outputs": [],
      "source": [
        "import sys\n",
        "\n",
        "questions = [(\"What does CPU stand for? \", \"central processing unit\"),\n",
        "            (\"What does RAM stand for? \", \"random access memory\")]\n",
        "\n",
        "score = 0\n",
        "\n",
        "def start():\n",
        "    print(\"Welcome to my clearer computer quiz!\")\n",
        "    playing = input(\"Do you want to play? \")\n",
        "    if playing.lower() != \"yes\":\n",
        "        sys.exit(1)\n",
        "    print(\"Okay! Let's play :)\")\n",
        "\n",
        "def asking(question, answer_correct, score):\n",
        "    answer = input(question)\n",
        "    if answer.lower() == answer_correct:\n",
        "        print('Correct!')\n",
        "        score += 1\n",
        "    else:\n",
        "        print(\"Incorrect!\")\n",
        "    return score\n",
        "\n",
        "def end():\n",
        "    print(\"You got \" + str(score) + \" questions correct!\")\n",
        "    print(\"You got \" + str((score / len(questions)) * 100) + \"%.\")\n",
        "\n",
        "start()\n",
        "for question, answer_correct in questions:\n",
        "    score = asking(question, answer_correct, score)\n",
        "end()"
      ]
    },
    {
      "cell_type": "code",
      "execution_count": null,
      "id": "40dfdb1b",
      "metadata": {
        "id": "40dfdb1b"
      },
      "outputs": [],
      "source": []
    }
  ],
  "metadata": {
    "kernelspec": {
      "display_name": "Python 3 (ipykernel)",
      "language": "python",
      "name": "python3"
    },
    "language_info": {
      "codemirror_mode": {
        "name": "ipython",
        "version": 3
      },
      "file_extension": ".py",
      "mimetype": "text/x-python",
      "name": "python",
      "nbconvert_exporter": "python",
      "pygments_lexer": "ipython3",
      "version": "3.9.15"
    },
    "colab": {
      "provenance": [],
      "include_colab_link": true
    }
  },
  "nbformat": 4,
  "nbformat_minor": 5
}