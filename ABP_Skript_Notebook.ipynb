{
  "nbformat": 4,
  "nbformat_minor": 5,
  "metadata": {
    "name": "Ein großes Python Notebook",
    "language_info": {
      "name": "python"
    },
    "colab": {
      "provenance": [],
      "include_colab_link": true
    },
    "kernelspec": {
      "name": "python3",
      "display_name": "Python 3"
    }
  },
  "cells": [
    {
      "cell_type": "markdown",
      "metadata": {
        "id": "view-in-github",
        "colab_type": "text"
      },
      "source": [
        "<a href=\"https://colab.research.google.com/github/Eratofee/anwendungsbezogene_Programmierung/blob/main/ABP_Skript_Notebook.ipynb\" target=\"_parent\"><img src=\"https://colab.research.google.com/assets/colab-badge.svg\" alt=\"Open In Colab\"/></a>"
      ]
    },
    {
      "cell_type": "markdown",
      "metadata": {
        "id": "dMHnoxdzAuKk"
      },
      "source": [
        "# 1. Elementare Datentypen\n",
        "\n",
        "Python kennt diverse **elementare Datentypen** (auch \"primitive\" Datentypen genannt), die sich für einfach strukturierte Werte eignen. Dazu gehören insbesondere:\n",
        "\n",
        "- **String** (Text)\n",
        "- **Integer** (Ganzzahl)\n",
        "- **Float** (Gleitkommazahl)\n",
        "- **Boolean** (Wahrheitswert)"
      ],
      "id": "dMHnoxdzAuKk"
    },
    {
      "cell_type": "markdown",
      "metadata": {
        "id": "W-SwshyUAuKm"
      },
      "source": [
        "## 1.1. Übersicht elementare Datentypen\n",
        "\n",
        "Wir haben folgende Arten von elementaren Datentypen kennengelernt:\n",
        "\n",
        "| Typ       | Kennzeichen                | Besondere Funktionen bzw. Operationen        | Casting               |\n",
        "|-----------|----------------------------|----------------------------------------------|-----------------------|\n",
        "| **String**  | `\" \"` oder `' '`           | `+`, `text.upper()`, …                       | `str(number)`         |\n",
        "| **Integer** | Ganzzahl (z. B. `42`)     | `+`, `-`, `*`, `%`, `/`, `//`, `**`         | `int()`               |\n",
        "| **Float**   | Kommazahl (z. B. `3.14`)  | `+`, `-`, `*`, `%`, `/`, `//`, `**`         | `float()`             |\n",
        "| **Boolean** | `True` oder `False`       | `and`, `or`, `not`                           | `bool()`              |"
      ],
      "id": "W-SwshyUAuKm"
    },
    {
      "cell_type": "markdown",
      "metadata": {
        "id": "BlgVvN_yAuKn"
      },
      "source": [
        "## 1.2. Spezielle Funktionen für …"
      ],
      "id": "BlgVvN_yAuKn"
    },
    {
      "cell_type": "markdown",
      "metadata": {
        "id": "IsXs8QqLAuKn"
      },
      "source": [
        "### 1.2.1. Datentyp String\n",
        "\n",
        "Strings können unter anderem über **Indexing** und **Slicing** angesprochen werden. Außerdem stehen viele nützliche Methoden bereit:\n"
      ],
      "id": "IsXs8QqLAuKn"
    },
    {
      "cell_type": "code",
      "metadata": {
        "id": "JxLdFUprAuKo"
      },
      "source": [
        "name = input('Ihren Namen bitte: ')  # Nehmen wir an, man gibt \"Kasandra\" ein\n",
        "print(\"hello \" + name)\n",
        "print(3 + len(name))           # Anzahl der Zeichen + 3\n",
        "print(name.index(\"a\"))        # Index des ersten \"a\"\n",
        "print(name.count(\"a\"))        # Wie oft kommt \"a\" vor?\n",
        "print(name[3:7])               # Substring von Index 3 bis 6\n",
        "print(name[3:7:2])             # Substring in Schritten von 2\n",
        "print(name[::-1])              # String umdrehen\n",
        "\n",
        "rest = name.split(\"a\")         # Aufteilen am \"a\"\n",
        "print(name.upper())            # Alle Zeichen großschreiben\n",
        "print(name.lower())            # Alle Zeichen kleinschreiben\n",
        "print(name.startswith(\"Ka\"))   # Prüfen, ob String mit \"Ka\" beginnt\n",
        "print(name.endswith(\"asdfasdfasdf\"))  # Prüfen, ob String mit ... endet"
      ],
      "execution_count": null,
      "outputs": [],
      "id": "JxLdFUprAuKo"
    },
    {
      "cell_type": "markdown",
      "metadata": {
        "id": "6xii7UN9AuKo"
      },
      "source": [
        "### 1.2.2. Integer und Float\n",
        "\n",
        "Für die numerischen Datentypen Integer und Float stehen diverse Operatoren zur Verfügung:"
      ],
      "id": "6xii7UN9AuKo"
    },
    {
      "cell_type": "code",
      "metadata": {
        "id": "B4ye2fl_AuKp"
      },
      "source": [
        "print(3 + 3)     # Addition +\n",
        "print(3 - 3)     # Subtraktion -\n",
        "print(3 * 3)     # Multiplikation\n",
        "print(2 ** 3)    # Exponentiation **\n",
        "print(2 / 3)     # Division (Float-Ergebnis)\n",
        "print(2 // 3)    # Ganzzahlige Division\n",
        "print(8 % 3)     # Modulo\n",
        "print(9 ** (1/2))# Wurzel ziehen"
      ],
      "execution_count": null,
      "outputs": [],
      "id": "B4ye2fl_AuKp"
    },
    {
      "cell_type": "markdown",
      "metadata": {
        "id": "6ewnDwM2AuKp"
      },
      "source": [
        "### 1.2.3. Vergleiche und Logik (Boolean)\n",
        "\n",
        "Für **Vergleiche** verwenden wir Operatoren wie:\n",
        "\n",
        "- `==`  (ist gleich)\n",
        "- `!=`  (ist ungleich)\n",
        "- `<`   (kleiner als)\n",
        "- `<=`  (kleiner oder gleich)\n",
        "- `>`   (größer als)\n",
        "- `>=`  (größer oder gleich)\n",
        "\n",
        "Die **Logikoperatoren** lauten:\n",
        "\n",
        "- `and`: Nur wahr, wenn *beide* Operanden wahr sind\n",
        "- `or`:  Wahr, wenn *mindestens einer* der Operanden wahr ist\n",
        "- `not`: Negiert einen Wahrheitswert\n"
      ],
      "id": "6ewnDwM2AuKp"
    },
    {
      "cell_type": "markdown",
      "metadata": {
        "id": "Xq_tb-o6AuKq"
      },
      "source": [
        "# 2. Programmstruktur\n",
        "\n",
        "In Python ist der **Code-Aufbau** meist in Blöcken organisiert, die über **Einrückungen** definiert werden. Typischerweise verwendet man 4 Leerzeichen pro Ebene. Google empfiehlt 2, aber PEP 8 (der offizielle Python-Styleguide) rät zu 4."
      ],
      "id": "Xq_tb-o6AuKq"
    },
    {
      "cell_type": "markdown",
      "metadata": {
        "id": "6rzjiEl4AuKq"
      },
      "source": [
        "## 2.1. Sequenzielle Struktur\n",
        "Die einfachste Form eines Programms ist eine Abfolge von Anweisungen, die nacheinander ausgeführt werden:"
      ],
      "id": "6rzjiEl4AuKq"
    },
    {
      "cell_type": "markdown",
      "metadata": {
        "id": "qJ777IfTAuKr"
      },
      "source": [
        "## 2.2. Zuweisung\n",
        "\n",
        "Werte werden Variablen zugewiesen, indem man das Gleichheitszeichen `=` verwendet:\n",
        "\n",
        "```python\n",
        "variable = Wert\n",
        "```"
      ],
      "id": "qJ777IfTAuKr"
    },
    {
      "cell_type": "markdown",
      "metadata": {
        "id": "W_6NxIcRAuKr"
      },
      "source": [
        "## 2.3. Bedingung\n",
        "Bedingungen ermöglichen **Verzweigungen** im Programm."
      ],
      "id": "W_6NxIcRAuKr"
    },
    {
      "cell_type": "markdown",
      "metadata": {
        "id": "OdS2z-CSAuKs"
      },
      "source": [
        "### 2.3.1. Gewöhnliche Bedingung\n",
        "\n",
        "```python\n",
        "if Bedingung:\n",
        "    Anweisung\n",
        "elif weitere_Bedingung:\n",
        "    Anweisung\n",
        "else:\n",
        "    Anweisung_fuer_alle_restlichen_Faelle\n",
        "```"
      ],
      "id": "OdS2z-CSAuKs"
    },
    {
      "cell_type": "markdown",
      "metadata": {
        "id": "CAFKALNHAuKs"
      },
      "source": [
        "### 2.3.2. Verkürzte Form: Conditional Expressions\n",
        "\n",
        "```python\n",
        "A if Bedingung else B\n",
        "```\n",
        "\n",
        "Beispiel:"
      ],
      "id": "CAFKALNHAuKs"
    },
    {
      "cell_type": "code",
      "metadata": {
        "id": "h4ouDKazAuKs"
      },
      "source": [
        "wort = 'start'\n",
        "if wort == 'start':\n",
        "    x = 'los'\n",
        "else:\n",
        "    x = 'halt'\n",
        "print(x)\n",
        "\n",
        "# Dasselbe in Kurzform:\n",
        "print('los' if wort == 'start' else 'halt')"
      ],
      "execution_count": null,
      "outputs": [],
      "id": "h4ouDKazAuKs"
    },
    {
      "cell_type": "markdown",
      "metadata": {
        "id": "JB_4-a-dAuKs"
      },
      "source": [
        "## 2.4. Schleifen (loops)\n",
        "Schleifen ermöglichen wiederholte Codeausführung, bis eine Bedingung eintritt oder eine Datenstruktur abgearbeitet ist."
      ],
      "id": "JB_4-a-dAuKs"
    },
    {
      "cell_type": "markdown",
      "metadata": {
        "id": "dQjr9aYtAuKt"
      },
      "source": [
        "### 2.4.1. While-Schleife\n",
        "Die `while`-Schleife läuft, solange eine Bedingung `True` ist. Man kann sie mit `break` vorzeitig verlassen oder mit `continue` den aktuellen Durchlauf überspringen."
      ],
      "id": "dQjr9aYtAuKt"
    },
    {
      "cell_type": "code",
      "metadata": {
        "id": "JP-pxCFNAuKt"
      },
      "source": [
        "i = 1\n",
        "while True:\n",
        "    print(i)\n",
        "    if i == 39:\n",
        "        i = 61\n",
        "    else:\n",
        "        i = i + 1\n",
        "    if i > 100:\n",
        "        break\n",
        "\n",
        "# p.s. While-Schleifen mit True-Bedingung am Anfang braucht man,\n",
        "# wenn das erste in der Schleife auf JEDEN Fall gemacht werden soll\n",
        "# und nur eine Wiederholung von einer Bedingung abhängt.\n",
        "# Diese Bedingung wird dann per 'if -> break' geregelt."
      ],
      "execution_count": null,
      "outputs": [],
      "id": "JP-pxCFNAuKt"
    },
    {
      "cell_type": "markdown",
      "metadata": {
        "id": "ccAzWZr8AuKt"
      },
      "source": [
        "### 2.4.2. For-Schleife\n",
        "Die `for`-Schleife iteriert über alle Elemente einer Liste oder eines anderen iterierbaren Objekts. Z. B.:\n",
        "\n",
        "```python\n",
        "for element in liste:\n",
        "    # Tue etwas mit element\n",
        "```"
      ],
      "id": "ccAzWZr8AuKt"
    },
    {
      "cell_type": "markdown",
      "source": [
        "For-Schleife in Aktion in 3.2 nachdem wir uns dazu jetzt erst die Listen ansehen müssen:"
      ],
      "metadata": {
        "id": "YOuqYwkYBu10"
      },
      "id": "YOuqYwkYBu10"
    },
    {
      "cell_type": "markdown",
      "metadata": {
        "id": "yCwZ1cqoAuKu"
      },
      "source": [
        "# 3. Listen\n",
        "Listen sind eine erweiterte Datenstruktur, die mehrere Werte (auch unterschiedlichen Typs) enthalten können. Sie werden in eckigen Klammern definiert."
      ],
      "id": "yCwZ1cqoAuKu"
    },
    {
      "cell_type": "markdown",
      "metadata": {
        "id": "Be08zsm5AuKu"
      },
      "source": [
        "## 3.1. Definition und Funktionen\n",
        "Eine Liste definiert man einfach so:"
      ],
      "id": "Be08zsm5AuKu"
    },
    {
      "cell_type": "code",
      "metadata": {
        "id": "3VHdx5kEAuKu"
      },
      "source": [
        "alphabet = ['a','b','c','d','e','f','g','h','i','j','k','l','m','n',\n",
        "            'o','p','q','r','s','t','u','v','w','x','y','z']\n",
        "print(alphabet[10])  # Zugriff per Index, hier: 'k'"
      ],
      "execution_count": null,
      "outputs": [],
      "id": "3VHdx5kEAuKu"
    },
    {
      "cell_type": "markdown",
      "metadata": {
        "id": "uEnJjaIiAuKu"
      },
      "source": [
        "Für Listen existieren viele ähnliche Funktionen wie bei Strings, etwa `append()`, `remove()`, `sort()` und so weiter."
      ],
      "id": "uEnJjaIiAuKu"
    },
    {
      "cell_type": "markdown",
      "metadata": {
        "id": "rWwfN6SRAuKu"
      },
      "source": [
        "## 3.2. Anwendung For-Schleife\n",
        "Ein klassisches Beispiel:"
      ],
      "id": "rWwfN6SRAuKu"
    },
    {
      "cell_type": "code",
      "metadata": {
        "id": "hHVLsJnPAuKu"
      },
      "source": [
        "for buchstabe in alphabet:\n",
        "    print(buchstabe.upper())"
      ],
      "execution_count": null,
      "outputs": [],
      "id": "hHVLsJnPAuKu"
    },
    {
      "cell_type": "markdown",
      "metadata": {
        "id": "F5iGhvqNAuKv"
      },
      "source": [
        "## 3.3. Die Range Liste\n",
        "Eine spezielle \"Range-Liste\" für ganze Zahlen wird mit `range()` erzeugt."
      ],
      "id": "F5iGhvqNAuKv"
    },
    {
      "cell_type": "code",
      "metadata": {
        "collapsed": true,
        "id": "1uPvdb2oAuKv"
      },
      "source": [
        "ganze_Zahlen = list(range(1, 100, 10))\n",
        "print(ganze_Zahlen)\n",
        "\n",
        "for zahl in ganze_Zahlen:\n",
        "    print(zahl)"
      ],
      "execution_count": null,
      "outputs": [],
      "id": "1uPvdb2oAuKv"
    },
    {
      "cell_type": "markdown",
      "metadata": {
        "id": "5wCKUI3-AuKv"
      },
      "source": [
        "## 3.4. enumerate()\n",
        "Mit `enumerate()` erhält man zu den Elementen zusätzlich den **Index** in der Liste."
      ],
      "id": "5wCKUI3-AuKv"
    },
    {
      "cell_type": "code",
      "metadata": {
        "id": "iZssSfaAAuKv"
      },
      "source": [
        "for i, b_stabe in enumerate(alphabet):\n",
        "    print(b_stabe + ' ist der ' + str(i+1) + '. Buchstabe')"
      ],
      "execution_count": null,
      "outputs": [],
      "id": "iZssSfaAAuKv"
    },
    {
      "cell_type": "markdown",
      "metadata": {
        "id": "ATU3HC1pAuKv"
      },
      "source": [
        "## 3.5. List Comprehension\n",
        "Eine kompakte Schreibweise, um aus Iterablen oder über eine Bedingung hinaus neue Listen zu erstellen:\n",
        "\n",
        "```python\n",
        "newlist = [expression for item in iterable if condition]\n",
        "```"
      ],
      "id": "ATU3HC1pAuKv"
    },
    {
      "cell_type": "code",
      "metadata": {
        "id": "bavKUdK7AuKw"
      },
      "source": [
        "# Beispiel 1\n",
        "vocals = [alphabet[i] for i in [0,4,8,14,20]]\n",
        "print(vocals)\n",
        "\n",
        "# Beispiel 2\n",
        "squares = [x**2 for x in range(10)]\n",
        "print(squares)  # [0, 1, 4, 9, 16, 25, 36, 49, 64, 81]"
      ],
      "execution_count": null,
      "outputs": [],
      "id": "bavKUdK7AuKw"
    },
    {
      "cell_type": "markdown",
      "metadata": {
        "id": "Pka7j_P4AuKw"
      },
      "source": [
        "# 4. Weitere Datentypen\n",
        "Neben Listen gibt es weitere nützliche Strukturen in Python."
      ],
      "id": "Pka7j_P4AuKw"
    },
    {
      "cell_type": "markdown",
      "metadata": {
        "id": "aDEvCfeyAuKw"
      },
      "source": [
        "## 4.1. Tuple\n",
        "Tuples werden mit **runden Klammern** erstellt und sind **unveränderbar (immutable)**:"
      ],
      "id": "aDEvCfeyAuKw"
    },
    {
      "cell_type": "code",
      "metadata": {
        "id": "laBNUva1AuKw"
      },
      "source": [
        "t = (3, 6, 1, 2, 8, 1)\n",
        "print(t[2])  # Gibt 1 aus\n",
        "\n",
        "x = [1, 3, 2, 3]\n",
        "r = (x, 3)\n",
        "print(r)  # ([1, 3, 2, 3], 3)\n",
        "\n",
        "# t[3] = 0  # TypeError, da Tuple unveränderbar sind."
      ],
      "execution_count": null,
      "outputs": [],
      "id": "laBNUva1AuKw"
    },
    {
      "cell_type": "markdown",
      "metadata": {
        "id": "GfAAqTypAuKw"
      },
      "source": [
        "> **Hinweis:** Ein Tuple unterstützt zwar Lesezugriffe per Index, erlaubt aber kein Überschreiben bestehender Elemente."
      ],
      "id": "GfAAqTypAuKw"
    },
    {
      "cell_type": "markdown",
      "metadata": {
        "id": "Bk1y725WAuKx"
      },
      "source": [
        "## 4.2. Set\n",
        "Ein **Set** ist eine unstrukturierte Sammlung unveränderlicher Elemente *ohne Duplikate* und *ohne Reihenfolge*."
      ],
      "id": "Bk1y725WAuKx"
    },
    {
      "cell_type": "code",
      "metadata": {
        "id": "kgBQtx_9AuKx"
      },
      "source": [
        "korb = {'Apfel', 'Orange', 'Apfel', 'Pfirsich'}\n",
        "print(korb)  # {'Apfel', 'Orange', 'Pfirsich'}\n",
        "\n",
        "kleiner_korb = set(('Orange', 'Banane', 'Traube'))  # aus Tupel\n",
        "kleiner_korb = set(['Orange', 'Banane', 'Traube'])   # aus Liste\n",
        "\n",
        "# Beispielhafte Set-Operationen:\n",
        "# korb | kleiner_korb   # Vereinigung\n",
        "# korb & kleiner_korb   # Schnittmenge\n",
        "# korb ^ kleiner_korb   # Symmetrische Differenz"
      ],
      "execution_count": null,
      "outputs": [],
      "id": "kgBQtx_9AuKx"
    },
    {
      "cell_type": "markdown",
      "metadata": {
        "id": "KVNmyzqdAuKx"
      },
      "source": [
        "## 4.3. Dictionaries\n",
        "Ein Dictionary (oder **Hash-Map**) besteht aus **Schlüssel-Wert-Paaren**:\n",
        "```python\n",
        "{\n",
        "  key1: value1,\n",
        "  key2: value2,\n",
        "  ...\n",
        "}\n",
        "```\n",
        "Der Zugriff erfolgt über den Schlüssel."
      ],
      "id": "KVNmyzqdAuKx"
    },
    {
      "cell_type": "code",
      "metadata": {
        "id": "GrZerkd3AuKx"
      },
      "source": [
        "addressen = {'Wesinger': (\"Anton\",\"015736634098\"),\n",
        "             'Chris': \"01553443987\"}\n",
        "\n",
        "addressen['Antonia'] = \"Wohnheimzimmer 8\"\n",
        "print(addressen)\n",
        "\n",
        "print(addressen['Antonia'])  # Zugriff über den Schlüssel\n",
        "\n",
        "# Auflisten\n",
        "print(addressen.items())   # Schlüssel/Wert-Paare\n",
        "print(addressen.keys())    # nur Schlüssel\n",
        "print(addressen.values())  # nur Werte\n",
        "\n",
        "# Durch die Werte iterieren\n",
        "for item in addressen.values():\n",
        "    print(item)"
      ],
      "execution_count": null,
      "outputs": [],
      "id": "GrZerkd3AuKx"
    },
    {
      "cell_type": "markdown",
      "metadata": {
        "id": "ITQ7ObGpAuKy"
      },
      "source": [
        "# 5. Funktionen\n",
        "\n",
        "Funktionen werden in Python mit dem Schlüsselwort `def` definiert. Danach folgt ein Name und optionale Parameter in runden Klammern. Mit `return` kann ein Wert zurückgegeben werden."
      ],
      "id": "ITQ7ObGpAuKy"
    },
    {
      "cell_type": "code",
      "metadata": {
        "id": "RXIQLjxIAuKy"
      },
      "source": [
        "def get_age(birthyear, birthmonth, birthday,\n",
        "            todays_year, todays_month, todays_day):\n",
        "    age = todays_year - birthyear\n",
        "    if birthmonth >= todays_month:\n",
        "        if birthday > todays_day:\n",
        "            age = age - 1\n",
        "    return age\n",
        "\n",
        "print(get_age(1985, 12, 29, 2024, 12, 28))"
      ],
      "execution_count": null,
      "outputs": [],
      "id": "RXIQLjxIAuKy"
    },
    {
      "cell_type": "markdown",
      "metadata": {
        "id": "suVolV3zAuKy"
      },
      "source": [
        "# 6. Module\n",
        "Module ermöglichen das **Wiederverwenden** von Code in verschiedenen Skripten. Man kann sowohl eigene Dateien als Modul einbinden als auch fremde Bibliotheken."
      ],
      "id": "suVolV3zAuKy"
    },
    {
      "cell_type": "markdown",
      "metadata": {
        "id": "r6vU_TGEAuKy"
      },
      "source": [
        "## 6.1. Import\n",
        "Um bereits geschriebenen Code zu verwenden, importiert man ihn. Dafür stehen verschiedene Varianten zur Verfügung:"
      ],
      "id": "r6vU_TGEAuKy"
    },
    {
      "cell_type": "code",
      "metadata": {
        "id": "U21Q4NOqAuKy"
      },
      "source": [
        "# Beispiele am Modul 'numpy'\n",
        "from numpy import sqrt        # importiert nur sqrt aus numpy\n",
        "from numpy import *           # importiert ALLE Funktionen aus numpy\n",
        "import numpy as np           # offizieller Standard, z.B. np.array([...])\n"
      ],
      "execution_count": null,
      "outputs": [],
      "id": "U21Q4NOqAuKy"
    },
    {
      "cell_type": "markdown",
      "metadata": {
        "id": "Iq5VOHsRAuKz"
      },
      "source": [
        "Zusätzlich zum reinen lokalen Import kann Code auch über Plattformen wie **GitHub** oder andere Versionsverwaltungssysteme geteilt werden. So ist es möglich, ganze Projekte (Repositories) zu klonen und gemeinsam weiterzuentwickeln."
      ],
      "id": "Iq5VOHsRAuKz"
    },
    {
      "cell_type": "markdown",
      "metadata": {
        "id": "OaP499cHAuKz"
      },
      "source": [
        "## 6.2. Paketverwaltung mit pip\n",
        "Wenn ein Modul noch nicht lokal verfügbar ist, kann man es mit **`pip`** aus dem Python Package Index (PyPI) installieren. Beispielsweise:\n",
        "```bash\n",
        "pip install paketname\n",
        "```\n",
        "Danach ist das Paket in der Umgebung verfügbar und kann mit `import paketname` sofort genutzt werden. In größeren Projekten empfiehlt es sich zudem, **virtuelle Umgebungen** (`venv`) zu verwenden, um Versionskonflikte zu vermeiden."
      ],
      "id": "OaP499cHAuKz"
    },
    {
      "cell_type": "markdown",
      "metadata": {
        "id": "lDGCGC_vAuKz"
      },
      "source": [
        "## 6.3. Die beliebtesten Module\n",
        "\n",
        "Immer wieder tauchen in der Python-Welt bestimmte Pakete auf, die weitverbreitet und für viele Aufgaben unverzichtbar sind. Sie bilden häufig das Fundament für komplexe Projekte in den Bereichen Datenanalyse, maschinelles Lernen und wissenschaftliches Rechnen.\n"
      ],
      "id": "lDGCGC_vAuKz"
    },
    {
      "cell_type": "code",
      "metadata": {
        "id": "IoZoG6N6AuKz"
      },
      "source": [
        "# NumPy\n",
        "import numpy as np  # Bietet leistungsstarke Arrays und numerische Funktionen\n",
        "\n",
        "# Matplotlib\n",
        "import matplotlib.pyplot as plt  # Ermöglicht die Erstellung von Diagrammen\n",
        "\n",
        "# Pandas\n",
        "import pandas as pd  # Bietet komfortable DataFrames und Methoden für Datenanalyse\n",
        "\n",
        "# SciPy\n",
        "import scipy  # Erweiterung von NumPy um wissenschaftliche Funktionen\n",
        "\n",
        "# scikit-learn\n",
        "import sklearn  # Machine-Learning-Toolkit (Klassifikation, Regression, Clustering)"
      ],
      "execution_count": null,
      "outputs": [],
      "id": "IoZoG6N6AuKz"
    },
    {
      "cell_type": "markdown",
      "metadata": {
        "id": "tb40N558AuKz"
      },
      "source": [
        "# 7. Klassen\n",
        "Klassen sind selbst definierte **Datentypen** und bilden ein zentrales Element der objektorientierten Programmierung. Auch vordefinierte Datentypen wie `str` oder `int` sind in Wahrheit Klassen."
      ],
      "id": "tb40N558AuKz"
    },
    {
      "cell_type": "markdown",
      "metadata": {
        "id": "koTDeiDZAuK0"
      },
      "source": [
        "## 7.1. Konstruktor und Instanziierung\n",
        "Eine Klasse wird mit dem Schlüsselwort `class` eingeleitet, und Instanzattribute werden im Konstruktor (`__init__`) festgelegt."
      ],
      "id": "koTDeiDZAuK0"
    },
    {
      "cell_type": "code",
      "metadata": {
        "id": "V8R6PqGwAuK0"
      },
      "source": [
        "class Interval:\n",
        "    def __init__(self, name, cent):\n",
        "        self.name = name\n",
        "        self.cent = cent\n",
        "        self.description = \"no description yet\"\n",
        "\n",
        "    def add_description(self, description):\n",
        "        self.description = description\n",
        "\n",
        "    def show(self):\n",
        "        print(\"Name = \"+ self.name)\n",
        "        print(\"Interval in cents = \"+ str(self.cent))\n",
        "        if self.description != \"no description yet\":\n",
        "            print(\"Description = \"+ self.description)\n",
        "\n",
        "# Instanziierung:\n",
        "o = Interval(\"Oktave\", 1200)\n",
        "o.show()"
      ],
      "execution_count": null,
      "outputs": [],
      "id": "V8R6PqGwAuK0"
    },
    {
      "cell_type": "markdown",
      "metadata": {
        "id": "zHjMWB1MAuK0"
      },
      "source": [
        "> **Hinweis:** Der Konstruktor `__init__()` hat immer den Parameter `self` vorn, der die aktuelle Instanz repräsentiert. Zwar sieht es so aus, als habe er mehr Parameter als beim Aufruf, aber `self` wird automatisch übergeben."
      ],
      "id": "zHjMWB1MAuK0"
    },
    {
      "cell_type": "markdown",
      "metadata": {
        "id": "nSrzQhGSAuK0"
      },
      "source": [
        "### Vergleich: Vordefinierte Klasse `str`\n",
        "Selbst grundlegende Datentypen wie Zeichenketten sind Klassen:"
      ],
      "id": "nSrzQhGSAuK0"
    },
    {
      "cell_type": "code",
      "metadata": {
        "id": "nBeY7nZzAuK1"
      },
      "source": [
        "a = \"hund\"\n",
        "print(type(a))\n",
        "print(a.upper())"
      ],
      "execution_count": null,
      "outputs": [],
      "id": "nBeY7nZzAuK1"
    },
    {
      "cell_type": "markdown",
      "metadata": {
        "id": "tb2AWxV0AuK1"
      },
      "source": [
        "## 7.2. Vererbung\n",
        "Vererbung ermöglicht es, von einer existierenden Klasse (Basisklasse) neue Klassen (Subklassen) abzuleiten, die Attribute und Methoden der Elternklasse übernehmen und erweitern können."
      ],
      "id": "tb2AWxV0AuK1"
    },
    {
      "cell_type": "code",
      "metadata": {
        "id": "oUW5mQUWAuK1"
      },
      "source": [
        "# Basisklasse\n",
        "class Fahrzeug:\n",
        "    def __init__(self, marke, modell):\n",
        "        self.marke = marke\n",
        "        self.modell = modell\n",
        "\n",
        "    def beschleunigen(self):\n",
        "        print(f\"{self.marke} {self.modell} beschleunigt.\")\n",
        "\n",
        "# Subklasse\n",
        "class Auto(Fahrzeug):\n",
        "    def __init__(self, marke, modell, anzahl_tueren):\n",
        "        super().__init__(marke, modell)\n",
        "        self.anzahl_tueren = anzahl_tueren\n",
        "\n",
        "    def hupen(self):\n",
        "        print(f\"{self.marke} {self.modell} hupt.\")\n",
        "\n",
        "# Subklasse\n",
        "class Motorrad(Fahrzeug):\n",
        "    def __init__(self, marke, modell, typ):\n",
        "        super().__init__(marke, modell)\n",
        "        self.typ = typ\n",
        "\n",
        "    def wheelie(self):\n",
        "        print(f\"{self.marke} {self.modell} macht einen Wheelie.\")\n",
        "\n",
        "# Objekte erstellen\n",
        "auto1 = Auto(\"Volkswagen\", \"Golf\", 4)\n",
        "motorrad1 = Motorrad(\"Honda\", \"CBR600RR\", \"Sport\")\n",
        "\n",
        "# Methoden aufrufen\n",
        "auto1.beschleunigen()\n",
        "auto1.hupen()\n",
        "\n",
        "motorrad1.beschleunigen()\n",
        "motorrad1.wheelie()"
      ],
      "execution_count": null,
      "outputs": [],
      "id": "oUW5mQUWAuK1"
    },
    {
      "cell_type": "markdown",
      "metadata": {
        "id": "8yZ7zpxzAuK1"
      },
      "source": [
        "Ein weiteres Beispiel zeigt, wie **Polymorphismus** funktioniert: Die Methode `beschleunigen()` wird in jeder Subklasse anders implementiert, doch beim Aufrufen entscheidet Python automatisch, welche Version verwendet wird."
      ],
      "id": "8yZ7zpxzAuK1"
    },
    {
      "cell_type": "code",
      "metadata": {
        "id": "4r6aX321AuK1"
      },
      "source": [
        "class Fahrzeug:\n",
        "    def __init__(self, marke, modell):\n",
        "        self.marke = marke\n",
        "        self.modell = modell\n",
        "\n",
        "    def beschleunigen(self):\n",
        "        pass\n",
        "\n",
        "class Auto(Fahrzeug):\n",
        "    def __init__(self, marke, modell, anzahl_tueren):\n",
        "        super().__init__(marke, modell)\n",
        "        self.anzahl_tueren = anzahl_tueren\n",
        "\n",
        "    def beschleunigen(self):\n",
        "        print(f\"{self.marke} {self.modell} beschleunigt.\")\n",
        "\n",
        "class Motorrad(Fahrzeug):\n",
        "    def __init__(self, marke, modell, typ):\n",
        "        super().__init__(marke, modell)\n",
        "        self.typ = typ\n",
        "\n",
        "    def beschleunigen(self):\n",
        "        print(f\"{self.marke} {self.modell} beschleunigt mit einem Wheelie.\")\n",
        "\n",
        "fahrzeuge = [\n",
        "    Auto(\"Volkswagen\", \"Golf\", 4),\n",
        "    Motorrad(\"Honda\", \"CBR600RR\", \"Sport\"),\n",
        "    Auto(\"BMW\", \"X5\", 5)\n",
        "]\n",
        "\n",
        "for fahrzeug in fahrzeuge:\n",
        "    fahrzeug.beschleunigen()"
      ],
      "execution_count": null,
      "outputs": [],
      "id": "4r6aX321AuK1"
    },
    {
      "cell_type": "markdown",
      "metadata": {
        "id": "-jTmnFZBAuK1"
      },
      "source": [
        "# 8. File IO\n",
        "\n",
        "IO bedeutet **Input/Output**. Man kann also Daten in Dateien schreiben (Output) und wieder einlesen (Input)."
      ],
      "id": "-jTmnFZBAuK1"
    },
    {
      "cell_type": "markdown",
      "metadata": {
        "id": "hiv9Chk8AuK2"
      },
      "source": [
        "### In eine Datei schreiben\n",
        "Dazu öffnet man eine Datei im **Schreibmodus** (`'w'`) und schreibt mit Funktionen wie `writelines()` oder `write()` in sie:"
      ],
      "id": "hiv9Chk8AuK2"
    },
    {
      "cell_type": "code",
      "metadata": {
        "id": "jh_B33yWAuK2"
      },
      "source": [
        "with open('readme.txt', 'w') as f:\n",
        "    f.writelines('read me!')"
      ],
      "execution_count": null,
      "outputs": [],
      "id": "jh_B33yWAuK2"
    },
    {
      "cell_type": "markdown",
      "metadata": {
        "id": "EsfiFWe1AuK2"
      },
      "source": [
        "### Aus einer Datei lesen\n",
        "Will man eine Datei auslesen, nutzt man meist den **Lesemodus** (Standard, kein zusätzlicher Buchstabe) und kann Zeilen z. B. per `readlines()` in einer Liste speichern. Die `with`-Anweisung schließt die Datei anschließend automatisch."
      ],
      "id": "EsfiFWe1AuK2"
    },
    {
      "cell_type": "code",
      "metadata": {
        "id": "E6ZQlJNJAuK2"
      },
      "source": [
        "with open('readme.txt') as f:\n",
        "    lines = f.readlines()\n",
        "print(lines)"
      ],
      "execution_count": null,
      "outputs": [],
      "id": "E6ZQlJNJAuK2"
    },
    {
      "cell_type": "markdown",
      "metadata": {
        "id": "wL-93lxRAuK3"
      },
      "source": [
        "So kann man in Python eine Datei öffnen und jede Zeile als Element einer Liste einlesen. Die `with`-Anweisung kümmert sich dabei automatisch um das Öffnen und Schließen der Datei, sodass die Ressource nach Gebrauch sauber freigegeben wird."
      ],
      "id": "wL-93lxRAuK3"
    },
    {
      "cell_type": "markdown",
      "metadata": {
        "id": "15UPQfIZAuK3"
      },
      "source": [
        "# 9. Vokabelliste\n",
        "\n",
        "Diese Liste darf zum Nachschauen anregen, wenn einige Begriffe unklar sein sollten. Sie ist ein Überblick über die Themen, mit denen wir uns bereits beschäftigt haben:\n",
        "\n",
        "- **Programm**\n",
        "- **Algorithm**\n",
        "- **Function**\n",
        "- **Instruction**\n",
        "- **Operand**\n",
        "- **Operator**\n",
        "- **Return value**\n",
        "- **Module**\n",
        "- **Package**\n",
        "- **Library**\n",
        "- **API**\n",
        "- **Runtime**\n",
        "- **Back-end**\n",
        "- **Front-end**\n",
        "- **Keywords**\n",
        "- **High-level language**\n",
        "- **Low-level language**\n",
        "- **Machine language**\n",
        "- **Markup language**\n",
        "\n",
        "- **Data types**\n",
        "- **Char**\n",
        "- **Encoding (ASCII, UTF8)**\n",
        "- **String (Concatenation)**\n",
        "- **Integer**\n",
        "- **Float**\n",
        "- **Boolean**\n",
        "- **Casting**\n",
        "- **List**\n",
        "- **List Comprehension**\n",
        "- **Tuple**\n",
        "- **Set**\n",
        "- **Dictionary (Key, Value)**\n",
        "- **Array**\n",
        "- **(Im)mutable data type**\n",
        "- **Loop**\n",
        "- **Iteration**\n",
        "- **Indexing, Slicing**\n",
        "- **Conditionals**\n",
        "- **If-statement**\n",
        "- **Variable**\n",
        "- **Value**\n",
        "- **Assignment**\n",
        "- **Initialization**\n",
        "- **Constants**\n",
        "- **Argument / Parameter**\n",
        "\n",
        "- **Object-Oriented Programming**\n",
        "- **Class**\n",
        "- **Child, Parent**\n",
        "- **Instance**\n",
        "- **Polymorphism**\n",
        "- **Inheritance**\n",
        "- **Method**\n",
        "- **inherent**\n",
        "\n",
        "- **Bug**\n",
        "- **Command-line**\n",
        "- **Editor**\n",
        "- **Notebook**\n",
        "- **Environment**\n",
        "- **Naming convention**\n",
        "\n",
        "- **plot()**\n",
        "- **print()**"
      ],
      "id": "15UPQfIZAuK3"
    }
  ]
}