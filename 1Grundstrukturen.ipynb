{
  "cells": [
    {
      "cell_type": "markdown",
      "metadata": {
        "id": "view-in-github",
        "colab_type": "text"
      },
      "source": [
        "<a href=\"https://colab.research.google.com/github/Eratofee/python_for_beginners/blob/main/1Grundstrukturen.ipynb\" target=\"_parent\"><img src=\"https://colab.research.google.com/assets/colab-badge.svg\" alt=\"Open In Colab\"/></a>"
      ]
    },
    {
      "cell_type": "markdown",
      "id": "962c3531",
      "metadata": {
        "id": "962c3531"
      },
      "source": [
        "# 1. print(), Variablen, Bedingungen, elementare Datentypen und deren Operationen"
      ]
    },
    {
      "cell_type": "markdown",
      "id": "a3817ab9",
      "metadata": {
        "id": "a3817ab9"
      },
      "source": [
        "## das Wichtigste zuerst: Hello World!\n",
        "## print() und Variablen"
      ]
    },
    {
      "cell_type": "code",
      "execution_count": null,
      "id": "86ecdd46",
      "metadata": {
        "id": "86ecdd46"
      },
      "outputs": [],
      "source": [
        "print(\"Hello, World\")"
      ]
    },
    {
      "cell_type": "code",
      "execution_count": null,
      "id": "8d7e31ab",
      "metadata": {
        "id": "8d7e31ab"
      },
      "outputs": [],
      "source": [
        "text = \"Hello, \\n World\"\n",
        "print(text)"
      ]
    },
    {
      "cell_type": "markdown",
      "id": "2672d8ad",
      "metadata": {
        "id": "2672d8ad"
      },
      "source": [
        "## der Datentyp \"String\""
      ]
    },
    {
      "cell_type": "markdown",
      "id": "481ced3c",
      "metadata": {
        "id": "481ced3c"
      },
      "source": [
        "ist eine Zeichenfolge aus einem bekannten Zeichensatz. Zur Unterscheidung von Variablen oder Zahlen werden Strings in einfache oder doppelten Anführungsstriche gesetzt. Mit **+** können NUR Strings konkateniert werden. Unter anderen Sonderzeichen werden auch das Leerzeichen und der Zeilenumbruch (**\\n**) als Strings oder Teil eines Strings gespeichert."
      ]
    },
    {
      "cell_type": "code",
      "execution_count": null,
      "id": "69151865",
      "metadata": {
        "id": "69151865"
      },
      "outputs": [],
      "source": [
        "name = input('Ihren Namen bitte: ')"
      ]
    },
    {
      "cell_type": "code",
      "execution_count": null,
      "id": "d7161465",
      "metadata": {
        "scrolled": true,
        "id": "d7161465"
      },
      "outputs": [],
      "source": [
        "print(\"hello \"+ name)"
      ]
    },
    {
      "cell_type": "code",
      "execution_count": null,
      "id": "21c720c6",
      "metadata": {
        "id": "21c720c6"
      },
      "outputs": [],
      "source": [
        "print(3 + len(name))"
      ]
    },
    {
      "cell_type": "code",
      "execution_count": null,
      "id": "8d9743c4",
      "metadata": {
        "id": "8d9743c4"
      },
      "outputs": [],
      "source": [
        "print(name.index(\"a\"))"
      ]
    },
    {
      "cell_type": "code",
      "execution_count": null,
      "id": "6cf01ba9",
      "metadata": {
        "id": "6cf01ba9"
      },
      "outputs": [],
      "source": [
        "name.count(\"a\")"
      ]
    },
    {
      "cell_type": "code",
      "execution_count": null,
      "id": "51026cf0",
      "metadata": {
        "id": "51026cf0"
      },
      "outputs": [],
      "source": [
        "print(name[3:7])"
      ]
    },
    {
      "cell_type": "code",
      "execution_count": null,
      "id": "92fa3740",
      "metadata": {
        "id": "92fa3740"
      },
      "outputs": [],
      "source": [
        "name[3:7:2]"
      ]
    },
    {
      "cell_type": "code",
      "execution_count": null,
      "id": "9d2eb533",
      "metadata": {
        "id": "9d2eb533"
      },
      "outputs": [],
      "source": [
        "name[::-1]"
      ]
    },
    {
      "cell_type": "code",
      "execution_count": null,
      "id": "5ee1bf67",
      "metadata": {
        "id": "5ee1bf67"
      },
      "outputs": [],
      "source": [
        "rest = name.split(\"a\")\n",
        "print(rest)"
      ]
    },
    {
      "cell_type": "code",
      "execution_count": null,
      "id": "1696934d",
      "metadata": {
        "id": "1696934d"
      },
      "outputs": [],
      "source": [
        "print(name.upper())\n",
        "print(name.lower())\n",
        "print(name)"
      ]
    },
    {
      "cell_type": "code",
      "execution_count": null,
      "id": "f91ab814",
      "metadata": {
        "id": "f91ab814"
      },
      "outputs": [],
      "source": [
        "print(name.startswith(\"Ka\"))\n",
        "print(name.endswith(\"asdfasdfasdf\"))"
      ]
    },
    {
      "cell_type": "markdown",
      "id": "bad8785a",
      "metadata": {
        "id": "bad8785a"
      },
      "source": [
        "## der Datentyp \"Boolean\", logische Operatoren und if-conditions"
      ]
    },
    {
      "cell_type": "code",
      "execution_count": null,
      "id": "59111b6b",
      "metadata": {
        "id": "59111b6b"
      },
      "outputs": [],
      "source": [
        "street_is_wet = True\n",
        "i_used_the_garden_hose = False"
      ]
    },
    {
      "cell_type": "markdown",
      "id": "7d8446cf",
      "metadata": {
        "id": "7d8446cf"
      },
      "source": [
        "Logische Operatoren = and, or und not"
      ]
    },
    {
      "cell_type": "code",
      "execution_count": null,
      "id": "45192cbc",
      "metadata": {
        "id": "45192cbc"
      },
      "outputs": [],
      "source": [
        "it_was_raining = street_is_wet and not i_used_the_garden_hose\n",
        "print(it_was_raining)"
      ]
    },
    {
      "cell_type": "markdown",
      "id": "24ac4ea4",
      "metadata": {
        "id": "24ac4ea4"
      },
      "source": [
        "Eine if-Verzweigung ist eine Kontrollstruktur. Ein Teil des Programms wird nur ausgefuehrt, wenn eine bestimmte Bedingung erfuellt ist. Besonders fuer Python ist die Einrueckung um 4 Leerzeichen bzw. einen Tab."
      ]
    },
    {
      "cell_type": "code",
      "execution_count": null,
      "id": "afa7f2fa",
      "metadata": {
        "id": "afa7f2fa"
      },
      "outputs": [],
      "source": [
        "if it_was_raining:\n",
        "    print(\"I stay at home!\")\n",
        "else:\n",
        "    print(\"I'll go for a walk!\")"
      ]
    },
    {
      "cell_type": "markdown",
      "id": "40fcc5e7",
      "metadata": {
        "id": "40fcc5e7"
      },
      "source": [
        "Ein Vergleich erschafft einen internen Boolean. Vergleichsoperatoren in Python:"
      ]
    },
    {
      "cell_type": "markdown",
      "id": "2b54b5fc",
      "metadata": {
        "id": "2b54b5fc"
      },
      "source": [
        "| Vergleich        | Bedeutung               |\n",
        "|------------------|-------------------------|\n",
        "| wert_1 == wert_2 | Ist gleich              |\n",
        "| wert_1 != wert_2 | Ist ungleich            |\n",
        "| wert_1 < wert_2  | Kleiner als             |\n",
        "| wert_1 <= wert_2 | Kleiner oder gleich als |\n",
        "| wert_1 > wert_2  | Grösser als             |\n",
        "| wert_1 >= wert_2 | Größer oder gleich als  |"
      ]
    },
    {
      "cell_type": "code",
      "execution_count": null,
      "id": "286c2e7f",
      "metadata": {
        "id": "286c2e7f"
      },
      "outputs": [],
      "source": [
        "rainfall_intensity = int(input())\n",
        "if rainfall_intensity > 3:\n",
        "    print(\"I stay at home!\")\n",
        "elif rainfall_intensity >= 1:\n",
        "    print(\"I'll go for a short walk!\")\n",
        "else:\n",
        "    print(\"I'll go for a walk!\")"
      ]
    },
    {
      "cell_type": "markdown",
      "id": "962f8cd3",
      "metadata": {
        "id": "962f8cd3"
      },
      "source": [
        "## die Datentypen int und float, casting und ein paar Grundrechenarten"
      ]
    },
    {
      "cell_type": "code",
      "execution_count": null,
      "id": "9030d15e",
      "metadata": {
        "id": "9030d15e"
      },
      "outputs": [],
      "source": [
        "ws_kmh = input('Windgeschwindigkeit in km/h: ')"
      ]
    },
    {
      "cell_type": "code",
      "execution_count": null,
      "id": "e277ce90",
      "metadata": {
        "id": "e277ce90"
      },
      "outputs": [],
      "source": [
        "print('Windgeschwindigkeit in km/h: ' + ws_kmh + 'km/h')"
      ]
    },
    {
      "cell_type": "markdown",
      "id": "3fddc274",
      "metadata": {
        "id": "3fddc274"
      },
      "source": [
        "Da die Zahl ws_kmh aus dem Input gelesen wurde, wird sie als String behandelt. Sie muss erst zu 'float' umgewandelt werden (casting)."
      ]
    },
    {
      "cell_type": "code",
      "execution_count": null,
      "id": "1b9143b1",
      "metadata": {
        "id": "1b9143b1"
      },
      "outputs": [],
      "source": [
        "ws_mph = float(ws_kmh) * 0.621"
      ]
    },
    {
      "cell_type": "code",
      "execution_count": null,
      "id": "1229a280",
      "metadata": {
        "id": "1229a280"
      },
      "outputs": [],
      "source": [
        "ws_mph"
      ]
    },
    {
      "cell_type": "code",
      "execution_count": null,
      "id": "114cae02",
      "metadata": {
        "id": "114cae02"
      },
      "outputs": [],
      "source": [
        "km2miles = 0.621\n",
        "miles2km = 1.609344\n",
        "kmh2knoten = 0.540"
      ]
    },
    {
      "cell_type": "code",
      "execution_count": null,
      "id": "d619dee6",
      "metadata": {
        "scrolled": true,
        "id": "d619dee6"
      },
      "outputs": [],
      "source": [
        "print(3+3)    # Addition +\n",
        "print(3-3)    # Subtraktion -\n",
        "print(3*3)    # Multiplikation\n",
        "print(2**3)   # Exponieren **\n",
        "print(2/3)    # Division /\n",
        "print(2//3)   # Division ohne Rest //\n",
        "print(8%3)      # Modulo %\n",
        "print(9**(1/2))     # Wurzel ziehen **"
      ]
    },
    {
      "cell_type": "markdown",
      "id": "9122736d",
      "metadata": {
        "id": "9122736d"
      },
      "source": [
        "Nebenbei aber SEHR wichtig: durch die Raute leitet man einen Kommentar ein. Der Inhalt der restlichen Zeile wird vom Interpreter nicht mehr gelesen. Ein Kommentar dient dem Programmierer (und dessen Nachfolgern) zur naeheren Erklaerung des Codes."
      ]
    },
    {
      "cell_type": "markdown",
      "id": "be41b979",
      "metadata": {
        "id": "be41b979"
      },
      "source": [
        "## Mini-Aufgabe:\n",
        "Fragen Sie die Geschwindigkeit ab und speichern Sie sie in der Variable **ws**."
      ]
    },
    {
      "cell_type": "code",
      "execution_count": null,
      "id": "c7d01a5f",
      "metadata": {
        "id": "c7d01a5f"
      },
      "outputs": [],
      "source": [
        "ws = input(\"Geschwindigkeit: \")"
      ]
    },
    {
      "cell_type": "markdown",
      "id": "e70d0640",
      "metadata": {
        "id": "e70d0640"
      },
      "source": [
        "Fragen Sie zusätzlich die Einheit ab (\"km\" oder \"miles\") und speichern sie diese in **unit**."
      ]
    },
    {
      "cell_type": "code",
      "execution_count": null,
      "id": "0ec6ffd8",
      "metadata": {
        "id": "0ec6ffd8"
      },
      "outputs": [],
      "source": [
        "unit = input(\"km or miles?: \")"
      ]
    },
    {
      "cell_type": "markdown",
      "id": "4f724870",
      "metadata": {
        "id": "4f724870"
      },
      "source": [
        "Geben Sie die Windgeschwindigkeit in Knoten und jeweils noch fehlende Einheit aus. Z.B. \"die Windgeschwindigkeit betraegt x Knoten und y km/h bzw. mph.\" Kleiner Tipp: Denken Sie an eine Verzweigung mit einem IF-Statement."
      ]
    },
    {
      "cell_type": "code",
      "execution_count": null,
      "id": "1ed62536",
      "metadata": {
        "id": "1ed62536"
      },
      "outputs": [],
      "source": [
        "if unit == \"km\":\n",
        "    kn = float(ws)*kmh2knoten\n",
        "    mph = float(ws)*km2miles\n",
        "    print( \"die Windgeschwindigkeit betraegt \" + str(kn) + \" Knoten und \" + str(mph) + \" mph.\")\n",
        "\n",
        "elif unit == \"miles\":\n",
        "    km = float(ws)*miles2km\n",
        "    kn = km*kmh2knoten\n",
        "    print( \"die Windgeschwindigkeit betraegt \" + str(kn) + \" Knoten und \" + str(km) + \" km.\")"
      ]
    }
  ],
  "metadata": {
    "kernelspec": {
      "display_name": "Python 3 (ipykernel)",
      "language": "python",
      "name": "python3"
    },
    "language_info": {
      "codemirror_mode": {
        "name": "ipython",
        "version": 3
      },
      "file_extension": ".py",
      "mimetype": "text/x-python",
      "name": "python",
      "nbconvert_exporter": "python",
      "pygments_lexer": "ipython3",
      "version": "3.9.15"
    },
    "colab": {
      "provenance": [],
      "include_colab_link": true
    }
  },
  "nbformat": 4,
  "nbformat_minor": 5
}