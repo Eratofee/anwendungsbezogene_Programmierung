{
  "cells": [
    {
      "cell_type": "markdown",
      "metadata": {
        "id": "view-in-github",
        "colab_type": "text"
      },
      "source": [
        "<a href=\"https://colab.research.google.com/github/Eratofee/anwendungsbezogene_Programmierung/blob/main/2Funktionen.ipynb\" target=\"_parent\"><img src=\"https://colab.research.google.com/assets/colab-badge.svg\" alt=\"Open In Colab\"/></a>"
      ]
    },
    {
      "cell_type": "markdown",
      "id": "0b72e800",
      "metadata": {
        "id": "0b72e800"
      },
      "source": [
        "# Listen, Schleifen, Funktionen"
      ]
    },
    {
      "cell_type": "markdown",
      "id": "7136f6c1",
      "metadata": {
        "id": "7136f6c1"
      },
      "source": [
        "## Erweiterung zu Bedingungen:"
      ]
    },
    {
      "cell_type": "markdown",
      "id": "55222f00",
      "metadata": {
        "id": "55222f00"
      },
      "source": [
        "### Die While-Schleife"
      ]
    },
    {
      "cell_type": "markdown",
      "id": "85a7070f",
      "metadata": {
        "id": "85a7070f"
      },
      "source": [
        "Allgemeine Form:"
      ]
    },
    {
      "cell_type": "markdown",
      "id": "525f261d",
      "metadata": {
        "id": "525f261d"
      },
      "source": [
        "```python\n",
        "while Bedingung:\n",
        "        Anweisungsblock\n",
        "        if Bedingung:\n",
        "                Anweisungsblock\n",
        "                continue\n",
        "        Anweisungsblock\n",
        "        if Bedingung:\n",
        "                Anweisungsblock\n",
        "                break\n",
        "        Anweisungsblock\n",
        "else:\n",
        "        Anweisungsblock\n",
        "```"
      ]
    },
    {
      "cell_type": "code",
      "execution_count": null,
      "id": "45be8568",
      "metadata": {
        "id": "45be8568"
      },
      "outputs": [],
      "source": [
        "insert = \"go\"\n",
        "while insert == \"go\":\n",
        "    print(\"es goht weiter\")\n",
        "    insert = input()"
      ]
    },
    {
      "cell_type": "markdown",
      "id": "f506dd25",
      "metadata": {
        "id": "f506dd25"
      },
      "source": [
        "Platz für Aufgabe aus den Folien:"
      ]
    },
    {
      "cell_type": "code",
      "execution_count": null,
      "id": "23329bbf",
      "metadata": {
        "id": "23329bbf"
      },
      "outputs": [],
      "source": []
    },
    {
      "cell_type": "markdown",
      "id": "e36cbadb",
      "metadata": {
        "id": "e36cbadb"
      },
      "source": [
        "### Conditional Expressions"
      ]
    },
    {
      "cell_type": "markdown",
      "id": "f31b9797",
      "metadata": {
        "id": "f31b9797"
      },
      "source": [
        "Wiederholung:"
      ]
    },
    {
      "cell_type": "code",
      "execution_count": null,
      "id": "8f2649f4",
      "metadata": {
        "id": "8f2649f4"
      },
      "outputs": [],
      "source": [
        "wort = 'start'\n",
        "if wort == 'start':\n",
        "    x = 'los'\n",
        "else:\n",
        "    x = 'halt'\n",
        "print(x)"
      ]
    },
    {
      "cell_type": "markdown",
      "id": "0c1b8eb4",
      "metadata": {
        "id": "0c1b8eb4"
      },
      "source": [
        "die gleiche Zuweisung mit der Conditional Expression"
      ]
    },
    {
      "cell_type": "code",
      "execution_count": null,
      "id": "6f1df9cd",
      "metadata": {
        "id": "6f1df9cd"
      },
      "outputs": [],
      "source": [
        "wort = 'start'\n",
        "x = ('los' if wort == 'start' else 'halt')\n",
        "print(x)"
      ]
    },
    {
      "cell_type": "markdown",
      "id": "5370ea48",
      "metadata": {
        "id": "5370ea48"
      },
      "source": [
        "Ganz allgemein gilt folgende Form für eine Conditional Expression:\n",
        "\n",
        "(A if Bedingung else B)\n",
        "\n",
        "So kann die ganze Conditional Expression anstelle eines einzelnen Wertes oder Variablen als Argument einer Methode übergeben werden:"
      ]
    },
    {
      "cell_type": "code",
      "execution_count": null,
      "id": "1cd3d823",
      "metadata": {
        "id": "1cd3d823"
      },
      "outputs": [],
      "source": [
        "print('los' if wort=='start' else 'halt')"
      ]
    },
    {
      "cell_type": "markdown",
      "id": "d2396a76",
      "metadata": {
        "id": "d2396a76"
      },
      "source": [
        "## Listen"
      ]
    },
    {
      "cell_type": "code",
      "execution_count": null,
      "id": "ad5d29dd",
      "metadata": {
        "id": "ad5d29dd"
      },
      "outputs": [],
      "source": [
        "alphabet = ['a','b','c','d','e','f','g','h','i','j','k','l','m','n','o','p','q','r','s','t','u','v','w','x','y','z']\n",
        "print(alphabet[10])"
      ]
    },
    {
      "cell_type": "code",
      "execution_count": null,
      "id": "6db23e3e",
      "metadata": {
        "id": "6db23e3e"
      },
      "outputs": [],
      "source": [
        "liste = [2,'d',3.7,'letzte']"
      ]
    },
    {
      "cell_type": "markdown",
      "id": "f1a3a3bc",
      "metadata": {
        "id": "f1a3a3bc"
      },
      "source": [
        "Eine Liste ist wie ein String ein sequentieller Datentyp (im Beispiel in variable \"s\"). Für diese sind folgende Operationen definiert:"
      ]
    },
    {
      "cell_type": "code",
      "execution_count": null,
      "id": "57d7ea01",
      "metadata": {
        "id": "57d7ea01"
      },
      "outputs": [],
      "source": [
        "s = alphabet\n",
        "x = \"a\"\n",
        "t = [\"aa\",\"bb\"]\n",
        "n = 3\n",
        "i = 0\n",
        "j = 6\n",
        "k = 2"
      ]
    },
    {
      "cell_type": "code",
      "execution_count": null,
      "id": "43e5bbcb",
      "metadata": {
        "id": "43e5bbcb"
      },
      "outputs": [],
      "source": [
        "x in s      # prüft ob sich x in s befindet"
      ]
    },
    {
      "cell_type": "code",
      "source": [
        "x not in s  # prüft ob sich x nicht in s befindet"
      ],
      "metadata": {
        "id": "DlHw9EGm0x8V"
      },
      "id": "DlHw9EGm0x8V",
      "execution_count": null,
      "outputs": []
    },
    {
      "cell_type": "code",
      "source": [
        "s+t         # erzeugt Verkettung von s und t als neue Sequenz"
      ],
      "metadata": {
        "id": "tEj8oXuD00Xj"
      },
      "id": "tEj8oXuD00Xj",
      "execution_count": null,
      "outputs": []
    },
    {
      "cell_type": "code",
      "source": [
        "t*n         # liefert neue Sequenz in der die Sequenz t (['aa', 'bb']) n-fach kopiert ist,"
      ],
      "metadata": {
        "id": "UBPnAkW10-t3"
      },
      "id": "UBPnAkW10-t3",
      "execution_count": null,
      "outputs": []
    },
    {
      "cell_type": "code",
      "source": [
        "s[i]        # liefert das i.te Element der Sequenz s,"
      ],
      "metadata": {
        "id": "jyYHeZhX1BJj"
      },
      "id": "jyYHeZhX1BJj",
      "execution_count": null,
      "outputs": []
    },
    {
      "cell_type": "code",
      "source": [
        "s[i:j]      # liefert den Ausschnitt von Index i bis Index j von s,"
      ],
      "metadata": {
        "id": "RusCrL1U1CFM"
      },
      "id": "RusCrL1U1CFM",
      "execution_count": null,
      "outputs": []
    },
    {
      "cell_type": "code",
      "source": [
        "s[i:j:k]    # liefert den Ausschnitt von Index i bis Index j von s, wobei nur jedes k.te Element innerhalb dieses Ausschnitts beachtet wird,"
      ],
      "metadata": {
        "id": "yNjQJ22S1GVu"
      },
      "id": "yNjQJ22S1GVu",
      "execution_count": null,
      "outputs": []
    },
    {
      "cell_type": "code",
      "source": [
        "len(s)      # liefert die Anzahl der Elemente in s,"
      ],
      "metadata": {
        "id": "tH2OhPFg1In5"
      },
      "id": "tH2OhPFg1In5",
      "execution_count": null,
      "outputs": []
    },
    {
      "cell_type": "code",
      "source": [
        "min(s)      # liefert das kleinste Element von s, falls für die Elemente von s eine Ordnungsrelation definiert ist"
      ],
      "metadata": {
        "id": "MbCp-E7F1LNx"
      },
      "id": "MbCp-E7F1LNx",
      "execution_count": null,
      "outputs": []
    },
    {
      "cell_type": "code",
      "source": [
        "max(s)      # liefert das grösste Element von s, falls für die Elemente von s eine Ordnungsrelation definiert ist."
      ],
      "metadata": {
        "id": "SsoY8Lq61MR-"
      },
      "id": "SsoY8Lq61MR-",
      "execution_count": null,
      "outputs": []
    },
    {
      "cell_type": "markdown",
      "id": "084e9d15",
      "metadata": {
        "id": "084e9d15"
      },
      "source": [
        "Eine Liste auch unterschiedliche, gemischte Datentypen enthalten. Eine Liste kann auch nach ihrer Erzeugung verändert werden. Der folgende Code zeigt das Anlegen einer Liste mit Elementen unterschiedlichen Typs:\n"
      ]
    },
    {
      "cell_type": "code",
      "execution_count": null,
      "id": "3b335630",
      "metadata": {
        "id": "3b335630"
      },
      "outputs": [],
      "source": [
        "list_mixed = [3,'a',3.7]\n",
        "list_mixed"
      ]
    },
    {
      "cell_type": "code",
      "execution_count": null,
      "id": "ac2574a9",
      "metadata": {
        "id": "ac2574a9"
      },
      "outputs": [],
      "source": [
        "type(list_mixed[0])"
      ]
    },
    {
      "cell_type": "code",
      "execution_count": null,
      "id": "e5dc40a6",
      "metadata": {
        "id": "e5dc40a6"
      },
      "outputs": [],
      "source": [
        "type(list_mixed[1])"
      ]
    },
    {
      "cell_type": "code",
      "execution_count": null,
      "id": "63a4340c",
      "metadata": {
        "id": "63a4340c"
      },
      "outputs": [],
      "source": [
        "type(list_mixed[2])"
      ]
    },
    {
      "cell_type": "code",
      "execution_count": null,
      "id": "bccc15e9",
      "metadata": {
        "id": "bccc15e9"
      },
      "outputs": [],
      "source": [
        "list_mixed[1] = \"b\"\n",
        "list_mixed"
      ]
    },
    {
      "cell_type": "markdown",
      "id": "6a82636e",
      "metadata": {
        "id": "6a82636e"
      },
      "source": [
        "Zusätzlich zu den Operatoren der sequenziellen Datentypen, sind für Listen folgende Operationen definiert:"
      ]
    },
    {
      "cell_type": "code",
      "execution_count": null,
      "id": "d88adfd1",
      "metadata": {
        "id": "d88adfd1"
      },
      "outputs": [],
      "source": [
        "list_mixed_long = list_mixed*3\n",
        "print(list_mixed_long)"
      ]
    },
    {
      "cell_type": "code",
      "source": [
        "print(list_mixed_long)\n",
        "print(\"i = \"+ str(i))\n",
        "\n",
        "list_mixed_long[i] = x       # das i-te Element der Liste s wird durch x ersetzt,\n",
        "\n",
        "list_mixed_long"
      ],
      "metadata": {
        "id": "p7ju-PLJ26bl"
      },
      "id": "p7ju-PLJ26bl",
      "execution_count": null,
      "outputs": []
    },
    {
      "cell_type": "code",
      "source": [
        "list_mixed_long = list_mixed*3\n",
        "print(list_mixed_long)\n",
        "print(\"i = \"+ str(i) +\" j = \"+ str(j))\n",
        "\n",
        "t = [\"mitten\", \"hi\", \"nein\"]\n",
        "list_mixed_long[i:j] = t     # der Ausschnitt von Element i bis Element j wird durch t ersetzt\n",
        "\n",
        "list_mixed_long"
      ],
      "metadata": {
        "id": "4sGkwglO28g7"
      },
      "id": "4sGkwglO28g7",
      "execution_count": null,
      "outputs": []
    },
    {
      "cell_type": "code",
      "source": [
        "list_mixed_long = list_mixed*3\n",
        "print(list_mixed_long)\n",
        "print(\"i = \"+ str(i) +\" j = \"+ str(j)+\" k = \"+ str(k))\n",
        "\n",
        "list_mixed_long[i:j:k] = t   # die Elemente von s[i:j:k] werden durch t ersetzt,\n",
        "\n",
        "list_mixed_long"
      ],
      "metadata": {
        "id": "XwemcQXA29Tn"
      },
      "id": "XwemcQXA29Tn",
      "execution_count": null,
      "outputs": []
    },
    {
      "cell_type": "code",
      "source": [
        "list_mixed_long = list_mixed*3\n",
        "print(list_mixed_long)\n",
        "print(\"i = \"+ str(i))\n",
        "\n",
        "del list_mixed_long[i]       # das i.te Element wird aus s entfernt\n",
        "\n",
        "list_mixed_long"
      ],
      "metadata": {
        "id": "xfXBQvyM2-C9"
      },
      "id": "xfXBQvyM2-C9",
      "execution_count": null,
      "outputs": []
    },
    {
      "cell_type": "code",
      "source": [
        "list_mixed_long = list_mixed*3\n",
        "print(list_mixed_long)\n",
        "print(\"i = \"+ str(i) +\" j = \"+ str(j))\n",
        "\n",
        "del list_mixed_long[i:j]     # die Elemente s[i:j] werden aus s entfernt\n",
        "\n",
        "list_mixed_long"
      ],
      "metadata": {
        "id": "5Yavs3vp2-xW"
      },
      "id": "5Yavs3vp2-xW",
      "execution_count": null,
      "outputs": []
    },
    {
      "cell_type": "code",
      "source": [
        "list_mixed_long = list_mixed*3\n",
        "print(list_mixed_long)\n",
        "print(\"i = \"+ str(i) +\" j = \"+ str(j)+\" k = \"+ str(k))\n",
        "\n",
        "del list_mixed_long[i:j:k]   # die Elemente s[i:j:k] werden aus s entfernt\n",
        "\n",
        "list_mixed_long"
      ],
      "metadata": {
        "id": "kD_ICZye4eM1"
      },
      "id": "kD_ICZye4eM1",
      "execution_count": null,
      "outputs": []
    },
    {
      "cell_type": "markdown",
      "id": "998b376e",
      "metadata": {
        "id": "998b376e"
      },
      "source": [
        "Bei Zuweisungen wie list_2 = list_1 wird eine Kopie der REFERENZ auf die Liste erstellt. Keine Kopie der Liste! Mit mit C=L[:] und copy.deepcopy() können Kopien erstellt werden.\n",
        "\n",
        "Listen stehen folgende Methoden (also Funktionen für ein ausgewiesenes Objekt) zur Verfügung."
      ]
    },
    {
      "cell_type": "code",
      "execution_count": null,
      "id": "a8bfd0c9",
      "metadata": {
        "id": "a8bfd0c9"
      },
      "outputs": [],
      "source": [
        "#  s = list_mixed\n",
        "s = list_mixed[:]*2\n",
        "print(s)\n",
        "t = [\"mitten\", \"hi\", \"nein\"]\n",
        "\n",
        "# s.append(t)   # hängt x an das Ende der Liste an,"
      ]
    },
    {
      "cell_type": "code",
      "execution_count": null,
      "id": "d17eaae5",
      "metadata": {
        "id": "d17eaae5"
      },
      "outputs": [],
      "source": [
        "print(s)\n",
        "s.extend(t)   # hängt die Elemente von x an das Ende der Liste an\n",
        "print(t)\n",
        "print(s)"
      ]
    },
    {
      "cell_type": "code",
      "execution_count": null,
      "id": "56cd9216",
      "metadata": {
        "id": "56cd9216"
      },
      "outputs": [],
      "source": [
        "s.count(\"nein\")    # zählt wie häufig das Element x in s vorkommt,"
      ]
    },
    {
      "cell_type": "code",
      "execution_count": null,
      "id": "591f14bd",
      "metadata": {
        "id": "591f14bd"
      },
      "outputs": [],
      "source": [
        "s.index(\"nein\")    # liefert den Index an dem der Wert x erstmalig in s auftritt,"
      ]
    },
    {
      "cell_type": "code",
      "execution_count": null,
      "id": "6189d3f8",
      "metadata": {
        "id": "6189d3f8"
      },
      "outputs": [],
      "source": [
        "s.insert(i, \"nein\") # fügt x am Index i in s ein,\n",
        "print(s)"
      ]
    },
    {
      "cell_type": "code",
      "execution_count": null,
      "id": "79d8526a",
      "metadata": {
        "id": "79d8526a"
      },
      "outputs": [],
      "source": [
        "s.pop(2)     # liefert das 2.te Element der Liste und entfernt es aus dieser. Ohne Argument wird einfach das letzte Element herausgenommen\n",
        "print(s)"
      ]
    },
    {
      "cell_type": "code",
      "execution_count": null,
      "id": "032f9910",
      "metadata": {
        "id": "032f9910"
      },
      "outputs": [],
      "source": [
        "s.remove(\"nein\")    # entfernt das erste Vorkommen von x aus s\n",
        "print(s)"
      ]
    },
    {
      "cell_type": "code",
      "execution_count": null,
      "id": "342c49c5",
      "metadata": {
        "id": "342c49c5"
      },
      "outputs": [],
      "source": [
        "s.reverse()     # Kehrt die Reihenfolge der Elemente in s um\n",
        "print(s)"
      ]
    },
    {
      "cell_type": "code",
      "execution_count": null,
      "id": "032a1ffd",
      "metadata": {
        "id": "032a1ffd"
      },
      "outputs": [],
      "source": [
        "alphabet.sort(reverse=True)     # sortiert Liste nach aufsteigenden Werten. Mit s.sort(reverse=True) wird Liste absteigend sortiert.\n",
        "print(alphabet)\n",
        "alphabet.sort()\n",
        "print(alphabet)"
      ]
    },
    {
      "cell_type": "markdown",
      "id": "95764438",
      "metadata": {
        "id": "95764438"
      },
      "source": [
        "## Listen in Schleifen"
      ]
    },
    {
      "cell_type": "markdown",
      "id": "1e22d5ca",
      "metadata": {
        "id": "1e22d5ca"
      },
      "source": [
        "### For-Schleifen"
      ]
    },
    {
      "cell_type": "code",
      "execution_count": null,
      "id": "ed7e772e",
      "metadata": {
        "id": "ed7e772e"
      },
      "outputs": [],
      "source": [
        "for buchstabe in alphabet:\n",
        "    print(buchstabe.upper())"
      ]
    },
    {
      "cell_type": "markdown",
      "id": "f989de65",
      "metadata": {
        "id": "f989de65"
      },
      "source": [
        "Eine spezielle \"Range-Liste\" für ganze Zahlen wird mit range() erzeugt:"
      ]
    },
    {
      "cell_type": "code",
      "execution_count": null,
      "id": "82d0958b",
      "metadata": {
        "id": "82d0958b"
      },
      "outputs": [],
      "source": [
        "ganze_Zahlen = list(range(1,100,10))\n",
        "print(ganze_Zahlen)\n",
        "print(type(ganze_Zahlen))"
      ]
    },
    {
      "cell_type": "code",
      "execution_count": null,
      "id": "fb5593d1",
      "metadata": {
        "id": "fb5593d1"
      },
      "outputs": [],
      "source": [
        "for zahl in ganze_Zahlen:\n",
        "    print( zahl )"
      ]
    },
    {
      "cell_type": "markdown",
      "id": "6fadc18e",
      "metadata": {
        "id": "6fadc18e"
      },
      "source": [
        "Mit enumerate wird von einer Liste sowohl das Element als auch seine Position zurueck gegeben.\n",
        "\n",
        "```python\n",
        "for index, element in enumerate(liste):\n",
        "    ...\n",
        "```"
      ]
    },
    {
      "cell_type": "code",
      "execution_count": null,
      "id": "3b752f34",
      "metadata": {
        "id": "3b752f34"
      },
      "outputs": [],
      "source": [
        "for i, b_stabe in enumerate(alphabet):\n",
        "    print(b_stabe + ' ist der ' + str(i+1) + '. Buchstabe')"
      ]
    },
    {
      "cell_type": "markdown",
      "id": "c0e9ae18",
      "metadata": {
        "id": "c0e9ae18"
      },
      "source": [
        "Bei der Standard-Liste, ist die folgende Zuweisung nicht möglich:"
      ]
    },
    {
      "cell_type": "code",
      "execution_count": null,
      "id": "9b99e178",
      "metadata": {
        "id": "9b99e178"
      },
      "outputs": [],
      "source": [
        "vocals = alphabet[0,4,8,14,20]"
      ]
    },
    {
      "cell_type": "markdown",
      "id": "0f404bce",
      "metadata": {
        "id": "0f404bce"
      },
      "source": [
        "### List comprehension\n",
        "\n",
        "Allgemeine Syntax\n",
        "```python\n",
        "newlist = [expression for item in iterable if condition == True]\n",
        "```\n",
        "\n",
        "im Beispiel \"vocals\" können wir auf die Bedingung verzichten:"
      ]
    },
    {
      "cell_type": "code",
      "execution_count": null,
      "id": "c318f96e",
      "metadata": {
        "id": "c318f96e"
      },
      "outputs": [],
      "source": [
        "vocals = [alphabet[i] for i in [0,4,8,14,20]]"
      ]
    },
    {
      "cell_type": "code",
      "execution_count": null,
      "id": "a24619d6",
      "metadata": {
        "id": "a24619d6"
      },
      "outputs": [],
      "source": [
        "vocals"
      ]
    },
    {
      "cell_type": "markdown",
      "id": "54301123",
      "metadata": {
        "id": "54301123"
      },
      "source": [
        "## Funktionen"
      ]
    },
    {
      "cell_type": "markdown",
      "id": "e6dd525b",
      "metadata": {
        "id": "e6dd525b"
      },
      "source": [
        "Das Schlüsselwort **def** leitet eine Funktion ein. Es folgt der Funktionsname mit zwei abschließenden runden Klammern, in denen Funktionsparameter definiert sein können. Die runden Klammern sind zwingend erforderlich, auch wenn keine Parameter übergeben werden. In der nächsten Zeile folgt der eingerückte Funktionskörper. Die Funktionen gibt einen Wert über ein optionales **return** Statement zurück."
      ]
    },
    {
      "cell_type": "code",
      "execution_count": null,
      "id": "43367bf0",
      "metadata": {
        "id": "43367bf0"
      },
      "outputs": [],
      "source": [
        "def get_age(birthyear, birthmonth, birthday, todays_year, todays_month, todays_day):\n",
        "        age = todays_year - birthyear\n",
        "        if birthmonth >= todays_month:\n",
        "            if birthday > todays_day:\n",
        "                age = age-1 #  a -= 1 bedeutet a = a-1\n",
        "        return age"
      ]
    },
    {
      "cell_type": "code",
      "execution_count": null,
      "id": "22b9412a",
      "metadata": {
        "id": "22b9412a"
      },
      "outputs": [],
      "source": [
        "get_age(1985, 12, 29, 2022, 12, 28)"
      ]
    },
    {
      "cell_type": "code",
      "execution_count": null,
      "id": "301bb353",
      "metadata": {
        "id": "301bb353"
      },
      "outputs": [],
      "source": []
    }
  ],
  "metadata": {
    "kernelspec": {
      "display_name": "Python 3 (ipykernel)",
      "language": "python",
      "name": "python3"
    },
    "language_info": {
      "codemirror_mode": {
        "name": "ipython",
        "version": 3
      },
      "file_extension": ".py",
      "mimetype": "text/x-python",
      "name": "python",
      "nbconvert_exporter": "python",
      "pygments_lexer": "ipython3",
      "version": "3.9.15"
    },
    "colab": {
      "provenance": [],
      "include_colab_link": true
    }
  },
  "nbformat": 4,
  "nbformat_minor": 5
}