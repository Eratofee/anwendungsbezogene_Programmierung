{
  "cells": [
    {
      "cell_type": "markdown",
      "metadata": {
        "id": "view-in-github",
        "colab_type": "text"
      },
      "source": [
        "<a href=\"https://colab.research.google.com/github/Eratofee/anwendungsorientierte_Programmierung/blob/main/7Scraping.ipynb\" target=\"_parent\"><img src=\"https://colab.research.google.com/assets/colab-badge.svg\" alt=\"Open In Colab\"/></a>"
      ]
    },
    {
      "cell_type": "markdown",
      "id": "7c7fc2ac",
      "metadata": {
        "id": "7c7fc2ac"
      },
      "source": [
        "# 7. Scraping"
      ]
    },
    {
      "cell_type": "markdown",
      "id": "3017f41d",
      "metadata": {
        "id": "3017f41d"
      },
      "source": [
        "## 1.1 Text aus Wikipedia"
      ]
    },
    {
      "cell_type": "code",
      "source": [
        "pip install wordcloud"
      ],
      "metadata": {
        "id": "SqDFQ_PTjuAa"
      },
      "id": "SqDFQ_PTjuAa",
      "execution_count": null,
      "outputs": []
    },
    {
      "cell_type": "code",
      "source": [
        "pip install wikipedia"
      ],
      "metadata": {
        "id": "8qAD_7KXj98U"
      },
      "id": "8qAD_7KXj98U",
      "execution_count": null,
      "outputs": []
    },
    {
      "cell_type": "code",
      "execution_count": null,
      "id": "c3775927",
      "metadata": {
        "id": "c3775927"
      },
      "outputs": [],
      "source": [
        "import wordcloud\n",
        "import wikipedia\n",
        "import matplotlib.pyplot as plt\n",
        "import re\n",
        "import numpy as np"
      ]
    },
    {
      "cell_type": "code",
      "execution_count": null,
      "id": "2eef6a82",
      "metadata": {
        "id": "2eef6a82"
      },
      "outputs": [],
      "source": [
        "# Wir suchen auf der englischen Wikipedia nach der Seite 'Web scraping'\n",
        "wiki = wikipedia.page('Web scraping')\n",
        "# und speichern den Inhalt in \"text\"\n",
        "text = wiki.content"
      ]
    },
    {
      "cell_type": "code",
      "source": [
        "print(text)"
      ],
      "metadata": {
        "id": "rgAcajF1kLmC"
      },
      "id": "rgAcajF1kLmC",
      "execution_count": null,
      "outputs": []
    },
    {
      "cell_type": "code",
      "execution_count": null,
      "id": "16b9c672",
      "metadata": {
        "id": "16b9c672"
      },
      "outputs": [],
      "source": [
        "# Clean text\n",
        "text = re.sub(r'==.*?==+', '', text)\n",
        "# text = text.replace('\\n', '')"
      ]
    },
    {
      "cell_type": "code",
      "execution_count": null,
      "id": "c2a803ae",
      "metadata": {
        "id": "c2a803ae"
      },
      "outputs": [],
      "source": [
        "print(text)"
      ]
    },
    {
      "cell_type": "markdown",
      "id": "6372392f",
      "metadata": {
        "id": "6372392f"
      },
      "source": [
        "## 1.2 Wordcloud"
      ]
    },
    {
      "cell_type": "code",
      "execution_count": null,
      "id": "cc33a7de",
      "metadata": {
        "id": "cc33a7de"
      },
      "outputs": [],
      "source": [
        "# geplottet die übergebene Wordcloud\n",
        "def plot_cloud(wordcloud):\n",
        "    plt.figure(figsize=(40, 30))\n",
        "    plt.imshow(wordcloud)\n",
        "    plt.axis(\"off\");"
      ]
    },
    {
      "cell_type": "code",
      "execution_count": null,
      "id": "c2ac97ad",
      "metadata": {
        "id": "c2ac97ad"
      },
      "outputs": [],
      "source": [
        "from wordcloud import WordCloud, STOPWORDS\n",
        "\n",
        "# Erstelle eine word cloud\n",
        "wordcloud = WordCloud(width= 3000,\n",
        "                      height = 2000,\n",
        "                      #random_state=1,\n",
        "                      background_color='salmon',\n",
        "                      colormap='Pastel1',\n",
        "                      collocations=False,\n",
        "                      stopwords = STOPWORDS).generate(text)"
      ]
    },
    {
      "cell_type": "code",
      "execution_count": null,
      "id": "e424aa34",
      "metadata": {
        "id": "e424aa34"
      },
      "outputs": [],
      "source": [
        "# und plotte sie\n",
        "plot_cloud(wordcloud)"
      ]
    },
    {
      "cell_type": "code",
      "execution_count": null,
      "id": "23953fad",
      "metadata": {
        "id": "23953fad"
      },
      "outputs": [],
      "source": [
        "print(STOPWORDS)"
      ]
    },
    {
      "cell_type": "markdown",
      "id": "32c4e848",
      "metadata": {
        "id": "32c4e848"
      },
      "source": [
        "Erstellt eine eigene Wordcloud zu einem Wikipedia-Artikel eurer Wahl und beliebigen Farbeinstellungen: https://matplotlib.org/stable/tutorials/colors/colormaps.html"
      ]
    },
    {
      "cell_type": "code",
      "execution_count": null,
      "id": "ab182c0f",
      "metadata": {
        "id": "ab182c0f"
      },
      "outputs": [],
      "source": [
        "wordcloud = WordCloud(width = 3000,\n",
        "                      height = 2000,\n",
        "                      random_state=1,\n",
        "                      background_color='black',\n",
        "                      colormap='Set2',\n",
        "                      collocations=False,\n",
        "                      stopwords = STOPWORDS).generate(text)"
      ]
    },
    {
      "cell_type": "code",
      "execution_count": null,
      "id": "09144464",
      "metadata": {
        "id": "09144464"
      },
      "outputs": [],
      "source": [
        "# Plot\n",
        "plot_cloud(wordcloud)"
      ]
    },
    {
      "cell_type": "markdown",
      "id": "73a6c02f",
      "metadata": {
        "id": "73a6c02f"
      },
      "source": [
        "Gefällt euch die akutelle Variante, dann speichert sie in einem Unterordner \"WordCloud\" auf dem Rechner."
      ]
    },
    {
      "cell_type": "code",
      "execution_count": null,
      "id": "f2688213",
      "metadata": {
        "id": "f2688213"
      },
      "outputs": [],
      "source": [
        "# Save image\n",
        "wordcloud.to_file(\"wordcloud.png\")"
      ]
    },
    {
      "cell_type": "markdown",
      "id": "4a25d676",
      "metadata": {
        "id": "4a25d676"
      },
      "source": [
        "# hier erstmal HALT !"
      ]
    },
    {
      "cell_type": "markdown",
      "id": "b708c001",
      "metadata": {
        "id": "b708c001"
      },
      "source": [
        "## 1.3 Wordcloud mit Maske"
      ]
    },
    {
      "cell_type": "markdown",
      "id": "f32d298b",
      "metadata": {
        "id": "f32d298b"
      },
      "source": [
        "## 1.3.1 Maske z.B. von hier: https://www.kaggle.com/datasets/aashita/masks?select=upvote.png"
      ]
    },
    {
      "cell_type": "code",
      "source": [
        "pip install wget"
      ],
      "metadata": {
        "id": "hpwhRrkmmrlN"
      },
      "id": "hpwhRrkmmrlN",
      "execution_count": null,
      "outputs": []
    },
    {
      "cell_type": "code",
      "execution_count": null,
      "id": "85994369",
      "metadata": {
        "id": "85994369"
      },
      "outputs": [],
      "source": [
        "from PIL import Image"
      ]
    },
    {
      "cell_type": "code",
      "execution_count": null,
      "id": "42d1cced",
      "metadata": {
        "id": "42d1cced"
      },
      "outputs": [],
      "source": [
        "mask = np.array(Image.open(\"upvote.png\"))\n",
        "\n",
        "wordcloud = WordCloud(width = 3000,\n",
        "                      height = 2000,\n",
        "                      random_state=1,\n",
        "                      background_color='navy',\n",
        "                      colormap='rainbow',\n",
        "                      collocations=False,\n",
        "                      stopwords = STOPWORDS,\n",
        "                      mask=mask).generate(text)"
      ]
    },
    {
      "cell_type": "code",
      "execution_count": null,
      "id": "7a02da3f",
      "metadata": {
        "id": "7a02da3f"
      },
      "outputs": [],
      "source": [
        "# Plot\n",
        "plot_cloud(wordcloud)"
      ]
    },
    {
      "cell_type": "markdown",
      "id": "43e4139f",
      "metadata": {
        "id": "43e4139f"
      },
      "source": [
        "## 1.3.2 oder Maske in Schwarz-Weiß selbst zeichnen"
      ]
    },
    {
      "cell_type": "code",
      "execution_count": null,
      "id": "a222fd7a",
      "metadata": {
        "scrolled": true,
        "id": "a222fd7a"
      },
      "outputs": [],
      "source": [
        "mask = np.array(Image.open('Star.png'))\n",
        "\n",
        "wordcloud = WordCloud(width = 3000,\n",
        "                      height = 2000,\n",
        "                      random_state=1,\n",
        "                      background_color='white',\n",
        "                      colormap='plasma',\n",
        "                      collocations=False,\n",
        "                      stopwords = STOPWORDS,\n",
        "                      mask=mask).generate(text)# Plot\n",
        "plot_cloud(wordcloud)"
      ]
    },
    {
      "cell_type": "markdown",
      "id": "1b07bd4e",
      "metadata": {
        "id": "1b07bd4e"
      },
      "source": [
        "Echte Anwendung: mein Lieblingssport in der deutschen Wikipedia"
      ]
    },
    {
      "cell_type": "code",
      "execution_count": null,
      "id": "0b46d3eb",
      "metadata": {
        "id": "0b46d3eb"
      },
      "outputs": [],
      "source": [
        "with open('german_stopwords.txt', encoding='utf8') as file:\n",
        "    german_stopwords = file.read().splitlines()"
      ]
    },
    {
      "cell_type": "code",
      "execution_count": null,
      "id": "c29e0585",
      "metadata": {
        "id": "c29e0585"
      },
      "outputs": [],
      "source": [
        "print(german_stopwords)"
      ]
    },
    {
      "cell_type": "code",
      "execution_count": null,
      "id": "cd91812f",
      "metadata": {
        "id": "cd91812f"
      },
      "outputs": [],
      "source": [
        "# Wir stellen auf die deutsche Wikipedia-Welt um\n",
        "wikipedia.set_lang(\"de\")\n",
        "wiki = wikipedia.page('Taekwondo')\n",
        "text = wiki.content\n",
        "\n",
        "# Wieder\n",
        "text = re.sub(r'==.*?==+', '', text)\n",
        "text = text.replace('\\n', '')\n",
        "\n",
        "text = text.replace('Taekwondo', 'Taekwon-Do')\n",
        "\n",
        "# Import image to np.array\n",
        "mask = np.array(Image.open('punch3Col.png'))"
      ]
    },
    {
      "cell_type": "code",
      "execution_count": null,
      "id": "098cb717",
      "metadata": {
        "id": "098cb717"
      },
      "outputs": [],
      "source": [
        "# Generate wordcloud\n",
        "wordcloud = WordCloud(width = 3000,\n",
        "                      height = 2000,\n",
        "                      random_state=1,\n",
        "                      # background_color='white',\n",
        "                      # colormap='inferno',\n",
        "                      background_color='black',\n",
        "                      colormap='plasma',\n",
        "                      collocations=True,\n",
        "                      stopwords = german_stopwords,\n",
        "                      mask=mask).generate(text)"
      ]
    },
    {
      "cell_type": "code",
      "execution_count": null,
      "id": "1f021bbc",
      "metadata": {
        "id": "1f021bbc"
      },
      "outputs": [],
      "source": [
        "# Plot\n",
        "plot_cloud(wordcloud)"
      ]
    },
    {
      "cell_type": "code",
      "execution_count": null,
      "id": "27d2ef0f",
      "metadata": {
        "id": "27d2ef0f"
      },
      "outputs": [],
      "source": [
        "# Generate wordcloud\n",
        "wordcloud = WordCloud(width = 3000,\n",
        "                      height = 2000,\n",
        "                      random_state=1,\n",
        "                      background_color='black',\n",
        "                      colormap='GnBu',\n",
        "                      collocations=True,\n",
        "                      stopwords = german_stopwords,\n",
        "                      mask=mask).generate(text)"
      ]
    },
    {
      "cell_type": "code",
      "execution_count": null,
      "id": "cf79c2fc",
      "metadata": {
        "id": "cf79c2fc"
      },
      "outputs": [],
      "source": [
        "# Plot\n",
        "plot_cloud(wordcloud)"
      ]
    },
    {
      "cell_type": "markdown",
      "id": "fab31945",
      "metadata": {
        "id": "fab31945"
      },
      "source": [
        "## 2. Mediendateien"
      ]
    },
    {
      "cell_type": "markdown",
      "id": "a9f426c6",
      "metadata": {
        "id": "a9f426c6"
      },
      "source": [
        "Wenn wir auch auf nicht Wikipedia scrapen wollten oder Mediendatein spezifieren möchten, brauchen wir eine mächtigere Kombination aus Modulen."
      ]
    },
    {
      "cell_type": "code",
      "execution_count": null,
      "id": "aa5ace2b",
      "metadata": {
        "id": "aa5ace2b"
      },
      "outputs": [],
      "source": [
        "# Import packages\n",
        "from urllib.request import urlopen\n",
        "from bs4 import BeautifulSoup# Specify url of the web page"
      ]
    },
    {
      "cell_type": "code",
      "execution_count": null,
      "id": "164cea27",
      "metadata": {
        "id": "164cea27"
      },
      "outputs": [],
      "source": [
        "source = urlopen('https://de.wikipedia.org/wiki/Klarinette').read()# Make a soup\n",
        "soup = BeautifulSoup(source,'lxml')"
      ]
    },
    {
      "cell_type": "code",
      "execution_count": null,
      "id": "e84ada7f",
      "metadata": {
        "id": "e84ada7f"
      },
      "outputs": [],
      "source": [
        "soup"
      ]
    },
    {
      "cell_type": "code",
      "execution_count": null,
      "id": "31d605ab",
      "metadata": {
        "id": "31d605ab"
      },
      "outputs": [],
      "source": [
        "print(set([text.parent.name for text in soup.find_all(text=True)]))"
      ]
    },
    {
      "cell_type": "markdown",
      "id": "f6b2e981",
      "metadata": {
        "id": "f6b2e981"
      },
      "source": [
        "Um den reinen Text zu erholten suchen wir den \"p\" tag."
      ]
    },
    {
      "cell_type": "code",
      "execution_count": null,
      "id": "ed898f69",
      "metadata": {
        "id": "ed898f69"
      },
      "outputs": [],
      "source": [
        "text = ''\n",
        "for paragraph in soup.find_all('p'):\n",
        "    text += paragraph.text\n",
        "\n",
        "text"
      ]
    },
    {
      "cell_type": "code",
      "execution_count": null,
      "id": "f7260b44",
      "metadata": {
        "id": "f7260b44"
      },
      "outputs": [],
      "source": [
        "text = re.sub(r'\\[.*?\\]+', '', text)\n",
        "text = text.replace('\\n', '')\n",
        "\n",
        "text"
      ]
    },
    {
      "cell_type": "markdown",
      "id": "87b7d966",
      "metadata": {
        "id": "87b7d966"
      },
      "source": [
        "das entpricht dem einfacheren:"
      ]
    },
    {
      "cell_type": "code",
      "execution_count": null,
      "id": "c7595c1e",
      "metadata": {
        "id": "c7595c1e"
      },
      "outputs": [],
      "source": [
        "wikipedia.set_lang(\"de\")\n",
        "wiki = wikipedia.page('Klarinette')\n",
        "text_wiki = wiki.content\n",
        "\n",
        "# Wieder\n",
        "text_wiki = re.sub(r'==.*?==+', '', text_wiki)\n",
        "text_wiki = text_wiki.replace('\\n', '')\n",
        "# text_wiki"
      ]
    },
    {
      "cell_type": "markdown",
      "id": "fc84814f",
      "metadata": {
        "id": "fc84814f"
      },
      "source": [
        "Aber wir suchen die .ogg Datei"
      ]
    },
    {
      "cell_type": "code",
      "execution_count": null,
      "id": "39346c2f",
      "metadata": {
        "id": "39346c2f"
      },
      "outputs": [],
      "source": [
        "parser = 'lxml'\n",
        "resp = urlopen(\"https://en.wikipedia.org/wiki/Funk\")\n",
        "soup = BeautifulSoup(resp, parser)\n",
        "\n",
        "media = soup.find_all('source')\n",
        "media_links=[]\n",
        "for medium in media:\n",
        "    print()\n",
        "    media_links.append(\"https:\"+medium[\"src\"])"
      ]
    },
    {
      "cell_type": "code",
      "execution_count": null,
      "id": "1f81bc21",
      "metadata": {
        "id": "1f81bc21"
      },
      "outputs": [],
      "source": [
        "print(media_links)"
      ]
    },
    {
      "cell_type": "markdown",
      "id": "e71dc570",
      "metadata": {
        "id": "e71dc570"
      },
      "source": [
        "Wenn wir den genauen Dateipfad haben, kann man mit wget die Datei automatisiert herunterladen."
      ]
    },
    {
      "cell_type": "markdown",
      "id": "4bcb63bb",
      "metadata": {
        "id": "4bcb63bb"
      },
      "source": [
        "Erst die einzelne Datei:"
      ]
    },
    {
      "cell_type": "code",
      "execution_count": null,
      "id": "85b0ab2a",
      "metadata": {
        "id": "85b0ab2a"
      },
      "outputs": [],
      "source": [
        "import wget\n",
        "remote_url = 'https://upload.wikimedia.org/wikipedia/commons/0/07/Mozart_Quintett_Bassettklarinette_Larghetto.ogg'\n",
        "local_file = 'clarinet.ogg'\n",
        "download = wget.download(remote_url, local_file)"
      ]
    },
    {
      "cell_type": "code",
      "execution_count": null,
      "id": "c8456e4c",
      "metadata": {
        "id": "c8456e4c"
      },
      "outputs": [],
      "source": [
        "download"
      ]
    },
    {
      "cell_type": "code",
      "execution_count": null,
      "id": "17ed02bc",
      "metadata": {
        "id": "17ed02bc"
      },
      "outputs": [],
      "source": [
        "print(download)"
      ]
    },
    {
      "cell_type": "markdown",
      "id": "d9a80a01",
      "metadata": {
        "id": "d9a80a01"
      },
      "source": [
        "Dann für die ganze (vielleicht auch) unbekannte Liste:"
      ]
    },
    {
      "cell_type": "code",
      "execution_count": null,
      "id": "0109904e",
      "metadata": {
        "id": "0109904e"
      },
      "outputs": [],
      "source": [
        "for link in media_links:\n",
        "    local_file = link[-10:]\n",
        "    wget.download(link, local_file)"
      ]
    },
    {
      "cell_type": "markdown",
      "id": "12006c1e",
      "metadata": {
        "id": "12006c1e"
      },
      "source": [
        "## kleiner Exkurs: Börsenwerte"
      ]
    },
    {
      "cell_type": "markdown",
      "id": "303fb33e",
      "metadata": {
        "id": "303fb33e"
      },
      "source": [
        "Hier als Beispiel aus: https://www.google.com/finance/quote/AB9:ETR"
      ]
    },
    {
      "cell_type": "code",
      "execution_count": null,
      "id": "099d5023",
      "metadata": {
        "id": "099d5023"
      },
      "outputs": [],
      "source": [
        "def getRecentStockPrice():\n",
        "    url = \"https://www.google.com/finance/quote/AB9:ETR\"\n",
        "    r = urlopen(url)\n",
        "    soup = BeautifulSoup(r.read(), 'html.parser')\n",
        "\n",
        "    for div in soup.find_all('div', attrs={'class': 'YMlKec fxKbKc'}):\n",
        "        print(div.text)\n",
        "\n",
        "getRecentStockPrice()"
      ]
    },
    {
      "cell_type": "code",
      "execution_count": null,
      "id": "30b4147f",
      "metadata": {
        "id": "30b4147f"
      },
      "outputs": [],
      "source": [
        ""
      ]
    },
    {
      "cell_type": "code",
      "execution_count": null,
      "id": "b894f998",
      "metadata": {
        "id": "b894f998"
      },
      "outputs": [],
      "source": []
    }
  ],
  "metadata": {
    "kernelspec": {
      "display_name": "Python 3 (ipykernel)",
      "language": "python",
      "name": "python3"
    },
    "language_info": {
      "codemirror_mode": {
        "name": "ipython",
        "version": 3
      },
      "file_extension": ".py",
      "mimetype": "text/x-python",
      "name": "python",
      "nbconvert_exporter": "python",
      "pygments_lexer": "ipython3",
      "version": "3.9.15"
    },
    "colab": {
      "provenance": [],
      "include_colab_link": true
    }
  },
  "nbformat": 4,
  "nbformat_minor": 5
}