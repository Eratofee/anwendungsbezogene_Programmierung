{
  "cells": [
    {
      "cell_type": "markdown",
      "metadata": {
        "id": "view-in-github",
        "colab_type": "text"
      },
      "source": [
        "<a href=\"https://colab.research.google.com/github/Eratofee/anwendungsorientierte_Programmierung/blob/main/3AbschlussGrundkenntnisse.ipynb\" target=\"_parent\"><img src=\"https://colab.research.google.com/assets/colab-badge.svg\" alt=\"Open In Colab\"/></a>"
      ]
    },
    {
      "cell_type": "markdown",
      "id": "eb8d0d3d",
      "metadata": {
        "id": "eb8d0d3d"
      },
      "source": [
        "# weitere Datentypen, Module, Klassen, File IO, Aufgaben"
      ]
    },
    {
      "cell_type": "markdown",
      "id": "9c20ef23",
      "metadata": {
        "id": "9c20ef23"
      },
      "source": [
        "## weitere Datentypen"
      ]
    },
    {
      "cell_type": "markdown",
      "id": "05802d4f",
      "metadata": {
        "id": "05802d4f"
      },
      "source": [
        "### Tuple"
      ]
    },
    {
      "cell_type": "markdown",
      "id": "d301b1b2",
      "metadata": {
        "id": "d301b1b2"
      },
      "source": [
        "Während die eckigen Klammern Listen erzeugen, sind die Kennzeichen eines Tuples die runden Klammern, bzw. Kommata zwischen gemischten Typen:"
      ]
    },
    {
      "cell_type": "code",
      "execution_count": null,
      "id": "1bb0d86d",
      "metadata": {
        "id": "1bb0d86d"
      },
      "outputs": [],
      "source": [
        "t=(3,6,1,2,8,1)"
      ]
    },
    {
      "cell_type": "code",
      "execution_count": null,
      "id": "eda34f72",
      "metadata": {
        "id": "eda34f72",
        "outputId": "759a8045-56bd-4dda-a426-abf01370a7c7"
      },
      "outputs": [
        {
          "data": {
            "text/plain": [
              "1"
            ]
          },
          "execution_count": 28,
          "metadata": {},
          "output_type": "execute_result"
        }
      ],
      "source": [
        "t[2]"
      ]
    },
    {
      "cell_type": "code",
      "execution_count": null,
      "id": "97ae75cc",
      "metadata": {
        "id": "97ae75cc",
        "outputId": "08f9df42-38d2-462a-9b42-bb699321193e"
      },
      "outputs": [
        {
          "ename": "TypeError",
          "evalue": "'tuple' object does not support item assignment",
          "output_type": "error",
          "traceback": [
            "\u001b[1;31m---------------------------------------------------------------------------\u001b[0m",
            "\u001b[1;31mTypeError\u001b[0m                                 Traceback (most recent call last)",
            "Cell \u001b[1;32mIn [29], line 1\u001b[0m\n\u001b[1;32m----> 1\u001b[0m t[\u001b[38;5;241m3\u001b[39m]\u001b[38;5;241m=\u001b[39m\u001b[38;5;241m0\u001b[39m\n",
            "\u001b[1;31mTypeError\u001b[0m: 'tuple' object does not support item assignment"
          ]
        }
      ],
      "source": [
        "t[3]=0"
      ]
    },
    {
      "cell_type": "markdown",
      "id": "3cd44236",
      "metadata": {
        "id": "3cd44236"
      },
      "source": [
        "Man kann per Index ein Element ansprechen, es aber nicht verändern: 'tuple' object does not support item assignment"
      ]
    },
    {
      "cell_type": "code",
      "execution_count": null,
      "id": "0f74af7e",
      "metadata": {
        "id": "0f74af7e",
        "outputId": "2f8fac19-56ef-479b-f716-ee9e228a5ece"
      },
      "outputs": [
        {
          "data": {
            "text/plain": [
              "([1, 3, 2, 3], 3)"
            ]
          },
          "execution_count": 31,
          "metadata": {},
          "output_type": "execute_result"
        }
      ],
      "source": [
        "x = [1,3,2,3]\n",
        "r = (x,3)\n",
        "r"
      ]
    },
    {
      "cell_type": "markdown",
      "id": "9aa79ae2",
      "metadata": {
        "id": "9aa79ae2"
      },
      "source": [
        "Tuple sind unveränderbar (immutable), wohingegen Listen an beliebiger Stelle überschrieben werden können."
      ]
    },
    {
      "cell_type": "code",
      "execution_count": null,
      "id": "4561b7f1",
      "metadata": {
        "id": "4561b7f1",
        "outputId": "40852129-ae14-4f8c-b474-25bee4abdb50"
      },
      "outputs": [
        {
          "data": {
            "text/plain": [
              "([3, 2, 3, 1], 3)"
            ]
          },
          "execution_count": 32,
          "metadata": {},
          "output_type": "execute_result"
        }
      ],
      "source": [
        "x.reverse()\n",
        "r"
      ]
    },
    {
      "cell_type": "markdown",
      "id": "122c265c",
      "metadata": {
        "id": "122c265c"
      },
      "source": [
        "### Set"
      ]
    },
    {
      "cell_type": "markdown",
      "id": "9b1332f5",
      "metadata": {
        "id": "9b1332f5"
      },
      "source": [
        "Wichtige Eigentschaften: In einer Menge (engl. \"set\") gibt es keine Duplikate und es ist keine Reihenfolge festgelegt."
      ]
    },
    {
      "cell_type": "markdown",
      "id": "a58e3473",
      "metadata": {
        "id": "a58e3473"
      },
      "source": [
        "Ein Set wird entweder mit {} erstellt, oder mittels der set()-Funktion aus anderen Datentypen gecastet."
      ]
    },
    {
      "cell_type": "code",
      "execution_count": null,
      "id": "413ba338",
      "metadata": {
        "id": "413ba338",
        "outputId": "d4096547-4965-4a3f-95fd-721244e9ed9e"
      },
      "outputs": [
        {
          "name": "stdout",
          "output_type": "stream",
          "text": [
            "{'Orange', 'Apfel', 'Pfirsich'}\n"
          ]
        }
      ],
      "source": [
        "korb = {'Apfel', 'Orange', 'Apfel', 'Pfirsich'}\n",
        "print(korb)"
      ]
    },
    {
      "cell_type": "code",
      "execution_count": null,
      "id": "c86fe8a7",
      "metadata": {
        "id": "c86fe8a7",
        "outputId": "c3a8c3c4-784f-4bee-ea0b-68735fc1b02d"
      },
      "outputs": [
        {
          "data": {
            "text/plain": [
              "{'Banane', 'Orange', 'Traube'}"
            ]
          },
          "execution_count": 35,
          "metadata": {},
          "output_type": "execute_result"
        }
      ],
      "source": [
        "kleiner_korb = set(('Orange', 'Banane', 'Traube')) # aus Tupel\n",
        "# kleiner_korb = set(['Orange', 'Banane', 'Traube']) # aus List\n",
        "kleiner_korb"
      ]
    },
    {
      "cell_type": "code",
      "execution_count": null,
      "id": "c24a12c9",
      "metadata": {
        "id": "c24a12c9",
        "outputId": "2d43e8ab-c3c2-4a43-a3da-ba79b50a0337"
      },
      "outputs": [
        {
          "data": {
            "text/plain": [
              "{'Apfel', 'Banane', 'Orange', 'Pfirsich', 'Traube'}"
            ]
          },
          "execution_count": 36,
          "metadata": {},
          "output_type": "execute_result"
        }
      ],
      "source": [
        "korb | kleiner_korb            # alle Elemente, die in den Sets zu finden sind"
      ]
    },
    {
      "cell_type": "code",
      "execution_count": null,
      "id": "094157b7",
      "metadata": {
        "id": "094157b7",
        "outputId": "b746c2a0-f849-4528-f469-bb415c6a42ea"
      },
      "outputs": [
        {
          "data": {
            "text/plain": [
              "{'Orange'}"
            ]
          },
          "execution_count": 37,
          "metadata": {},
          "output_type": "execute_result"
        }
      ],
      "source": [
        "korb & kleiner_korb           # Elemente, die nur in beiden Sets zu finden sind (Schnittmenge)"
      ]
    },
    {
      "cell_type": "code",
      "execution_count": null,
      "id": "f047d4cb",
      "metadata": {
        "id": "f047d4cb",
        "outputId": "23601252-adc9-4b70-9674-5248d4faff66"
      },
      "outputs": [
        {
          "data": {
            "text/plain": [
              "{'Apfel', 'Banane', 'Pfirsich', 'Traube'}"
            ]
          },
          "execution_count": 39,
          "metadata": {},
          "output_type": "execute_result"
        }
      ],
      "source": [
        "korb ^ kleiner_korb           # Elemente, die in beiden Sets, aber nicht in der gemeinsamen Schnittmenge zu finden sind"
      ]
    },
    {
      "cell_type": "code",
      "execution_count": null,
      "id": "916b4611",
      "metadata": {
        "id": "916b4611",
        "outputId": "c13ed3a5-e3ab-46e9-b2c7-5e03d921c8db"
      },
      "outputs": [
        {
          "name": "stdout",
          "output_type": "stream",
          "text": [
            "{'Nuss', 'Apfel', 'Pfirsich'}\n"
          ]
        }
      ],
      "source": [
        "korb.add(\"Nuss\")\n",
        "korb.discard(\"Orange\")\n",
        "print(korb)"
      ]
    },
    {
      "cell_type": "markdown",
      "id": "81204134",
      "metadata": {
        "id": "81204134"
      },
      "source": [
        "### Dictionaries"
      ]
    },
    {
      "cell_type": "code",
      "execution_count": null,
      "id": "c7d3c5ba",
      "metadata": {
        "id": "c7d3c5ba"
      },
      "outputs": [],
      "source": [
        "addressen = {'Wesinger': (\"Anton\",\"015736634098\"), 'Chris': \"0155 3443987\"}"
      ]
    },
    {
      "cell_type": "code",
      "execution_count": null,
      "id": "5b3ac8ed",
      "metadata": {
        "id": "5b3ac8ed"
      },
      "outputs": [],
      "source": [
        "addressen['Antonia'] = \"Wohnheimzimmer 8\""
      ]
    },
    {
      "cell_type": "code",
      "execution_count": null,
      "id": "3ac32b15",
      "metadata": {
        "id": "3ac32b15",
        "outputId": "bdbbec34-90d1-489c-9f63-f7fe3c0fddf7"
      },
      "outputs": [
        {
          "data": {
            "text/plain": [
              "{'Wesinger': ('Anton', '015736634098'),\n",
              " 'Chris': '0155 3443987',\n",
              " 'Antonia': 'Wohnheimzimmer 8'}"
            ]
          },
          "execution_count": 43,
          "metadata": {},
          "output_type": "execute_result"
        }
      ],
      "source": [
        "addressen"
      ]
    },
    {
      "cell_type": "code",
      "execution_count": null,
      "id": "90557af6",
      "metadata": {
        "id": "90557af6",
        "outputId": "75aa318a-0a7c-4b56-e9f1-3f9b3f1fe5f0"
      },
      "outputs": [
        {
          "data": {
            "text/plain": [
              "'Wohnheimzimmer 8'"
            ]
          },
          "execution_count": 44,
          "metadata": {},
          "output_type": "execute_result"
        }
      ],
      "source": [
        "addressen['Antonia']"
      ]
    },
    {
      "cell_type": "code",
      "execution_count": null,
      "id": "87549429",
      "metadata": {
        "id": "87549429"
      },
      "outputs": [],
      "source": [
        "del addressen['Wesinger']"
      ]
    },
    {
      "cell_type": "code",
      "execution_count": null,
      "id": "4389266d",
      "metadata": {
        "id": "4389266d",
        "outputId": "b820cc28-3b4c-4d8e-95c8-d2bde316e2a7"
      },
      "outputs": [
        {
          "data": {
            "text/plain": [
              "{'Chris': '0155 3443987', 'Antonia': 'Wohnheimzimmer 8'}"
            ]
          },
          "execution_count": 46,
          "metadata": {},
          "output_type": "execute_result"
        }
      ],
      "source": [
        "addressen"
      ]
    },
    {
      "cell_type": "code",
      "execution_count": null,
      "id": "2854ece3",
      "metadata": {
        "id": "2854ece3"
      },
      "outputs": [],
      "source": [
        "addressen['Ruht'] = (\"01704324458\",'am Upstallgraben 11', \"91357 Plaschen\")"
      ]
    },
    {
      "cell_type": "code",
      "execution_count": null,
      "id": "dc634c79",
      "metadata": {
        "id": "dc634c79",
        "outputId": "2c845e08-cc84-4ebd-9c77-20959c115d7c"
      },
      "outputs": [
        {
          "data": {
            "text/plain": [
              "{'Chris': '0155 3443987',\n",
              " 'Antonia': 'Wohnheimzimmer 8',\n",
              " 'Ruht': ('01704324458', 'am Upstallgraben 11', '91357 Plaschen')}"
            ]
          },
          "execution_count": 50,
          "metadata": {},
          "output_type": "execute_result"
        }
      ],
      "source": [
        "addressen"
      ]
    },
    {
      "cell_type": "code",
      "execution_count": null,
      "id": "7868bcc8",
      "metadata": {
        "id": "7868bcc8",
        "outputId": "4f215762-f0fe-4a13-f5a0-bf4c21411703"
      },
      "outputs": [
        {
          "data": {
            "text/plain": [
              "['Chris', 'Antonia', 'Ruht']"
            ]
          },
          "execution_count": 51,
          "metadata": {},
          "output_type": "execute_result"
        }
      ],
      "source": [
        "list(addressen)"
      ]
    },
    {
      "cell_type": "code",
      "execution_count": null,
      "id": "534f48a6",
      "metadata": {
        "id": "534f48a6",
        "outputId": "d561aa0a-6f4f-4599-f1cf-ecc954bc661d"
      },
      "outputs": [
        {
          "data": {
            "text/plain": [
              "['Antonia', 'Chris', 'Ruht']"
            ]
          },
          "execution_count": 52,
          "metadata": {},
          "output_type": "execute_result"
        }
      ],
      "source": [
        "sorted(addressen)"
      ]
    },
    {
      "cell_type": "code",
      "execution_count": null,
      "id": "1c722c5e",
      "metadata": {
        "id": "1c722c5e",
        "outputId": "33ffc4b7-5733-41fa-ec7b-c0bfb6f906e9"
      },
      "outputs": [
        {
          "data": {
            "text/plain": [
              "True"
            ]
          },
          "execution_count": 55,
          "metadata": {},
          "output_type": "execute_result"
        }
      ],
      "source": [
        "'Antonia' in addressen"
      ]
    },
    {
      "cell_type": "markdown",
      "id": "9ebd61f8",
      "metadata": {
        "id": "9ebd61f8"
      },
      "source": [
        "weitere Methoden auf Dictionaries:"
      ]
    },
    {
      "cell_type": "code",
      "execution_count": null,
      "id": "def8ceaf",
      "metadata": {
        "id": "def8ceaf",
        "outputId": "89c813a6-37fc-47e9-b8d4-5f9a2dd0171c"
      },
      "outputs": [
        {
          "data": {
            "text/plain": [
              "dict_items([('Chris', '0155 3443987'), ('Antonia', 'Wohnheimzimmer 8'), ('Ruht', ('01704324458', 'am Upstallgraben 11', '91357 Plaschen'))])"
            ]
          },
          "execution_count": 56,
          "metadata": {},
          "output_type": "execute_result"
        }
      ],
      "source": [
        "addressen.items() # erzeugt eine Liste, die alle Schlüssel/Wert Paare von d als Tupel enthält"
      ]
    },
    {
      "cell_type": "code",
      "execution_count": null,
      "id": "3536b055",
      "metadata": {
        "id": "3536b055",
        "outputId": "516a83ec-4bb9-437b-e6b8-ea1268942941"
      },
      "outputs": [
        {
          "data": {
            "text/plain": [
              "dict_keys(['Chris', 'Antonia', 'Ruht'])"
            ]
          },
          "execution_count": 57,
          "metadata": {},
          "output_type": "execute_result"
        }
      ],
      "source": [
        "addressen.keys() # liefert Liste mit allen in d definierten Schlüssel"
      ]
    },
    {
      "cell_type": "code",
      "execution_count": null,
      "id": "5b992dba",
      "metadata": {
        "id": "5b992dba",
        "outputId": "c7fecf0c-a85a-440d-abd5-a9430ef65053"
      },
      "outputs": [
        {
          "data": {
            "text/plain": [
              "dict_values(['0155 3443987', 'Wohnheimzimmer 8', ('01704324458', 'am Upstallgraben 11', '91357 Plaschen')])"
            ]
          },
          "execution_count": 58,
          "metadata": {},
          "output_type": "execute_result"
        }
      ],
      "source": [
        "addressen.values()   # liefert Liste mit allen in d definierten Werten"
      ]
    },
    {
      "cell_type": "code",
      "execution_count": null,
      "id": "30f07c53",
      "metadata": {
        "id": "30f07c53",
        "outputId": "842f159b-abf3-4216-c96b-514b7e5c1159"
      },
      "outputs": [
        {
          "data": {
            "text/plain": [
              "'0155 3443987'"
            ]
          },
          "execution_count": 59,
          "metadata": {},
          "output_type": "execute_result"
        }
      ],
      "source": [
        "addressen.get('Chris','leider nicht verfügbar')     # liefert den Wert zu Schlüssel k (hier \"Chris\") falls dieser existiert, sonst x (hier \"leider nicht verfügbar\")"
      ]
    },
    {
      "cell_type": "markdown",
      "id": "d0a55ff5",
      "metadata": {
        "id": "d0a55ff5"
      },
      "source": [
        "```python\n",
        "addressen.setdefault(k,x) # setzt addressen[k]=x, wenn der Schlüssel k in d noch nicht vorhanden ist, ansonsten liefert es den Wert von k.\n",
        "```"
      ]
    },
    {
      "cell_type": "code",
      "execution_count": null,
      "id": "b688d28b",
      "metadata": {
        "id": "b688d28b",
        "outputId": "da891d01-ac23-4659-e167-9d42940c0315"
      },
      "outputs": [
        {
          "name": "stdout",
          "output_type": "stream",
          "text": [
            "('Chris', '0155 3443987')\n",
            "('Antonia', 'Wohnheimzimmer 8')\n",
            "('Ruht', ('01704324458', 'am Upstallgraben 11', '91357 Plaschen'))\n"
          ]
        }
      ],
      "source": [
        "for item in addressen.items():  # damit können in einer for-Schleife alle Schlüssel/Wert-Paare durchlaufen werden\n",
        "    print(item)"
      ]
    },
    {
      "cell_type": "code",
      "execution_count": null,
      "id": "aeb5fbae",
      "metadata": {
        "id": "aeb5fbae",
        "outputId": "6ac58299-fe1a-4778-cf2b-8575c3b07b66"
      },
      "outputs": [
        {
          "name": "stdout",
          "output_type": "stream",
          "text": [
            "Chris\n",
            "Antonia\n",
            "Ruht\n"
          ]
        }
      ],
      "source": [
        "for item in addressen.keys():  # damit können in einer for-Schleife alle Schlüssel durchlaufen werden\n",
        "    print(item)"
      ]
    },
    {
      "cell_type": "code",
      "execution_count": null,
      "id": "4aebdd9d",
      "metadata": {
        "id": "4aebdd9d",
        "outputId": "08f090e3-e963-4d68-fc2d-99832a688400"
      },
      "outputs": [
        {
          "name": "stdout",
          "output_type": "stream",
          "text": [
            "0155 3443987\n",
            "Wohnheimzimmer 8\n",
            "('01704324458', 'am Upstallgraben 11', '91357 Plaschen')\n"
          ]
        }
      ],
      "source": [
        "for item in addressen.values():  # damit können in einer for-Schleife alle Werte durchlaufen werden\n",
        "    print(item)"
      ]
    },
    {
      "cell_type": "markdown",
      "id": "4e183047",
      "metadata": {
        "id": "4e183047"
      },
      "source": [
        "## Module"
      ]
    },
    {
      "cell_type": "markdown",
      "id": "a1a978ab",
      "metadata": {
        "id": "a1a978ab"
      },
      "source": [
        "Import Option 1:"
      ]
    },
    {
      "cell_type": "code",
      "execution_count": null,
      "id": "2c51f14d",
      "metadata": {
        "id": "2c51f14d"
      },
      "outputs": [],
      "source": [
        "from numpy import sqrt # numpy ist das bekannteste und größte Mathe Modul"
      ]
    },
    {
      "cell_type": "code",
      "execution_count": null,
      "id": "7e419a10",
      "metadata": {
        "id": "7e419a10",
        "outputId": "ff02301e-93cd-4707-f593-c4cb2c6a3326"
      },
      "outputs": [
        {
          "data": {
            "text/plain": [
              "array([1.73205081, 1.41421356, 1.73205081, 1.        ])"
            ]
          },
          "execution_count": 64,
          "metadata": {},
          "output_type": "execute_result"
        }
      ],
      "source": [
        "sqrt(x)"
      ]
    },
    {
      "cell_type": "code",
      "execution_count": null,
      "id": "6697c86b",
      "metadata": {
        "id": "6697c86b",
        "outputId": "d2635b8a-0a24-4a34-94de-959c75809935"
      },
      "outputs": [
        {
          "ename": "NameError",
          "evalue": "name 'random' is not defined",
          "output_type": "error",
          "traceback": [
            "\u001b[1;31m---------------------------------------------------------------------------\u001b[0m",
            "\u001b[1;31mNameError\u001b[0m                                 Traceback (most recent call last)",
            "Cell \u001b[1;32mIn [65], line 1\u001b[0m\n\u001b[1;32m----> 1\u001b[0m \u001b[43mrandom\u001b[49m\u001b[38;5;241m.\u001b[39mnormal(\u001b[38;5;241m5\u001b[39m, \u001b[38;5;241m0.5\u001b[39m, \u001b[38;5;241m10\u001b[39m)\n",
            "\u001b[1;31mNameError\u001b[0m: name 'random' is not defined"
          ]
        }
      ],
      "source": [
        "random.normal(5, 0.5, 10)"
      ]
    },
    {
      "cell_type": "markdown",
      "id": "e6e6a7e5",
      "metadata": {
        "id": "e6e6a7e5"
      },
      "source": [
        "Import Option 2:"
      ]
    },
    {
      "cell_type": "code",
      "execution_count": null,
      "id": "a4ab1a27",
      "metadata": {
        "id": "a4ab1a27"
      },
      "outputs": [],
      "source": [
        "from numpy import *"
      ]
    },
    {
      "cell_type": "code",
      "execution_count": null,
      "id": "3246f351",
      "metadata": {
        "id": "3246f351",
        "outputId": "bc152422-9ea6-4ec4-c150-01fe1d6229e3"
      },
      "outputs": [
        {
          "data": {
            "text/plain": [
              "array([5.04720102, 4.91548955, 4.94885717, 5.01690585, 4.89599303,\n",
              "       4.90626223, 4.9457173 , 4.93109547, 5.16740929, 5.03677772,\n",
              "       5.01603608, 4.92902452, 4.93137619, 4.99538478, 5.09478092,\n",
              "       4.87469657, 4.87348488, 4.70668301, 5.11860705, 4.89049595,\n",
              "       5.08725131, 4.93269434, 5.01501458, 4.88454664, 4.98150424,\n",
              "       4.97058399, 5.04260051, 5.14554677, 5.09858915, 4.94932269,\n",
              "       5.01738787, 5.08481262, 5.04540435, 5.02407673, 4.92679205,\n",
              "       5.03339884, 5.08399026, 5.15297866, 4.95058166, 4.96896941,\n",
              "       4.9994007 , 4.9817136 , 4.8864447 , 4.96294851, 5.02193071,\n",
              "       4.92771835, 4.8953716 , 5.15993883, 5.02172455, 5.08855288,\n",
              "       4.81473174, 5.05012783, 5.10403528, 5.04691102, 5.11641598,\n",
              "       5.05571232, 5.02053656, 4.915089  , 4.86195827, 4.98971116,\n",
              "       5.15717233, 5.09593432, 5.16467104, 4.94065591, 4.87599702,\n",
              "       4.96156411, 4.87871839, 4.96854658, 4.92757609, 4.97854229,\n",
              "       4.9166685 , 5.05455163, 4.90949833, 4.92547057, 5.07448409,\n",
              "       5.00933061, 4.98881753, 5.06721628, 4.99174127, 5.00091094,\n",
              "       4.94874165, 5.04125182, 4.98469984, 5.01241721, 5.10397875,\n",
              "       4.99882884, 4.98581684, 4.89913306, 4.98804351, 5.04843267,\n",
              "       5.00460593, 4.97631518, 4.93048448, 4.94195545, 4.90427355,\n",
              "       5.09952779, 4.86140702, 5.16230975, 5.16476368, 4.87201856])"
            ]
          },
          "execution_count": 68,
          "metadata": {},
          "output_type": "execute_result"
        }
      ],
      "source": [
        "rand = random.normal(5, 0.1, 100)\n",
        "rand"
      ]
    },
    {
      "cell_type": "markdown",
      "id": "a8984acb",
      "metadata": {
        "id": "a8984acb"
      },
      "source": [
        "Import Option 3:\n",
        "Zur besseren Unterscheidung verschiedener importierter Module verwendet man meinst Kürzel als Vorsilbe:"
      ]
    },
    {
      "cell_type": "code",
      "execution_count": null,
      "id": "5e67822e",
      "metadata": {
        "id": "5e67822e"
      },
      "outputs": [],
      "source": [
        "import numpy as np\n",
        "import matplotlib.pyplot as plt   # matplotlib erlaubt schnelles und schönes Plotten von Graphen"
      ]
    },
    {
      "cell_type": "code",
      "execution_count": null,
      "id": "d101c9f7",
      "metadata": {
        "id": "d101c9f7",
        "outputId": "4c189fa0-b9e4-4ee1-c851-6056901fd19c"
      },
      "outputs": [
        {
          "data": {
            "text/plain": [
              "[<matplotlib.lines.Line2D at 0x24a5bb4df40>]"
            ]
          },
          "execution_count": 70,
          "metadata": {},
          "output_type": "execute_result"
        },
        {
          "data": {
            "image/png": "[encoded data removed]",
            "text/plain": [
              "<Figure size 640x480 with 1 Axes>"
            ]
          },
          "metadata": {},
          "output_type": "display_data"
        }
      ],
      "source": [
        "plt.plot(rand)"
      ]
    },
    {
      "cell_type": "markdown",
      "id": "16f13ecf",
      "metadata": {
        "id": "16f13ecf"
      },
      "source": [
        "Kopiere den Code von https://matplotlib.org/stable/gallery/mplot3d/surface3d.html in die nächste Zelle."
      ]
    },
    {
      "cell_type": "code",
      "execution_count": null,
      "id": "6ef5f7d5",
      "metadata": {
        "id": "6ef5f7d5",
        "outputId": "6a849e17-80fa-44a3-a3ab-13b293313196"
      },
      "outputs": [
        {
          "data": {
            "image/png": "[encoded data removed]",
            "text/plain": [
              "<Figure size 640x480 with 2 Axes>"
            ]
          },
          "metadata": {},
          "output_type": "display_data"
        }
      ],
      "source": [
        "import matplotlib.pyplot as plt\n",
        "from matplotlib import cm\n",
        "from matplotlib.ticker import LinearLocator\n",
        "import numpy as np\n",
        "\n",
        "fig, ax = plt.subplots(subplot_kw={\"projection\": \"3d\"})\n",
        "\n",
        "# Make data.\n",
        "X = np.arange(-5, 5, 0.25)\n",
        "Y = np.arange(-5, 5, 0.25)\n",
        "X, Y = np.meshgrid(X, Y)\n",
        "R = np.sqrt(X**2 + Y**2)\n",
        "Z = np.sin(R)\n",
        "\n",
        "# Plot the surface.\n",
        "surf = ax.plot_surface(X, Y, Z, cmap=cm.coolwarm,\n",
        "                       linewidth=0, antialiased=False)\n",
        "\n",
        "# Customize the z axis.\n",
        "ax.set_zlim(-1.01, 1.01)\n",
        "ax.zaxis.set_major_locator(LinearLocator(10))\n",
        "# A StrMethodFormatter is used automatically\n",
        "ax.zaxis.set_major_formatter('{x:.02f}')\n",
        "\n",
        "# Add a color bar which maps values to colors.\n",
        "fig.colorbar(surf, shrink=0.5, aspect=5)\n",
        "\n",
        "plt.show()"
      ]
    },
    {
      "cell_type": "code",
      "execution_count": null,
      "id": "9c0578c1",
      "metadata": {
        "id": "9c0578c1"
      },
      "outputs": [],
      "source": []
    },
    {
      "cell_type": "markdown",
      "id": "f2a88bfc",
      "metadata": {
        "id": "f2a88bfc"
      },
      "source": [
        "## Klassen"
      ]
    },
    {
      "cell_type": "markdown",
      "id": "d76e2961",
      "metadata": {
        "id": "d76e2961"
      },
      "source": [
        "Klassen sind selbst definierte Typen. Auch Strings, Integer und Co sind vordefinierte bzw. inherente Klassen in Python.\n",
        "\n",
        "Sowie \"def\" eine Funktionsdefinition einleitet, wird durch das Schlüsselwort\n",
        "\n",
        "```Python\n",
        "\n",
        "class X\n",
        "\n",
        "```\n",
        "\n",
        "eine Klasse gekennzeichnet. Klassennamen werden per Konvention mit großem Anfangsbuchstaben geschrieben.\n",
        "\n",
        "Klassen können eigene Variablen haben, die Eigenschaften beschreiben. Diese werden im Kontext einer Klasse \"Attribute\" genannt.\n",
        "\n",
        "Mittels einer\n",
        "```Python\n",
        "__init__()\n",
        "```\n",
        "Methode werden die \"Mindesteigenschaften\" sog. Instanzattribute, die eine Klasse eines bestimmten Typs haben muss, gesetzt. (Z.B. kein neuer Benutzer ohne email-adresse).\n",
        "\n",
        "ein kleines Beispiel:"
      ]
    },
    {
      "cell_type": "code",
      "execution_count": null,
      "id": "9252a55c",
      "metadata": {
        "id": "9252a55c"
      },
      "outputs": [],
      "source": [
        "class Interval:\n",
        "\n",
        "    def __init__(self, name, cent):\n",
        "        self.name = name\n",
        "        self.cent = cent\n",
        "        self.description = \"no description yet\"\n",
        "\n",
        "    def add_description(self, description):\n",
        "        self.description = description\n",
        "\n",
        "    def show(self):\n",
        "        print(\"Name = \"+ self.name)\n",
        "        print(\"Interval in cents = \"+ str(self.cent))\n",
        "        if self.description != \"no description yet\":\n",
        "            print(\"Description = \"+ self.description)"
      ]
    },
    {
      "cell_type": "code",
      "execution_count": null,
      "id": "25903e6f",
      "metadata": {
        "id": "25903e6f",
        "outputId": "d539be3b-73af-4234-99a6-c3462d7e46ed"
      },
      "outputs": [
        {
          "name": "stdout",
          "output_type": "stream",
          "text": [
            "Name = Oktave\n",
            "Interval in cents = 1200\n"
          ]
        }
      ],
      "source": [
        "o = Interval(\"Oktave\", 1200)\n",
        "\n",
        "o.show()"
      ]
    },
    {
      "cell_type": "code",
      "execution_count": null,
      "id": "541b6c7f",
      "metadata": {
        "id": "541b6c7f"
      },
      "outputs": [],
      "source": [
        "a = \"hund\""
      ]
    },
    {
      "cell_type": "code",
      "execution_count": null,
      "id": "f752daf4",
      "metadata": {
        "id": "f752daf4",
        "outputId": "e667ec88-2031-4d7a-b8b0-61f742b54c33"
      },
      "outputs": [
        {
          "data": {
            "text/plain": [
              "str"
            ]
          },
          "execution_count": 76,
          "metadata": {},
          "output_type": "execute_result"
        }
      ],
      "source": [
        "type(a)"
      ]
    },
    {
      "cell_type": "code",
      "execution_count": null,
      "id": "344a39a0",
      "metadata": {
        "id": "344a39a0",
        "outputId": "eb8dc352-7465-4cd9-a5c9-0452a6dd5126"
      },
      "outputs": [
        {
          "data": {
            "text/plain": [
              "'HUND'"
            ]
          },
          "execution_count": 77,
          "metadata": {},
          "output_type": "execute_result"
        }
      ],
      "source": [
        "a.upper()"
      ]
    },
    {
      "cell_type": "markdown",
      "id": "7ee8240e",
      "metadata": {
        "id": "7ee8240e"
      },
      "source": [
        "## File IO"
      ]
    },
    {
      "cell_type": "markdown",
      "id": "4449659e",
      "metadata": {
        "id": "4449659e"
      },
      "source": [
        "Aus einer Datei lesen:"
      ]
    },
    {
      "cell_type": "code",
      "execution_count": null,
      "id": "adb15484",
      "metadata": {
        "id": "adb15484"
      },
      "outputs": [],
      "source": [
        "with open('readme.txt') as f:\n",
        "    lines = f.readlines()\n",
        "print(lines)"
      ]
    },
    {
      "cell_type": "markdown",
      "id": "fac61c14",
      "metadata": {
        "id": "fac61c14"
      },
      "source": [
        "in eine Datei schreiben:"
      ]
    },
    {
      "cell_type": "code",
      "execution_count": null,
      "id": "c0eb2025",
      "metadata": {
        "id": "c0eb2025"
      },
      "outputs": [],
      "source": [
        "with open('readme.txt', 'w') as f:\n",
        "    f.writelines('readme')"
      ]
    },
    {
      "cell_type": "markdown",
      "id": "fc7ab3fc",
      "metadata": {
        "id": "fc7ab3fc"
      },
      "source": [
        "# kleine Aufgaben:"
      ]
    },
    {
      "cell_type": "markdown",
      "id": "425699c6",
      "metadata": {
        "id": "425699c6"
      },
      "source": [
        "Erstelle eine Liste mit Zahlen von 30 bis 70 in 5er Schritten."
      ]
    },
    {
      "cell_type": "code",
      "execution_count": null,
      "id": "689d6f85",
      "metadata": {
        "id": "689d6f85"
      },
      "outputs": [],
      "source": []
    },
    {
      "cell_type": "markdown",
      "id": "df4dbb80",
      "metadata": {
        "id": "df4dbb80"
      },
      "source": [
        "Verbinde und sortiere Liste a mit Liste b = [6,1,58,36,98] zu einer Liste c:\n",
        "\n",
        "Hinweis: eventuell ist ein casting nötig."
      ]
    },
    {
      "cell_type": "code",
      "execution_count": null,
      "id": "c04636b2",
      "metadata": {
        "id": "c04636b2"
      },
      "outputs": [],
      "source": []
    },
    {
      "cell_type": "markdown",
      "id": "a09ef418",
      "metadata": {
        "id": "a09ef418"
      },
      "source": [
        "Gebe das Maximum von c zurück."
      ]
    },
    {
      "cell_type": "code",
      "execution_count": null,
      "id": "4dd9d825",
      "metadata": {
        "id": "4dd9d825"
      },
      "outputs": [],
      "source": []
    },
    {
      "cell_type": "markdown",
      "id": "85c0e4e8",
      "metadata": {
        "id": "85c0e4e8"
      },
      "source": [
        "Gib in einer Schleife immer die Summe des Aktuellen und des vorangegangenen Elementes zurück."
      ]
    },
    {
      "cell_type": "code",
      "execution_count": null,
      "id": "ef541dc4",
      "metadata": {
        "id": "ef541dc4"
      },
      "outputs": [],
      "source": []
    },
    {
      "cell_type": "markdown",
      "id": "59140ff8",
      "metadata": {
        "id": "59140ff8"
      },
      "source": [
        "# Realworld Code zum Lesen"
      ]
    },
    {
      "cell_type": "code",
      "execution_count": null,
      "id": "8ca69df0",
      "metadata": {
        "id": "8ca69df0"
      },
      "outputs": [],
      "source": [
        "with open('Intervals.csv',encoding='utf8') as file:\n",
        "    data = file.read().splitlines()"
      ]
    },
    {
      "cell_type": "code",
      "execution_count": null,
      "id": "7d8a8ea8",
      "metadata": {
        "scrolled": true,
        "id": "7d8a8ea8",
        "outputId": "65bda3b1-e27e-4f24-fac1-0b1dab8d96ae"
      },
      "outputs": [
        {
          "data": {
            "text/plain": [
              "['\"PRIME,\"\"Prime\"\", \"\"1\"\", 1, 0, IntervalClass.MICRO, IntervalGeneric.Micro,\"',\n",
              " '\"SCHISMA,\"\"Schisma\"\", \"\"(3^8*5)/(2^15)\"\", 1.00112915, 1.954, IntervalClass.MICRO, IntervalGeneric.Micro,\"',\n",
              " '\"KOMMA_PYTHAGORAEISCH_ZWOELFTEL,\"\"1/12 pythagoräisches Komma\"\", \"\"((3^12)/(2^19))^(1/12)\"\", 1.001129891, 1.955, IntervalClass.MICRO, IntervalGeneric.Micro,\"',\n",
              " '\"KOMMA_PYTHAGORAEISCH_SECHSTEL,\"\"1/6 pythagoräisches Komma\"\", \"\"(3^2)/(2^4)*2^(5/6)\"\", 1.002261058, 3.910, IntervalClass.MICRO, IntervalGeneric.Micro,\"',\n",
              " '\"KOMMA_SYNTONISCH_VIERTEL,\"\"1/4 syntonisches Komma\"\", \"\"((3^4)/(2^4*5))^(1/4)\"\", 1.003110457, 5.377,IntervalClass.MICRO, IntervalGeneric.Micro,\"',\n",
              " '\"DIASCHISMA,\"\"Diaschisma\"\", \"\"2048/2025\"\", 1.011358025, 19.553, IntervalClass.MICRO, IntervalGeneric.Micro,\"',\n",
              " '\"KOMMA_SYNTONISCH,\"\"syntonisches Komma\"\", \"\"81/80\"\", 1.0125, 21.506, IntervalClass.MICRO,IntervalGeneric.Micro,\"',\n",
              " '\"KOMMA_PYTHAGOREISCH,\"\"pythagoreisches Komma\"\", \"\"3^12/2^19\"\", 1.013643265, 23.460, IntervalClass.MICRO, IntervalGeneric.Micro,\"',\n",
              " '\"DIESIS_GROSS,\"\"große Diesis\"\", \"\"(2^3)*(3^4)/5^4\"\", 1.0368, 62.565, IntervalClass.MICRO,IntervalGeneric.Micro,\"',\n",
              " '\"CHROMA_KLEIN,\"\"kleines Chroma\"\", \"\"25/24\"\", 1.041666667, 70.672, IntervalClass.MICRO, IntervalGeneric.Micro,\"',\n",
              " '\"CHROMA_GROSS,\"\"großes Chroma\"\", \"\"135/128\"\", 1.0546875, 92.179, IntervalClass.MICRO, IntervalGeneric.Micro,\"',\n",
              " '\"SEKUNDE_KLEIN_TEMPERIERT_NAEHERUNGSWERT,\"\"temperierte kleine Sekunde - Näherung\"\", \"\"((2^2)*(7^2))/(5*37)\"\", 1.059459459, 99.994, IntervalClass.TEMPERIERT, IntervalGeneric.Sekunde,\"',\n",
              " '\"SEKUNDE_KLEIN_TEMPERIERT,\"\"temperierte kleine Sekunde\"\", \"\"2^(1/12)\"\", 1.059463094, 100.000, IntervalClass.TEMPERIERT, IntervalGeneric.Sekunde,\"',\n",
              " '\"HALBTON_DIATONISCH,\"\"Diatonischer Halbton\"\", \"\"16/15\"\", 1.066666667, 111.731, IntervalClass.MITTELTOENIG, IntervalGeneric.Sekunde,\"',\n",
              " '\"GANZTON_KLEIN,\"\"kleiner Ganzton\"\", \"\"(2*5)/3^2\"\", 1.111111111, 182.404, IntervalClass.REIN,IntervalGeneric.Sekunde,\"',\n",
              " '\"GANZTON_MITTELTOENIG,\"\"mitteltöniger Ganzton\"\", \"\"(1/2)*5^(1/2)\"\", 1.118033989, 193.157, IntervalClass.MITTELTOENIG, IntervalGeneric.Sekunde,\"',\n",
              " '\"SEKUNDE_GROSS_TEMPERIERT,\"\"temperierte große Sekunde\"\", \"\"2^(2/12)\"\", 1.122462048, 200.000, IntervalClass.TEMPERIERT, IntervalGeneric.Sekunde,\"',\n",
              " '\"SEKUNDE_GROSS_PYTHAGOREISCH,\"\"pythagoreische große Sekunde\"\", \"\"3^2/2^3\"\", 1.125, 203.910, IntervalClass.PYTHAGORAEISCH, IntervalGeneric.Sekunde,\"',\n",
              " '\"TERZ_KLEIN_TEMPERIERT,\"\"temperierte kleine Terz\"\", \"\"2^(3/12)\"\", 1.189207115, 300.000, IntervalClass.TEMPERIERT, IntervalGeneric.Terz,\"',\n",
              " '\"TERZ_KLEIN_NATUERLICH,\"\"natürliche kleine Terz\"\", \"\"(2*3)/5\"\", 1.2, 315.641, IntervalClass.REIN,IntervalGeneric.Terz,\"',\n",
              " '\"TERZ_GROSS_NATUERLICH,\"\"natürliche große Terz\"\", \"\"5/2^2\"\", 1.25, 386.314, IntervalClass.REIN,IntervalGeneric.Terz,\"',\n",
              " '\"TERZ_GROSS_TEMPERIERT,\"\"temperierte große Terz\"\", \"\"2^(4/12)\"\", 1.25992105, 400.000,IntervalClass.TEMPERIERT, IntervalGeneric.Terz,\"',\n",
              " '\"TERZ_GROSS_PYTHAGOREISCH,\"\"pythagoreische große Terz\"\", \"\"3^4/2^6\"\", 1.265625, 407.820,IntervalClass.PYTHAGORAEISCH, IntervalGeneric.Terz,    \"',\n",
              " '\"QUARTE_TEMPERIERT,\"\"temperierte Quarte\"\", \"\"2^(5/12)\"\", 1.334839854, 500.000, IntervalClass.TEMPERIERT,IntervalGeneric.Quarte,\"',\n",
              " '\"TERZ_UEBERMAESSIG_PYTHAGOREISCH,\"\"pythagoreische übermäßige Terz\"\", \"\"3^11/2^17\"\", 1.351524353, 521.505,IntervalClass.PYTHAGORAEISCH, IntervalGeneric.Terz,\"',\n",
              " '\"ALPHORN_FA,\"\"Alphorn Fa\"\", \"\"11/2^3\"\", 1.375, 551.318, IntervalClass.REIN, IntervalGeneric.Quarte,\"',\n",
              " '\"TRITONUS_NATUR,\"\"Naturtritonus\"\", \"\"7/5\"\", 1.4, 582.512, IntervalClass.REIN, IntervalGeneric.Quarte,\"',\n",
              " '\"QUARTE_UEBERMAESSIG,\"\"übermäßige Quarte\"\", \"\"(3^2*5)/2^5\"\", 1.40625, 590.224, IntervalClass.REIN,IntervalGeneric.Quarte,\"',\n",
              " '\"QUINTE_VERMINDERT,\"\"verminderte Quinte\"\", \"\"2^6/(3^2*5)\"\", 1.422222222, 609.776, IntervalClass.REIN,IntervalGeneric.Quinte,\"',\n",
              " '\"QUARTE_UEBERMAESSIG_PYTHAGOREISCH,\"\"pythagoreische übermäßige Quarte\"\", \"\"3^6/2^9\"\", 1.423828125, 611.730,IntervalClass.PYTHAGORAEISCH, IntervalGeneric.Quarte,\"',\n",
              " '\"QUINTE_MITTELTOENIG,\"\"mitteltönige Quinte\"\", \"\"5^(1/4)\"\", 1.495348781, 696.578, IntervalClass.MITTELTOENIG,IntervalGeneric.Quinte,\"',\n",
              " '\"QUINTE_TEMPERIERT,\"\"temperierte Quinte\"\", \"\"2^(7/12)\"\", 1.498307077, 700.000, IntervalClass.TEMPERIERT,IntervalGeneric.Quinte,\"',\n",
              " '\"QUINTE_PYTHAGOREISCH,\"\"pythagoreische Quinte\"\", \"\"3/2\"\", 1.5, 701.955, IntervalClass.PYTHAGORAEISCH,IntervalGeneric.Quinte,\"',\n",
              " '\"WOLFSQUINTE_MITTELTOENIGE,\"\"mitteltönige Wolfsquinte\"\", \"\"(2^7/5^3)*5^(1/4)\"\", 1.531237152, 737.637,IntervalClass.MITTELTOENIG, IntervalGeneric.Quinte,\"',\n",
              " '\"QUINTE_UEBERMAESSIG_NATUERLICHE_DOPPELTERZ,\"\"übermäßige Quinte natürliche Doppelterz\"\", \"\"5^2/2^4\"\", 1.5625,  772.627, IntervalClass.REIN, IntervalGeneric.Quinte,\"',\n",
              " '\"QUINTE_UEBERMAESSIG,\"\"übermäßige Quinte\"\", \"\"(3^4*5)/2^8\"\", 1.58203125, 794.134, IntervalClass.REIN,IntervalGeneric.Quinte,\"',\n",
              " '\"SEXTE_KLEINE_TEMPERIERT,\"\"temperierte kleine Sexte\"\", \"\"2^(8/12)\"\", 1.587401052, 800.000,IntervalClass.TEMPERIERT, IntervalGeneric.Sexte,\"',\n",
              " '\"SEXTE_KLEIN_NATUERLICH,\"\"natürliche kleine Sexte\"\", \"\"2^3/5\"\", 1.6, 813.686, IntervalClass.REIN,IntervalGeneric.Sexte,\"',\n",
              " '\"SEXTE_NATUR,\"\"Natursexte\"\", \"\"13/2^3\"\", 1.625, 840.528, IntervalClass.REIN, IntervalGeneric.Sexte,\"',\n",
              " '\"SEXTE_GROSS_NATUERLICH,\"\"natürliche große Sexte\"\", \"\"5/3\"\", 1.666666667, 884.359, IntervalClass.REIN,IntervalGeneric.Sexte,\"',\n",
              " '\"SEXTE_GROSS_TEMPERIERT,\"\"temperierte große Sexte\"\", \"\"2^(9/12)\"\", 1.681792831, 9000.000,IntervalClass.TEMPERIERT, IntervalGeneric.Sexte,\"',\n",
              " '\"SEXTE_GROSS_PYTHAGOREISCH,\"\"pythagoreische große Sexte\"\", \"\"3^3/2^4\"\", 1.6875, 905.865, IntervalClass.PYTHAGORAEISCH, IntervalGeneric.Sexte,    \"',\n",
              " '\"SEPTIME_NATUR,\"\"Naturseptime i\"\", \"\"7/2^2\"\", 1.75, 968.826, IntervalClass.REIN, IntervalGeneric.Septe,\"',\n",
              " '\"SEPTE_KLEINE_PYTHAGOREISCH,\"\"pythagoreische kleine Septe\"\", \"\"2^4/3^2\"\", 1.777777778, 996.090,IntervalClass.PYTHAGORAEISCH, IntervalGeneric.Septe,\"',\n",
              " '\"SEPTE_KLEINE_TEMPERIERT,\"\"temperierte kleine Septe\"\", \"\"2^(10/12)\"\", 1.781797436, 1000.000,IntervalClass.TEMPERIERT, IntervalGeneric.Septe,\"',\n",
              " '\"SEPTE_KLEIN,\"\"kleine Septe\"\", \"\"3^2/5\"\", 1.8, 1017.596, IntervalClass.REIN, IntervalGeneric.Septe,\"',\n",
              " '\"SEPTE_GROSS,\"\"große Septe\"\", \"\"(2*5^2)/3^3\"\", 1.851851852, 1066.762, IntervalClass.REIN, IntervalGeneric.Septe,\"',\n",
              " '\"SEPTE_GROSS_15PARTIALTON,\"\"große Septe - 15.PT\"\", \"\"(3*5)/2^3\"\", 1.875, 1088.269, IntervalClass.REIN,IntervalGeneric.Septe,\"',\n",
              " '\"SEPTE_GROSS_TEMPERIERT,\"\"temperierte große Septe\"\", \"\"2^(11/12)\"\", 1.887748625, 1100.000,IntervalClass.TEMPERIERT, IntervalGeneric.Septe,\"',\n",
              " '\"OKTAVE,\"\"Oktave\"\", \"\"2\"\", 2, 1200.000, IntervalClass.REIN, IntervalGeneric.Oktave,\"']"
            ]
          },
          "execution_count": 88,
          "metadata": {},
          "output_type": "execute_result"
        }
      ],
      "source": [
        "data"
      ]
    },
    {
      "cell_type": "markdown",
      "id": "14980254",
      "metadata": {
        "id": "14980254"
      },
      "source": [
        "wir wollen die Intervalle bequem in einer Tabelle abspeichern. Dazu importieren wir die Bibliothek: pandas\n",
        "(https://pandas.pydata.org/pandas-docs/stable/user_guide/10min.html#min)"
      ]
    },
    {
      "cell_type": "code",
      "execution_count": null,
      "id": "cb5f6ab0",
      "metadata": {
        "id": "cb5f6ab0"
      },
      "outputs": [],
      "source": [
        "import pandas as pd"
      ]
    },
    {
      "cell_type": "markdown",
      "id": "4be74b04",
      "metadata": {
        "id": "4be74b04"
      },
      "source": [
        "Damit der Input in eine Tabelle bzw. eine Dataframe passt, muss er zuerst in eine Liste (intervals) von gleich langen Listen (interval) gebracht werden. Test:"
      ]
    },
    {
      "cell_type": "code",
      "execution_count": null,
      "id": "c921c8d9",
      "metadata": {
        "scrolled": true,
        "id": "c921c8d9",
        "outputId": "5e05aed1-8bb0-4e14-a774-bc26c6b0d31f"
      },
      "outputs": [
        {
          "name": "stdout",
          "output_type": "stream",
          "text": [
            "0 7\n",
            "1 7\n",
            "2 7\n",
            "3 7\n",
            "4 7\n",
            "5 7\n",
            "6 7\n",
            "7 7\n",
            "8 7\n",
            "9 7\n",
            "10 7\n",
            "11 7\n",
            "12 7\n",
            "13 7\n",
            "14 7\n",
            "15 7\n",
            "16 7\n",
            "17 7\n",
            "18 7\n",
            "19 7\n",
            "20 7\n",
            "21 7\n",
            "22 7\n",
            "23 7\n",
            "24 7\n",
            "25 7\n",
            "26 7\n",
            "27 7\n",
            "28 7\n",
            "29 7\n",
            "30 7\n",
            "31 7\n",
            "32 7\n",
            "33 7\n",
            "34 7\n",
            "35 7\n",
            "36 7\n",
            "37 7\n",
            "38 7\n",
            "39 7\n",
            "40 7\n",
            "41 7\n",
            "42 7\n",
            "43 7\n",
            "44 7\n",
            "45 7\n",
            "46 7\n",
            "47 7\n",
            "48 7\n",
            "49 7\n"
          ]
        }
      ],
      "source": [
        "intervals = []\n",
        "for i,interval in enumerate(data):\n",
        "    a = interval.split(\",\")[:-1]\n",
        "    print(str(i) + ' '+ str(len(a)))\n",
        "    intervals.append(a)\n",
        "# intervals = intervals"
      ]
    },
    {
      "cell_type": "code",
      "execution_count": null,
      "id": "826a7a48",
      "metadata": {
        "id": "826a7a48"
      },
      "outputs": [],
      "source": []
    },
    {
      "cell_type": "code",
      "execution_count": null,
      "id": "23aa24ae",
      "metadata": {
        "scrolled": true,
        "id": "23aa24ae",
        "outputId": "1f5bc042-bbad-4c62-ac3a-c72e65c0a9d1"
      },
      "outputs": [
        {
          "data": {
            "text/plain": [
              "[['\"PRIME',\n",
              "  '\"\"Prime\"\"',\n",
              "  ' \"\"1\"\"',\n",
              "  ' 1',\n",
              "  ' 0',\n",
              "  ' IntervalClass.MICRO',\n",
              "  ' IntervalGeneric.Micro'],\n",
              " ['\"SCHISMA',\n",
              "  '\"\"Schisma\"\"',\n",
              "  ' \"\"(3^8*5)/(2^15)\"\"',\n",
              "  ' 1.00112915',\n",
              "  ' 1.954',\n",
              "  ' IntervalClass.MICRO',\n",
              "  ' IntervalGeneric.Micro'],\n",
              " ['\"KOMMA_PYTHAGORAEISCH_ZWOELFTEL',\n",
              "  '\"\"1/12 pythagoräisches Komma\"\"',\n",
              "  ' \"\"((3^12)/(2^19))^(1/12)\"\"',\n",
              "  ' 1.001129891',\n",
              "  ' 1.955',\n",
              "  ' IntervalClass.MICRO',\n",
              "  ' IntervalGeneric.Micro'],\n",
              " ['\"KOMMA_PYTHAGORAEISCH_SECHSTEL',\n",
              "  '\"\"1/6 pythagoräisches Komma\"\"',\n",
              "  ' \"\"(3^2)/(2^4)*2^(5/6)\"\"',\n",
              "  ' 1.002261058',\n",
              "  ' 3.910',\n",
              "  ' IntervalClass.MICRO',\n",
              "  ' IntervalGeneric.Micro'],\n",
              " ['\"KOMMA_SYNTONISCH_VIERTEL',\n",
              "  '\"\"1/4 syntonisches Komma\"\"',\n",
              "  ' \"\"((3^4)/(2^4*5))^(1/4)\"\"',\n",
              "  ' 1.003110457',\n",
              "  ' 5.377',\n",
              "  'IntervalClass.MICRO',\n",
              "  ' IntervalGeneric.Micro'],\n",
              " ['\"DIASCHISMA',\n",
              "  '\"\"Diaschisma\"\"',\n",
              "  ' \"\"2048/2025\"\"',\n",
              "  ' 1.011358025',\n",
              "  ' 19.553',\n",
              "  ' IntervalClass.MICRO',\n",
              "  ' IntervalGeneric.Micro'],\n",
              " ['\"KOMMA_SYNTONISCH',\n",
              "  '\"\"syntonisches Komma\"\"',\n",
              "  ' \"\"81/80\"\"',\n",
              "  ' 1.0125',\n",
              "  ' 21.506',\n",
              "  ' IntervalClass.MICRO',\n",
              "  'IntervalGeneric.Micro'],\n",
              " ['\"KOMMA_PYTHAGOREISCH',\n",
              "  '\"\"pythagoreisches Komma\"\"',\n",
              "  ' \"\"3^12/2^19\"\"',\n",
              "  ' 1.013643265',\n",
              "  ' 23.460',\n",
              "  ' IntervalClass.MICRO',\n",
              "  ' IntervalGeneric.Micro'],\n",
              " ['\"DIESIS_GROSS',\n",
              "  '\"\"große Diesis\"\"',\n",
              "  ' \"\"(2^3)*(3^4)/5^4\"\"',\n",
              "  ' 1.0368',\n",
              "  ' 62.565',\n",
              "  ' IntervalClass.MICRO',\n",
              "  'IntervalGeneric.Micro'],\n",
              " ['\"CHROMA_KLEIN',\n",
              "  '\"\"kleines Chroma\"\"',\n",
              "  ' \"\"25/24\"\"',\n",
              "  ' 1.041666667',\n",
              "  ' 70.672',\n",
              "  ' IntervalClass.MICRO',\n",
              "  ' IntervalGeneric.Micro'],\n",
              " ['\"CHROMA_GROSS',\n",
              "  '\"\"großes Chroma\"\"',\n",
              "  ' \"\"135/128\"\"',\n",
              "  ' 1.0546875',\n",
              "  ' 92.179',\n",
              "  ' IntervalClass.MICRO',\n",
              "  ' IntervalGeneric.Micro'],\n",
              " ['\"SEKUNDE_KLEIN_TEMPERIERT_NAEHERUNGSWERT',\n",
              "  '\"\"temperierte kleine Sekunde - Näherung\"\"',\n",
              "  ' \"\"((2^2)*(7^2))/(5*37)\"\"',\n",
              "  ' 1.059459459',\n",
              "  ' 99.994',\n",
              "  ' IntervalClass.TEMPERIERT',\n",
              "  ' IntervalGeneric.Sekunde'],\n",
              " ['\"SEKUNDE_KLEIN_TEMPERIERT',\n",
              "  '\"\"temperierte kleine Sekunde\"\"',\n",
              "  ' \"\"2^(1/12)\"\"',\n",
              "  ' 1.059463094',\n",
              "  ' 100.000',\n",
              "  ' IntervalClass.TEMPERIERT',\n",
              "  ' IntervalGeneric.Sekunde'],\n",
              " ['\"HALBTON_DIATONISCH',\n",
              "  '\"\"Diatonischer Halbton\"\"',\n",
              "  ' \"\"16/15\"\"',\n",
              "  ' 1.066666667',\n",
              "  ' 111.731',\n",
              "  ' IntervalClass.MITTELTOENIG',\n",
              "  ' IntervalGeneric.Sekunde'],\n",
              " ['\"GANZTON_KLEIN',\n",
              "  '\"\"kleiner Ganzton\"\"',\n",
              "  ' \"\"(2*5)/3^2\"\"',\n",
              "  ' 1.111111111',\n",
              "  ' 182.404',\n",
              "  ' IntervalClass.REIN',\n",
              "  'IntervalGeneric.Sekunde'],\n",
              " ['\"GANZTON_MITTELTOENIG',\n",
              "  '\"\"mitteltöniger Ganzton\"\"',\n",
              "  ' \"\"(1/2)*5^(1/2)\"\"',\n",
              "  ' 1.118033989',\n",
              "  ' 193.157',\n",
              "  ' IntervalClass.MITTELTOENIG',\n",
              "  ' IntervalGeneric.Sekunde'],\n",
              " ['\"SEKUNDE_GROSS_TEMPERIERT',\n",
              "  '\"\"temperierte große Sekunde\"\"',\n",
              "  ' \"\"2^(2/12)\"\"',\n",
              "  ' 1.122462048',\n",
              "  ' 200.000',\n",
              "  ' IntervalClass.TEMPERIERT',\n",
              "  ' IntervalGeneric.Sekunde'],\n",
              " ['\"SEKUNDE_GROSS_PYTHAGOREISCH',\n",
              "  '\"\"pythagoreische große Sekunde\"\"',\n",
              "  ' \"\"3^2/2^3\"\"',\n",
              "  ' 1.125',\n",
              "  ' 203.910',\n",
              "  ' IntervalClass.PYTHAGORAEISCH',\n",
              "  ' IntervalGeneric.Sekunde'],\n",
              " ['\"TERZ_KLEIN_TEMPERIERT',\n",
              "  '\"\"temperierte kleine Terz\"\"',\n",
              "  ' \"\"2^(3/12)\"\"',\n",
              "  ' 1.189207115',\n",
              "  ' 300.000',\n",
              "  ' IntervalClass.TEMPERIERT',\n",
              "  ' IntervalGeneric.Terz'],\n",
              " ['\"TERZ_KLEIN_NATUERLICH',\n",
              "  '\"\"natürliche kleine Terz\"\"',\n",
              "  ' \"\"(2*3)/5\"\"',\n",
              "  ' 1.2',\n",
              "  ' 315.641',\n",
              "  ' IntervalClass.REIN',\n",
              "  'IntervalGeneric.Terz'],\n",
              " ['\"TERZ_GROSS_NATUERLICH',\n",
              "  '\"\"natürliche große Terz\"\"',\n",
              "  ' \"\"5/2^2\"\"',\n",
              "  ' 1.25',\n",
              "  ' 386.314',\n",
              "  ' IntervalClass.REIN',\n",
              "  'IntervalGeneric.Terz'],\n",
              " ['\"TERZ_GROSS_TEMPERIERT',\n",
              "  '\"\"temperierte große Terz\"\"',\n",
              "  ' \"\"2^(4/12)\"\"',\n",
              "  ' 1.25992105',\n",
              "  ' 400.000',\n",
              "  'IntervalClass.TEMPERIERT',\n",
              "  ' IntervalGeneric.Terz'],\n",
              " ['\"TERZ_GROSS_PYTHAGOREISCH',\n",
              "  '\"\"pythagoreische große Terz\"\"',\n",
              "  ' \"\"3^4/2^6\"\"',\n",
              "  ' 1.265625',\n",
              "  ' 407.820',\n",
              "  'IntervalClass.PYTHAGORAEISCH',\n",
              "  ' IntervalGeneric.Terz'],\n",
              " ['\"QUARTE_TEMPERIERT',\n",
              "  '\"\"temperierte Quarte\"\"',\n",
              "  ' \"\"2^(5/12)\"\"',\n",
              "  ' 1.334839854',\n",
              "  ' 500.000',\n",
              "  ' IntervalClass.TEMPERIERT',\n",
              "  'IntervalGeneric.Quarte'],\n",
              " ['\"TERZ_UEBERMAESSIG_PYTHAGOREISCH',\n",
              "  '\"\"pythagoreische übermäßige Terz\"\"',\n",
              "  ' \"\"3^11/2^17\"\"',\n",
              "  ' 1.351524353',\n",
              "  ' 521.505',\n",
              "  'IntervalClass.PYTHAGORAEISCH',\n",
              "  ' IntervalGeneric.Terz'],\n",
              " ['\"ALPHORN_FA',\n",
              "  '\"\"Alphorn Fa\"\"',\n",
              "  ' \"\"11/2^3\"\"',\n",
              "  ' 1.375',\n",
              "  ' 551.318',\n",
              "  ' IntervalClass.REIN',\n",
              "  ' IntervalGeneric.Quarte'],\n",
              " ['\"TRITONUS_NATUR',\n",
              "  '\"\"Naturtritonus\"\"',\n",
              "  ' \"\"7/5\"\"',\n",
              "  ' 1.4',\n",
              "  ' 582.512',\n",
              "  ' IntervalClass.REIN',\n",
              "  ' IntervalGeneric.Quarte'],\n",
              " ['\"QUARTE_UEBERMAESSIG',\n",
              "  '\"\"übermäßige Quarte\"\"',\n",
              "  ' \"\"(3^2*5)/2^5\"\"',\n",
              "  ' 1.40625',\n",
              "  ' 590.224',\n",
              "  ' IntervalClass.REIN',\n",
              "  'IntervalGeneric.Quarte'],\n",
              " ['\"QUINTE_VERMINDERT',\n",
              "  '\"\"verminderte Quinte\"\"',\n",
              "  ' \"\"2^6/(3^2*5)\"\"',\n",
              "  ' 1.422222222',\n",
              "  ' 609.776',\n",
              "  ' IntervalClass.REIN',\n",
              "  'IntervalGeneric.Quinte'],\n",
              " ['\"QUARTE_UEBERMAESSIG_PYTHAGOREISCH',\n",
              "  '\"\"pythagoreische übermäßige Quarte\"\"',\n",
              "  ' \"\"3^6/2^9\"\"',\n",
              "  ' 1.423828125',\n",
              "  ' 611.730',\n",
              "  'IntervalClass.PYTHAGORAEISCH',\n",
              "  ' IntervalGeneric.Quarte'],\n",
              " ['\"QUINTE_MITTELTOENIG',\n",
              "  '\"\"mitteltönige Quinte\"\"',\n",
              "  ' \"\"5^(1/4)\"\"',\n",
              "  ' 1.495348781',\n",
              "  ' 696.578',\n",
              "  ' IntervalClass.MITTELTOENIG',\n",
              "  'IntervalGeneric.Quinte'],\n",
              " ['\"QUINTE_TEMPERIERT',\n",
              "  '\"\"temperierte Quinte\"\"',\n",
              "  ' \"\"2^(7/12)\"\"',\n",
              "  ' 1.498307077',\n",
              "  ' 700.000',\n",
              "  ' IntervalClass.TEMPERIERT',\n",
              "  'IntervalGeneric.Quinte'],\n",
              " ['\"QUINTE_PYTHAGOREISCH',\n",
              "  '\"\"pythagoreische Quinte\"\"',\n",
              "  ' \"\"3/2\"\"',\n",
              "  ' 1.5',\n",
              "  ' 701.955',\n",
              "  ' IntervalClass.PYTHAGORAEISCH',\n",
              "  'IntervalGeneric.Quinte'],\n",
              " ['\"WOLFSQUINTE_MITTELTOENIGE',\n",
              "  '\"\"mitteltönige Wolfsquinte\"\"',\n",
              "  ' \"\"(2^7/5^3)*5^(1/4)\"\"',\n",
              "  ' 1.531237152',\n",
              "  ' 737.637',\n",
              "  'IntervalClass.MITTELTOENIG',\n",
              "  ' IntervalGeneric.Quinte'],\n",
              " ['\"QUINTE_UEBERMAESSIG_NATUERLICHE_DOPPELTERZ',\n",
              "  '\"\"übermäßige Quinte natürliche Doppelterz\"\"',\n",
              "  ' \"\"5^2/2^4\"\"',\n",
              "  ' 1.5625',\n",
              "  '  772.627',\n",
              "  ' IntervalClass.REIN',\n",
              "  ' IntervalGeneric.Quinte'],\n",
              " ['\"QUINTE_UEBERMAESSIG',\n",
              "  '\"\"übermäßige Quinte\"\"',\n",
              "  ' \"\"(3^4*5)/2^8\"\"',\n",
              "  ' 1.58203125',\n",
              "  ' 794.134',\n",
              "  ' IntervalClass.REIN',\n",
              "  'IntervalGeneric.Quinte'],\n",
              " ['\"SEXTE_KLEINE_TEMPERIERT',\n",
              "  '\"\"temperierte kleine Sexte\"\"',\n",
              "  ' \"\"2^(8/12)\"\"',\n",
              "  ' 1.587401052',\n",
              "  ' 800.000',\n",
              "  'IntervalClass.TEMPERIERT',\n",
              "  ' IntervalGeneric.Sexte'],\n",
              " ['\"SEXTE_KLEIN_NATUERLICH',\n",
              "  '\"\"natürliche kleine Sexte\"\"',\n",
              "  ' \"\"2^3/5\"\"',\n",
              "  ' 1.6',\n",
              "  ' 813.686',\n",
              "  ' IntervalClass.REIN',\n",
              "  'IntervalGeneric.Sexte'],\n",
              " ['\"SEXTE_NATUR',\n",
              "  '\"\"Natursexte\"\"',\n",
              "  ' \"\"13/2^3\"\"',\n",
              "  ' 1.625',\n",
              "  ' 840.528',\n",
              "  ' IntervalClass.REIN',\n",
              "  ' IntervalGeneric.Sexte'],\n",
              " ['\"SEXTE_GROSS_NATUERLICH',\n",
              "  '\"\"natürliche große Sexte\"\"',\n",
              "  ' \"\"5/3\"\"',\n",
              "  ' 1.666666667',\n",
              "  ' 884.359',\n",
              "  ' IntervalClass.REIN',\n",
              "  'IntervalGeneric.Sexte'],\n",
              " ['\"SEXTE_GROSS_TEMPERIERT',\n",
              "  '\"\"temperierte große Sexte\"\"',\n",
              "  ' \"\"2^(9/12)\"\"',\n",
              "  ' 1.681792831',\n",
              "  ' 9000.000',\n",
              "  'IntervalClass.TEMPERIERT',\n",
              "  ' IntervalGeneric.Sexte'],\n",
              " ['\"SEXTE_GROSS_PYTHAGOREISCH',\n",
              "  '\"\"pythagoreische große Sexte\"\"',\n",
              "  ' \"\"3^3/2^4\"\"',\n",
              "  ' 1.6875',\n",
              "  ' 905.865',\n",
              "  ' IntervalClass.PYTHAGORAEISCH',\n",
              "  ' IntervalGeneric.Sexte'],\n",
              " ['\"SEPTIME_NATUR',\n",
              "  '\"\"Naturseptime i\"\"',\n",
              "  ' \"\"7/2^2\"\"',\n",
              "  ' 1.75',\n",
              "  ' 968.826',\n",
              "  ' IntervalClass.REIN',\n",
              "  ' IntervalGeneric.Septe'],\n",
              " ['\"SEPTE_KLEINE_PYTHAGOREISCH',\n",
              "  '\"\"pythagoreische kleine Septe\"\"',\n",
              "  ' \"\"2^4/3^2\"\"',\n",
              "  ' 1.777777778',\n",
              "  ' 996.090',\n",
              "  'IntervalClass.PYTHAGORAEISCH',\n",
              "  ' IntervalGeneric.Septe'],\n",
              " ['\"SEPTE_KLEINE_TEMPERIERT',\n",
              "  '\"\"temperierte kleine Septe\"\"',\n",
              "  ' \"\"2^(10/12)\"\"',\n",
              "  ' 1.781797436',\n",
              "  ' 1000.000',\n",
              "  'IntervalClass.TEMPERIERT',\n",
              "  ' IntervalGeneric.Septe'],\n",
              " ['\"SEPTE_KLEIN',\n",
              "  '\"\"kleine Septe\"\"',\n",
              "  ' \"\"3^2/5\"\"',\n",
              "  ' 1.8',\n",
              "  ' 1017.596',\n",
              "  ' IntervalClass.REIN',\n",
              "  ' IntervalGeneric.Septe'],\n",
              " ['\"SEPTE_GROSS',\n",
              "  '\"\"große Septe\"\"',\n",
              "  ' \"\"(2*5^2)/3^3\"\"',\n",
              "  ' 1.851851852',\n",
              "  ' 1066.762',\n",
              "  ' IntervalClass.REIN',\n",
              "  ' IntervalGeneric.Septe'],\n",
              " ['\"SEPTE_GROSS_15PARTIALTON',\n",
              "  '\"\"große Septe - 15.PT\"\"',\n",
              "  ' \"\"(3*5)/2^3\"\"',\n",
              "  ' 1.875',\n",
              "  ' 1088.269',\n",
              "  ' IntervalClass.REIN',\n",
              "  'IntervalGeneric.Septe'],\n",
              " ['\"SEPTE_GROSS_TEMPERIERT',\n",
              "  '\"\"temperierte große Septe\"\"',\n",
              "  ' \"\"2^(11/12)\"\"',\n",
              "  ' 1.887748625',\n",
              "  ' 1100.000',\n",
              "  'IntervalClass.TEMPERIERT',\n",
              "  ' IntervalGeneric.Septe'],\n",
              " ['\"OKTAVE',\n",
              "  '\"\"Oktave\"\"',\n",
              "  ' \"\"2\"\"',\n",
              "  ' 2',\n",
              "  ' 1200.000',\n",
              "  ' IntervalClass.REIN',\n",
              "  ' IntervalGeneric.Oktave']]"
            ]
          },
          "execution_count": 91,
          "metadata": {},
          "output_type": "execute_result"
        }
      ],
      "source": [
        "intervals"
      ]
    },
    {
      "cell_type": "code",
      "execution_count": null,
      "id": "4bc9c416",
      "metadata": {
        "id": "4bc9c416",
        "outputId": "02864317-d4fb-4a6c-8a9f-c4f97a2dd633"
      },
      "outputs": [
        {
          "name": "stdout",
          "output_type": "stream",
          "text": [
            "\"PRIME\n",
            "1\n",
            "2\n",
            "\"SCHISMA\n",
            "1\n",
            "2\n",
            "\"KOMMA_PYTHAGORAEISCH_ZWOELFTEL\n",
            "1\n",
            "2\n",
            "\"KOMMA_PYTHAGORAEISCH_SECHSTEL\n",
            "1\n",
            "2\n",
            "\"KOMMA_SYNTONISCH_VIERTEL\n",
            "1\n",
            "2\n",
            "\"DIASCHISMA\n",
            "1\n",
            "2\n",
            "\"KOMMA_SYNTONISCH\n",
            "1\n",
            "2\n",
            "\"KOMMA_PYTHAGOREISCH\n",
            "1\n",
            "2\n",
            "\"DIESIS_GROSS\n",
            "1\n",
            "2\n",
            "\"CHROMA_KLEIN\n",
            "1\n",
            "2\n",
            "\"CHROMA_GROSS\n",
            "1\n",
            "2\n",
            "\"SEKUNDE_KLEIN_TEMPERIERT_NAEHERUNGSWERT\n",
            "1\n",
            "2\n",
            "\"SEKUNDE_KLEIN_TEMPERIERT\n",
            "1\n",
            "2\n",
            "\"HALBTON_DIATONISCH\n",
            "1\n",
            "2\n",
            "\"GANZTON_KLEIN\n",
            "1\n",
            "2\n",
            "\"GANZTON_MITTELTOENIG\n",
            "1\n",
            "2\n",
            "\"SEKUNDE_GROSS_TEMPERIERT\n",
            "1\n",
            "2\n",
            "\"SEKUNDE_GROSS_PYTHAGOREISCH\n",
            "1\n",
            "2\n",
            "\"TERZ_KLEIN_TEMPERIERT\n",
            "1\n",
            "2\n",
            "\"TERZ_KLEIN_NATUERLICH\n",
            "1\n",
            "2\n",
            "\"TERZ_GROSS_NATUERLICH\n",
            "1\n",
            "2\n",
            "\"TERZ_GROSS_TEMPERIERT\n",
            "1\n",
            "2\n",
            "\"TERZ_GROSS_PYTHAGOREISCH\n",
            "1\n",
            "2\n",
            "\"QUARTE_TEMPERIERT\n",
            "1\n",
            "2\n",
            "\"TERZ_UEBERMAESSIG_PYTHAGOREISCH\n",
            "1\n",
            "2\n",
            "\"ALPHORN_FA\n",
            "1\n",
            "2\n",
            "\"TRITONUS_NATUR\n",
            "1\n",
            "2\n",
            "\"QUARTE_UEBERMAESSIG\n",
            "1\n",
            "2\n",
            "\"QUINTE_VERMINDERT\n",
            "1\n",
            "2\n",
            "\"QUARTE_UEBERMAESSIG_PYTHAGOREISCH\n",
            "1\n",
            "2\n",
            "\"QUINTE_MITTELTOENIG\n",
            "1\n",
            "2\n",
            "\"QUINTE_TEMPERIERT\n",
            "1\n",
            "2\n",
            "\"QUINTE_PYTHAGOREISCH\n",
            "1\n",
            "2\n",
            "\"WOLFSQUINTE_MITTELTOENIGE\n",
            "1\n",
            "2\n",
            "\"QUINTE_UEBERMAESSIG_NATUERLICHE_DOPPELTERZ\n",
            "1\n",
            "2\n",
            "\"QUINTE_UEBERMAESSIG\n",
            "1\n",
            "2\n",
            "\"SEXTE_KLEINE_TEMPERIERT\n",
            "1\n",
            "2\n",
            "\"SEXTE_KLEIN_NATUERLICH\n",
            "1\n",
            "2\n",
            "\"SEXTE_NATUR\n",
            "1\n",
            "2\n",
            "\"SEXTE_GROSS_NATUERLICH\n",
            "1\n",
            "2\n",
            "\"SEXTE_GROSS_TEMPERIERT\n",
            "1\n",
            "2\n",
            "\"SEXTE_GROSS_PYTHAGOREISCH\n",
            "1\n",
            "2\n",
            "\"SEPTIME_NATUR\n",
            "1\n",
            "2\n",
            "\"SEPTE_KLEINE_PYTHAGOREISCH\n",
            "1\n",
            "2\n",
            "\"SEPTE_KLEINE_TEMPERIERT\n",
            "1\n",
            "2\n",
            "\"SEPTE_KLEIN\n",
            "1\n",
            "2\n",
            "\"SEPTE_GROSS\n",
            "1\n",
            "2\n",
            "\"SEPTE_GROSS_15PARTIALTON\n",
            "1\n",
            "2\n",
            "\"SEPTE_GROSS_TEMPERIERT\n",
            "1\n",
            "2\n",
            "\"OKTAVE\n",
            "1\n",
            "2\n"
          ]
        }
      ],
      "source": [
        "for interval in intervals:\n",
        "    for i,elem in enumerate(interval):\n",
        "        if i == 0:\n",
        "            interval[i] = elem.replace('\"','')\n",
        "            print(elem)\n",
        "        elif i == 1 or i == 2:\n",
        "            interval[i] = elem.replace('\"\"','\"')\n",
        "            print(i)"
      ]
    },
    {
      "cell_type": "code",
      "execution_count": null,
      "id": "0ed3c635",
      "metadata": {
        "id": "0ed3c635",
        "outputId": "fa494a24-56ee-46cc-d453-b94c3e3a205a"
      },
      "outputs": [
        {
          "data": {
            "text/plain": [
              "[['PRIME',\n",
              "  '\"Prime\"',\n",
              "  ' \"1\"',\n",
              "  ' 1',\n",
              "  ' 0',\n",
              "  ' IntervalClass.MICRO',\n",
              "  ' IntervalGeneric.Micro'],\n",
              " ['SCHISMA',\n",
              "  '\"Schisma\"',\n",
              "  ' \"(3^8*5)/(2^15)\"',\n",
              "  ' 1.00112915',\n",
              "  ' 1.954',\n",
              "  ' IntervalClass.MICRO',\n",
              "  ' IntervalGeneric.Micro'],\n",
              " ['KOMMA_PYTHAGORAEISCH_ZWOELFTEL',\n",
              "  '\"1/12 pythagoräisches Komma\"',\n",
              "  ' \"((3^12)/(2^19))^(1/12)\"',\n",
              "  ' 1.001129891',\n",
              "  ' 1.955',\n",
              "  ' IntervalClass.MICRO',\n",
              "  ' IntervalGeneric.Micro'],\n",
              " ['KOMMA_PYTHAGORAEISCH_SECHSTEL',\n",
              "  '\"1/6 pythagoräisches Komma\"',\n",
              "  ' \"(3^2)/(2^4)*2^(5/6)\"',\n",
              "  ' 1.002261058',\n",
              "  ' 3.910',\n",
              "  ' IntervalClass.MICRO',\n",
              "  ' IntervalGeneric.Micro'],\n",
              " ['KOMMA_SYNTONISCH_VIERTEL',\n",
              "  '\"1/4 syntonisches Komma\"',\n",
              "  ' \"((3^4)/(2^4*5))^(1/4)\"',\n",
              "  ' 1.003110457',\n",
              "  ' 5.377',\n",
              "  'IntervalClass.MICRO',\n",
              "  ' IntervalGeneric.Micro'],\n",
              " ['DIASCHISMA',\n",
              "  '\"Diaschisma\"',\n",
              "  ' \"2048/2025\"',\n",
              "  ' 1.011358025',\n",
              "  ' 19.553',\n",
              "  ' IntervalClass.MICRO',\n",
              "  ' IntervalGeneric.Micro'],\n",
              " ['KOMMA_SYNTONISCH',\n",
              "  '\"syntonisches Komma\"',\n",
              "  ' \"81/80\"',\n",
              "  ' 1.0125',\n",
              "  ' 21.506',\n",
              "  ' IntervalClass.MICRO',\n",
              "  'IntervalGeneric.Micro'],\n",
              " ['KOMMA_PYTHAGOREISCH',\n",
              "  '\"pythagoreisches Komma\"',\n",
              "  ' \"3^12/2^19\"',\n",
              "  ' 1.013643265',\n",
              "  ' 23.460',\n",
              "  ' IntervalClass.MICRO',\n",
              "  ' IntervalGeneric.Micro'],\n",
              " ['DIESIS_GROSS',\n",
              "  '\"große Diesis\"',\n",
              "  ' \"(2^3)*(3^4)/5^4\"',\n",
              "  ' 1.0368',\n",
              "  ' 62.565',\n",
              "  ' IntervalClass.MICRO',\n",
              "  'IntervalGeneric.Micro'],\n",
              " ['CHROMA_KLEIN',\n",
              "  '\"kleines Chroma\"',\n",
              "  ' \"25/24\"',\n",
              "  ' 1.041666667',\n",
              "  ' 70.672',\n",
              "  ' IntervalClass.MICRO',\n",
              "  ' IntervalGeneric.Micro'],\n",
              " ['CHROMA_GROSS',\n",
              "  '\"großes Chroma\"',\n",
              "  ' \"135/128\"',\n",
              "  ' 1.0546875',\n",
              "  ' 92.179',\n",
              "  ' IntervalClass.MICRO',\n",
              "  ' IntervalGeneric.Micro'],\n",
              " ['SEKUNDE_KLEIN_TEMPERIERT_NAEHERUNGSWERT',\n",
              "  '\"temperierte kleine Sekunde - Näherung\"',\n",
              "  ' \"((2^2)*(7^2))/(5*37)\"',\n",
              "  ' 1.059459459',\n",
              "  ' 99.994',\n",
              "  ' IntervalClass.TEMPERIERT',\n",
              "  ' IntervalGeneric.Sekunde'],\n",
              " ['SEKUNDE_KLEIN_TEMPERIERT',\n",
              "  '\"temperierte kleine Sekunde\"',\n",
              "  ' \"2^(1/12)\"',\n",
              "  ' 1.059463094',\n",
              "  ' 100.000',\n",
              "  ' IntervalClass.TEMPERIERT',\n",
              "  ' IntervalGeneric.Sekunde'],\n",
              " ['HALBTON_DIATONISCH',\n",
              "  '\"Diatonischer Halbton\"',\n",
              "  ' \"16/15\"',\n",
              "  ' 1.066666667',\n",
              "  ' 111.731',\n",
              "  ' IntervalClass.MITTELTOENIG',\n",
              "  ' IntervalGeneric.Sekunde'],\n",
              " ['GANZTON_KLEIN',\n",
              "  '\"kleiner Ganzton\"',\n",
              "  ' \"(2*5)/3^2\"',\n",
              "  ' 1.111111111',\n",
              "  ' 182.404',\n",
              "  ' IntervalClass.REIN',\n",
              "  'IntervalGeneric.Sekunde'],\n",
              " ['GANZTON_MITTELTOENIG',\n",
              "  '\"mitteltöniger Ganzton\"',\n",
              "  ' \"(1/2)*5^(1/2)\"',\n",
              "  ' 1.118033989',\n",
              "  ' 193.157',\n",
              "  ' IntervalClass.MITTELTOENIG',\n",
              "  ' IntervalGeneric.Sekunde'],\n",
              " ['SEKUNDE_GROSS_TEMPERIERT',\n",
              "  '\"temperierte große Sekunde\"',\n",
              "  ' \"2^(2/12)\"',\n",
              "  ' 1.122462048',\n",
              "  ' 200.000',\n",
              "  ' IntervalClass.TEMPERIERT',\n",
              "  ' IntervalGeneric.Sekunde'],\n",
              " ['SEKUNDE_GROSS_PYTHAGOREISCH',\n",
              "  '\"pythagoreische große Sekunde\"',\n",
              "  ' \"3^2/2^3\"',\n",
              "  ' 1.125',\n",
              "  ' 203.910',\n",
              "  ' IntervalClass.PYTHAGORAEISCH',\n",
              "  ' IntervalGeneric.Sekunde'],\n",
              " ['TERZ_KLEIN_TEMPERIERT',\n",
              "  '\"temperierte kleine Terz\"',\n",
              "  ' \"2^(3/12)\"',\n",
              "  ' 1.189207115',\n",
              "  ' 300.000',\n",
              "  ' IntervalClass.TEMPERIERT',\n",
              "  ' IntervalGeneric.Terz'],\n",
              " ['TERZ_KLEIN_NATUERLICH',\n",
              "  '\"natürliche kleine Terz\"',\n",
              "  ' \"(2*3)/5\"',\n",
              "  ' 1.2',\n",
              "  ' 315.641',\n",
              "  ' IntervalClass.REIN',\n",
              "  'IntervalGeneric.Terz'],\n",
              " ['TERZ_GROSS_NATUERLICH',\n",
              "  '\"natürliche große Terz\"',\n",
              "  ' \"5/2^2\"',\n",
              "  ' 1.25',\n",
              "  ' 386.314',\n",
              "  ' IntervalClass.REIN',\n",
              "  'IntervalGeneric.Terz'],\n",
              " ['TERZ_GROSS_TEMPERIERT',\n",
              "  '\"temperierte große Terz\"',\n",
              "  ' \"2^(4/12)\"',\n",
              "  ' 1.25992105',\n",
              "  ' 400.000',\n",
              "  'IntervalClass.TEMPERIERT',\n",
              "  ' IntervalGeneric.Terz'],\n",
              " ['TERZ_GROSS_PYTHAGOREISCH',\n",
              "  '\"pythagoreische große Terz\"',\n",
              "  ' \"3^4/2^6\"',\n",
              "  ' 1.265625',\n",
              "  ' 407.820',\n",
              "  'IntervalClass.PYTHAGORAEISCH',\n",
              "  ' IntervalGeneric.Terz'],\n",
              " ['QUARTE_TEMPERIERT',\n",
              "  '\"temperierte Quarte\"',\n",
              "  ' \"2^(5/12)\"',\n",
              "  ' 1.334839854',\n",
              "  ' 500.000',\n",
              "  ' IntervalClass.TEMPERIERT',\n",
              "  'IntervalGeneric.Quarte'],\n",
              " ['TERZ_UEBERMAESSIG_PYTHAGOREISCH',\n",
              "  '\"pythagoreische übermäßige Terz\"',\n",
              "  ' \"3^11/2^17\"',\n",
              "  ' 1.351524353',\n",
              "  ' 521.505',\n",
              "  'IntervalClass.PYTHAGORAEISCH',\n",
              "  ' IntervalGeneric.Terz'],\n",
              " ['ALPHORN_FA',\n",
              "  '\"Alphorn Fa\"',\n",
              "  ' \"11/2^3\"',\n",
              "  ' 1.375',\n",
              "  ' 551.318',\n",
              "  ' IntervalClass.REIN',\n",
              "  ' IntervalGeneric.Quarte'],\n",
              " ['TRITONUS_NATUR',\n",
              "  '\"Naturtritonus\"',\n",
              "  ' \"7/5\"',\n",
              "  ' 1.4',\n",
              "  ' 582.512',\n",
              "  ' IntervalClass.REIN',\n",
              "  ' IntervalGeneric.Quarte'],\n",
              " ['QUARTE_UEBERMAESSIG',\n",
              "  '\"übermäßige Quarte\"',\n",
              "  ' \"(3^2*5)/2^5\"',\n",
              "  ' 1.40625',\n",
              "  ' 590.224',\n",
              "  ' IntervalClass.REIN',\n",
              "  'IntervalGeneric.Quarte'],\n",
              " ['QUINTE_VERMINDERT',\n",
              "  '\"verminderte Quinte\"',\n",
              "  ' \"2^6/(3^2*5)\"',\n",
              "  ' 1.422222222',\n",
              "  ' 609.776',\n",
              "  ' IntervalClass.REIN',\n",
              "  'IntervalGeneric.Quinte'],\n",
              " ['QUARTE_UEBERMAESSIG_PYTHAGOREISCH',\n",
              "  '\"pythagoreische übermäßige Quarte\"',\n",
              "  ' \"3^6/2^9\"',\n",
              "  ' 1.423828125',\n",
              "  ' 611.730',\n",
              "  'IntervalClass.PYTHAGORAEISCH',\n",
              "  ' IntervalGeneric.Quarte'],\n",
              " ['QUINTE_MITTELTOENIG',\n",
              "  '\"mitteltönige Quinte\"',\n",
              "  ' \"5^(1/4)\"',\n",
              "  ' 1.495348781',\n",
              "  ' 696.578',\n",
              "  ' IntervalClass.MITTELTOENIG',\n",
              "  'IntervalGeneric.Quinte'],\n",
              " ['QUINTE_TEMPERIERT',\n",
              "  '\"temperierte Quinte\"',\n",
              "  ' \"2^(7/12)\"',\n",
              "  ' 1.498307077',\n",
              "  ' 700.000',\n",
              "  ' IntervalClass.TEMPERIERT',\n",
              "  'IntervalGeneric.Quinte'],\n",
              " ['QUINTE_PYTHAGOREISCH',\n",
              "  '\"pythagoreische Quinte\"',\n",
              "  ' \"3/2\"',\n",
              "  ' 1.5',\n",
              "  ' 701.955',\n",
              "  ' IntervalClass.PYTHAGORAEISCH',\n",
              "  'IntervalGeneric.Quinte'],\n",
              " ['WOLFSQUINTE_MITTELTOENIGE',\n",
              "  '\"mitteltönige Wolfsquinte\"',\n",
              "  ' \"(2^7/5^3)*5^(1/4)\"',\n",
              "  ' 1.531237152',\n",
              "  ' 737.637',\n",
              "  'IntervalClass.MITTELTOENIG',\n",
              "  ' IntervalGeneric.Quinte'],\n",
              " ['QUINTE_UEBERMAESSIG_NATUERLICHE_DOPPELTERZ',\n",
              "  '\"übermäßige Quinte natürliche Doppelterz\"',\n",
              "  ' \"5^2/2^4\"',\n",
              "  ' 1.5625',\n",
              "  '  772.627',\n",
              "  ' IntervalClass.REIN',\n",
              "  ' IntervalGeneric.Quinte'],\n",
              " ['QUINTE_UEBERMAESSIG',\n",
              "  '\"übermäßige Quinte\"',\n",
              "  ' \"(3^4*5)/2^8\"',\n",
              "  ' 1.58203125',\n",
              "  ' 794.134',\n",
              "  ' IntervalClass.REIN',\n",
              "  'IntervalGeneric.Quinte'],\n",
              " ['SEXTE_KLEINE_TEMPERIERT',\n",
              "  '\"temperierte kleine Sexte\"',\n",
              "  ' \"2^(8/12)\"',\n",
              "  ' 1.587401052',\n",
              "  ' 800.000',\n",
              "  'IntervalClass.TEMPERIERT',\n",
              "  ' IntervalGeneric.Sexte'],\n",
              " ['SEXTE_KLEIN_NATUERLICH',\n",
              "  '\"natürliche kleine Sexte\"',\n",
              "  ' \"2^3/5\"',\n",
              "  ' 1.6',\n",
              "  ' 813.686',\n",
              "  ' IntervalClass.REIN',\n",
              "  'IntervalGeneric.Sexte'],\n",
              " ['SEXTE_NATUR',\n",
              "  '\"Natursexte\"',\n",
              "  ' \"13/2^3\"',\n",
              "  ' 1.625',\n",
              "  ' 840.528',\n",
              "  ' IntervalClass.REIN',\n",
              "  ' IntervalGeneric.Sexte'],\n",
              " ['SEXTE_GROSS_NATUERLICH',\n",
              "  '\"natürliche große Sexte\"',\n",
              "  ' \"5/3\"',\n",
              "  ' 1.666666667',\n",
              "  ' 884.359',\n",
              "  ' IntervalClass.REIN',\n",
              "  'IntervalGeneric.Sexte'],\n",
              " ['SEXTE_GROSS_TEMPERIERT',\n",
              "  '\"temperierte große Sexte\"',\n",
              "  ' \"2^(9/12)\"',\n",
              "  ' 1.681792831',\n",
              "  ' 9000.000',\n",
              "  'IntervalClass.TEMPERIERT',\n",
              "  ' IntervalGeneric.Sexte'],\n",
              " ['SEXTE_GROSS_PYTHAGOREISCH',\n",
              "  '\"pythagoreische große Sexte\"',\n",
              "  ' \"3^3/2^4\"',\n",
              "  ' 1.6875',\n",
              "  ' 905.865',\n",
              "  ' IntervalClass.PYTHAGORAEISCH',\n",
              "  ' IntervalGeneric.Sexte'],\n",
              " ['SEPTIME_NATUR',\n",
              "  '\"Naturseptime i\"',\n",
              "  ' \"7/2^2\"',\n",
              "  ' 1.75',\n",
              "  ' 968.826',\n",
              "  ' IntervalClass.REIN',\n",
              "  ' IntervalGeneric.Septe'],\n",
              " ['SEPTE_KLEINE_PYTHAGOREISCH',\n",
              "  '\"pythagoreische kleine Septe\"',\n",
              "  ' \"2^4/3^2\"',\n",
              "  ' 1.777777778',\n",
              "  ' 996.090',\n",
              "  'IntervalClass.PYTHAGORAEISCH',\n",
              "  ' IntervalGeneric.Septe'],\n",
              " ['SEPTE_KLEINE_TEMPERIERT',\n",
              "  '\"temperierte kleine Septe\"',\n",
              "  ' \"2^(10/12)\"',\n",
              "  ' 1.781797436',\n",
              "  ' 1000.000',\n",
              "  'IntervalClass.TEMPERIERT',\n",
              "  ' IntervalGeneric.Septe'],\n",
              " ['SEPTE_KLEIN',\n",
              "  '\"kleine Septe\"',\n",
              "  ' \"3^2/5\"',\n",
              "  ' 1.8',\n",
              "  ' 1017.596',\n",
              "  ' IntervalClass.REIN',\n",
              "  ' IntervalGeneric.Septe'],\n",
              " ['SEPTE_GROSS',\n",
              "  '\"große Septe\"',\n",
              "  ' \"(2*5^2)/3^3\"',\n",
              "  ' 1.851851852',\n",
              "  ' 1066.762',\n",
              "  ' IntervalClass.REIN',\n",
              "  ' IntervalGeneric.Septe'],\n",
              " ['SEPTE_GROSS_15PARTIALTON',\n",
              "  '\"große Septe - 15.PT\"',\n",
              "  ' \"(3*5)/2^3\"',\n",
              "  ' 1.875',\n",
              "  ' 1088.269',\n",
              "  ' IntervalClass.REIN',\n",
              "  'IntervalGeneric.Septe'],\n",
              " ['SEPTE_GROSS_TEMPERIERT',\n",
              "  '\"temperierte große Septe\"',\n",
              "  ' \"2^(11/12)\"',\n",
              "  ' 1.887748625',\n",
              "  ' 1100.000',\n",
              "  'IntervalClass.TEMPERIERT',\n",
              "  ' IntervalGeneric.Septe'],\n",
              " ['OKTAVE',\n",
              "  '\"Oktave\"',\n",
              "  ' \"2\"',\n",
              "  ' 2',\n",
              "  ' 1200.000',\n",
              "  ' IntervalClass.REIN',\n",
              "  ' IntervalGeneric.Oktave']]"
            ]
          },
          "execution_count": 93,
          "metadata": {},
          "output_type": "execute_result"
        }
      ],
      "source": [
        "intervals"
      ]
    },
    {
      "cell_type": "code",
      "execution_count": null,
      "id": "6333ea4d",
      "metadata": {
        "id": "6333ea4d"
      },
      "outputs": [],
      "source": [
        "df = pd.DataFrame(intervals, columns=['key','name', 'description', 'ratio', 'cent', 'interval_class', 'interval_type'])"
      ]
    },
    {
      "cell_type": "code",
      "execution_count": null,
      "id": "7d884d5f",
      "metadata": {
        "id": "7d884d5f",
        "outputId": "80aa9e01-d8ba-48cf-959c-8bdcb52f3d69"
      },
      "outputs": [
        {
          "data": {
            "text/html": [
              "<div>\n",
              "<style scoped>\n",
              "    .dataframe tbody tr th:only-of-type {\n",
              "        vertical-align: middle;\n",
              "    }\n",
              "\n",
              "    .dataframe tbody tr th {\n",
              "        vertical-align: top;\n",
              "    }\n",
              "\n",
              "    .dataframe thead th {\n",
              "        text-align: right;\n",
              "    }\n",
              "</style>\n",
              "<table border=\"1\" class=\"dataframe\">\n",
              "  <thead>\n",
              "    <tr style=\"text-align: right;\">\n",
              "      <th></th>\n",
              "      <th>key</th>\n",
              "      <th>name</th>\n",
              "      <th>description</th>\n",
              "      <th>ratio</th>\n",
              "      <th>cent</th>\n",
              "      <th>interval_class</th>\n",
              "      <th>interval_type</th>\n",
              "    </tr>\n",
              "  </thead>\n",
              "  <tbody>\n",
              "    <tr>\n",
              "      <th>0</th>\n",
              "      <td>PRIME</td>\n",
              "      <td>\"Prime\"</td>\n",
              "      <td>\"1\"</td>\n",
              "      <td>1</td>\n",
              "      <td>0</td>\n",
              "      <td>IntervalClass.MICRO</td>\n",
              "      <td>IntervalGeneric.Micro</td>\n",
              "    </tr>\n",
              "    <tr>\n",
              "      <th>1</th>\n",
              "      <td>SCHISMA</td>\n",
              "      <td>\"Schisma\"</td>\n",
              "      <td>\"(3^8*5)/(2^15)\"</td>\n",
              "      <td>1.00112915</td>\n",
              "      <td>1.954</td>\n",
              "      <td>IntervalClass.MICRO</td>\n",
              "      <td>IntervalGeneric.Micro</td>\n",
              "    </tr>\n",
              "    <tr>\n",
              "      <th>2</th>\n",
              "      <td>KOMMA_PYTHAGORAEISCH_ZWOELFTEL</td>\n",
              "      <td>\"1/12 pythagoräisches Komma\"</td>\n",
              "      <td>\"((3^12)/(2^19))^(1/12)\"</td>\n",
              "      <td>1.001129891</td>\n",
              "      <td>1.955</td>\n",
              "      <td>IntervalClass.MICRO</td>\n",
              "      <td>IntervalGeneric.Micro</td>\n",
              "    </tr>\n",
              "    <tr>\n",
              "      <th>3</th>\n",
              "      <td>KOMMA_PYTHAGORAEISCH_SECHSTEL</td>\n",
              "      <td>\"1/6 pythagoräisches Komma\"</td>\n",
              "      <td>\"(3^2)/(2^4)*2^(5/6)\"</td>\n",
              "      <td>1.002261058</td>\n",
              "      <td>3.910</td>\n",
              "      <td>IntervalClass.MICRO</td>\n",
              "      <td>IntervalGeneric.Micro</td>\n",
              "    </tr>\n",
              "    <tr>\n",
              "      <th>4</th>\n",
              "      <td>KOMMA_SYNTONISCH_VIERTEL</td>\n",
              "      <td>\"1/4 syntonisches Komma\"</td>\n",
              "      <td>\"((3^4)/(2^4*5))^(1/4)\"</td>\n",
              "      <td>1.003110457</td>\n",
              "      <td>5.377</td>\n",
              "      <td>IntervalClass.MICRO</td>\n",
              "      <td>IntervalGeneric.Micro</td>\n",
              "    </tr>\n",
              "    <tr>\n",
              "      <th>5</th>\n",
              "      <td>DIASCHISMA</td>\n",
              "      <td>\"Diaschisma\"</td>\n",
              "      <td>\"2048/2025\"</td>\n",
              "      <td>1.011358025</td>\n",
              "      <td>19.553</td>\n",
              "      <td>IntervalClass.MICRO</td>\n",
              "      <td>IntervalGeneric.Micro</td>\n",
              "    </tr>\n",
              "    <tr>\n",
              "      <th>6</th>\n",
              "      <td>KOMMA_SYNTONISCH</td>\n",
              "      <td>\"syntonisches Komma\"</td>\n",
              "      <td>\"81/80\"</td>\n",
              "      <td>1.0125</td>\n",
              "      <td>21.506</td>\n",
              "      <td>IntervalClass.MICRO</td>\n",
              "      <td>IntervalGeneric.Micro</td>\n",
              "    </tr>\n",
              "    <tr>\n",
              "      <th>7</th>\n",
              "      <td>KOMMA_PYTHAGOREISCH</td>\n",
              "      <td>\"pythagoreisches Komma\"</td>\n",
              "      <td>\"3^12/2^19\"</td>\n",
              "      <td>1.013643265</td>\n",
              "      <td>23.460</td>\n",
              "      <td>IntervalClass.MICRO</td>\n",
              "      <td>IntervalGeneric.Micro</td>\n",
              "    </tr>\n",
              "    <tr>\n",
              "      <th>8</th>\n",
              "      <td>DIESIS_GROSS</td>\n",
              "      <td>\"große Diesis\"</td>\n",
              "      <td>\"(2^3)*(3^4)/5^4\"</td>\n",
              "      <td>1.0368</td>\n",
              "      <td>62.565</td>\n",
              "      <td>IntervalClass.MICRO</td>\n",
              "      <td>IntervalGeneric.Micro</td>\n",
              "    </tr>\n",
              "    <tr>\n",
              "      <th>9</th>\n",
              "      <td>CHROMA_KLEIN</td>\n",
              "      <td>\"kleines Chroma\"</td>\n",
              "      <td>\"25/24\"</td>\n",
              "      <td>1.041666667</td>\n",
              "      <td>70.672</td>\n",
              "      <td>IntervalClass.MICRO</td>\n",
              "      <td>IntervalGeneric.Micro</td>\n",
              "    </tr>\n",
              "    <tr>\n",
              "      <th>10</th>\n",
              "      <td>CHROMA_GROSS</td>\n",
              "      <td>\"großes Chroma\"</td>\n",
              "      <td>\"135/128\"</td>\n",
              "      <td>1.0546875</td>\n",
              "      <td>92.179</td>\n",
              "      <td>IntervalClass.MICRO</td>\n",
              "      <td>IntervalGeneric.Micro</td>\n",
              "    </tr>\n",
              "    <tr>\n",
              "      <th>11</th>\n",
              "      <td>SEKUNDE_KLEIN_TEMPERIERT_NAEHERUNGSWERT</td>\n",
              "      <td>\"temperierte kleine Sekunde - Näherung\"</td>\n",
              "      <td>\"((2^2)*(7^2))/(5*37)\"</td>\n",
              "      <td>1.059459459</td>\n",
              "      <td>99.994</td>\n",
              "      <td>IntervalClass.TEMPERIERT</td>\n",
              "      <td>IntervalGeneric.Sekunde</td>\n",
              "    </tr>\n",
              "    <tr>\n",
              "      <th>12</th>\n",
              "      <td>SEKUNDE_KLEIN_TEMPERIERT</td>\n",
              "      <td>\"temperierte kleine Sekunde\"</td>\n",
              "      <td>\"2^(1/12)\"</td>\n",
              "      <td>1.059463094</td>\n",
              "      <td>100.000</td>\n",
              "      <td>IntervalClass.TEMPERIERT</td>\n",
              "      <td>IntervalGeneric.Sekunde</td>\n",
              "    </tr>\n",
              "    <tr>\n",
              "      <th>13</th>\n",
              "      <td>HALBTON_DIATONISCH</td>\n",
              "      <td>\"Diatonischer Halbton\"</td>\n",
              "      <td>\"16/15\"</td>\n",
              "      <td>1.066666667</td>\n",
              "      <td>111.731</td>\n",
              "      <td>IntervalClass.MITTELTOENIG</td>\n",
              "      <td>IntervalGeneric.Sekunde</td>\n",
              "    </tr>\n",
              "    <tr>\n",
              "      <th>14</th>\n",
              "      <td>GANZTON_KLEIN</td>\n",
              "      <td>\"kleiner Ganzton\"</td>\n",
              "      <td>\"(2*5)/3^2\"</td>\n",
              "      <td>1.111111111</td>\n",
              "      <td>182.404</td>\n",
              "      <td>IntervalClass.REIN</td>\n",
              "      <td>IntervalGeneric.Sekunde</td>\n",
              "    </tr>\n",
              "    <tr>\n",
              "      <th>15</th>\n",
              "      <td>GANZTON_MITTELTOENIG</td>\n",
              "      <td>\"mitteltöniger Ganzton\"</td>\n",
              "      <td>\"(1/2)*5^(1/2)\"</td>\n",
              "      <td>1.118033989</td>\n",
              "      <td>193.157</td>\n",
              "      <td>IntervalClass.MITTELTOENIG</td>\n",
              "      <td>IntervalGeneric.Sekunde</td>\n",
              "    </tr>\n",
              "    <tr>\n",
              "      <th>16</th>\n",
              "      <td>SEKUNDE_GROSS_TEMPERIERT</td>\n",
              "      <td>\"temperierte große Sekunde\"</td>\n",
              "      <td>\"2^(2/12)\"</td>\n",
              "      <td>1.122462048</td>\n",
              "      <td>200.000</td>\n",
              "      <td>IntervalClass.TEMPERIERT</td>\n",
              "      <td>IntervalGeneric.Sekunde</td>\n",
              "    </tr>\n",
              "    <tr>\n",
              "      <th>17</th>\n",
              "      <td>SEKUNDE_GROSS_PYTHAGOREISCH</td>\n",
              "      <td>\"pythagoreische große Sekunde\"</td>\n",
              "      <td>\"3^2/2^3\"</td>\n",
              "      <td>1.125</td>\n",
              "      <td>203.910</td>\n",
              "      <td>IntervalClass.PYTHAGORAEISCH</td>\n",
              "      <td>IntervalGeneric.Sekunde</td>\n",
              "    </tr>\n",
              "    <tr>\n",
              "      <th>18</th>\n",
              "      <td>TERZ_KLEIN_TEMPERIERT</td>\n",
              "      <td>\"temperierte kleine Terz\"</td>\n",
              "      <td>\"2^(3/12)\"</td>\n",
              "      <td>1.189207115</td>\n",
              "      <td>300.000</td>\n",
              "      <td>IntervalClass.TEMPERIERT</td>\n",
              "      <td>IntervalGeneric.Terz</td>\n",
              "    </tr>\n",
              "    <tr>\n",
              "      <th>19</th>\n",
              "      <td>TERZ_KLEIN_NATUERLICH</td>\n",
              "      <td>\"natürliche kleine Terz\"</td>\n",
              "      <td>\"(2*3)/5\"</td>\n",
              "      <td>1.2</td>\n",
              "      <td>315.641</td>\n",
              "      <td>IntervalClass.REIN</td>\n",
              "      <td>IntervalGeneric.Terz</td>\n",
              "    </tr>\n",
              "    <tr>\n",
              "      <th>20</th>\n",
              "      <td>TERZ_GROSS_NATUERLICH</td>\n",
              "      <td>\"natürliche große Terz\"</td>\n",
              "      <td>\"5/2^2\"</td>\n",
              "      <td>1.25</td>\n",
              "      <td>386.314</td>\n",
              "      <td>IntervalClass.REIN</td>\n",
              "      <td>IntervalGeneric.Terz</td>\n",
              "    </tr>\n",
              "    <tr>\n",
              "      <th>21</th>\n",
              "      <td>TERZ_GROSS_TEMPERIERT</td>\n",
              "      <td>\"temperierte große Terz\"</td>\n",
              "      <td>\"2^(4/12)\"</td>\n",
              "      <td>1.25992105</td>\n",
              "      <td>400.000</td>\n",
              "      <td>IntervalClass.TEMPERIERT</td>\n",
              "      <td>IntervalGeneric.Terz</td>\n",
              "    </tr>\n",
              "    <tr>\n",
              "      <th>22</th>\n",
              "      <td>TERZ_GROSS_PYTHAGOREISCH</td>\n",
              "      <td>\"pythagoreische große Terz\"</td>\n",
              "      <td>\"3^4/2^6\"</td>\n",
              "      <td>1.265625</td>\n",
              "      <td>407.820</td>\n",
              "      <td>IntervalClass.PYTHAGORAEISCH</td>\n",
              "      <td>IntervalGeneric.Terz</td>\n",
              "    </tr>\n",
              "    <tr>\n",
              "      <th>23</th>\n",
              "      <td>QUARTE_TEMPERIERT</td>\n",
              "      <td>\"temperierte Quarte\"</td>\n",
              "      <td>\"2^(5/12)\"</td>\n",
              "      <td>1.334839854</td>\n",
              "      <td>500.000</td>\n",
              "      <td>IntervalClass.TEMPERIERT</td>\n",
              "      <td>IntervalGeneric.Quarte</td>\n",
              "    </tr>\n",
              "    <tr>\n",
              "      <th>24</th>\n",
              "      <td>TERZ_UEBERMAESSIG_PYTHAGOREISCH</td>\n",
              "      <td>\"pythagoreische übermäßige Terz\"</td>\n",
              "      <td>\"3^11/2^17\"</td>\n",
              "      <td>1.351524353</td>\n",
              "      <td>521.505</td>\n",
              "      <td>IntervalClass.PYTHAGORAEISCH</td>\n",
              "      <td>IntervalGeneric.Terz</td>\n",
              "    </tr>\n",
              "    <tr>\n",
              "      <th>25</th>\n",
              "      <td>ALPHORN_FA</td>\n",
              "      <td>\"Alphorn Fa\"</td>\n",
              "      <td>\"11/2^3\"</td>\n",
              "      <td>1.375</td>\n",
              "      <td>551.318</td>\n",
              "      <td>IntervalClass.REIN</td>\n",
              "      <td>IntervalGeneric.Quarte</td>\n",
              "    </tr>\n",
              "    <tr>\n",
              "      <th>26</th>\n",
              "      <td>TRITONUS_NATUR</td>\n",
              "      <td>\"Naturtritonus\"</td>\n",
              "      <td>\"7/5\"</td>\n",
              "      <td>1.4</td>\n",
              "      <td>582.512</td>\n",
              "      <td>IntervalClass.REIN</td>\n",
              "      <td>IntervalGeneric.Quarte</td>\n",
              "    </tr>\n",
              "    <tr>\n",
              "      <th>27</th>\n",
              "      <td>QUARTE_UEBERMAESSIG</td>\n",
              "      <td>\"übermäßige Quarte\"</td>\n",
              "      <td>\"(3^2*5)/2^5\"</td>\n",
              "      <td>1.40625</td>\n",
              "      <td>590.224</td>\n",
              "      <td>IntervalClass.REIN</td>\n",
              "      <td>IntervalGeneric.Quarte</td>\n",
              "    </tr>\n",
              "    <tr>\n",
              "      <th>28</th>\n",
              "      <td>QUINTE_VERMINDERT</td>\n",
              "      <td>\"verminderte Quinte\"</td>\n",
              "      <td>\"2^6/(3^2*5)\"</td>\n",
              "      <td>1.422222222</td>\n",
              "      <td>609.776</td>\n",
              "      <td>IntervalClass.REIN</td>\n",
              "      <td>IntervalGeneric.Quinte</td>\n",
              "    </tr>\n",
              "    <tr>\n",
              "      <th>29</th>\n",
              "      <td>QUARTE_UEBERMAESSIG_PYTHAGOREISCH</td>\n",
              "      <td>\"pythagoreische übermäßige Quarte\"</td>\n",
              "      <td>\"3^6/2^9\"</td>\n",
              "      <td>1.423828125</td>\n",
              "      <td>611.730</td>\n",
              "      <td>IntervalClass.PYTHAGORAEISCH</td>\n",
              "      <td>IntervalGeneric.Quarte</td>\n",
              "    </tr>\n",
              "    <tr>\n",
              "      <th>30</th>\n",
              "      <td>QUINTE_MITTELTOENIG</td>\n",
              "      <td>\"mitteltönige Quinte\"</td>\n",
              "      <td>\"5^(1/4)\"</td>\n",
              "      <td>1.495348781</td>\n",
              "      <td>696.578</td>\n",
              "      <td>IntervalClass.MITTELTOENIG</td>\n",
              "      <td>IntervalGeneric.Quinte</td>\n",
              "    </tr>\n",
              "    <tr>\n",
              "      <th>31</th>\n",
              "      <td>QUINTE_TEMPERIERT</td>\n",
              "      <td>\"temperierte Quinte\"</td>\n",
              "      <td>\"2^(7/12)\"</td>\n",
              "      <td>1.498307077</td>\n",
              "      <td>700.000</td>\n",
              "      <td>IntervalClass.TEMPERIERT</td>\n",
              "      <td>IntervalGeneric.Quinte</td>\n",
              "    </tr>\n",
              "    <tr>\n",
              "      <th>32</th>\n",
              "      <td>QUINTE_PYTHAGOREISCH</td>\n",
              "      <td>\"pythagoreische Quinte\"</td>\n",
              "      <td>\"3/2\"</td>\n",
              "      <td>1.5</td>\n",
              "      <td>701.955</td>\n",
              "      <td>IntervalClass.PYTHAGORAEISCH</td>\n",
              "      <td>IntervalGeneric.Quinte</td>\n",
              "    </tr>\n",
              "    <tr>\n",
              "      <th>33</th>\n",
              "      <td>WOLFSQUINTE_MITTELTOENIGE</td>\n",
              "      <td>\"mitteltönige Wolfsquinte\"</td>\n",
              "      <td>\"(2^7/5^3)*5^(1/4)\"</td>\n",
              "      <td>1.531237152</td>\n",
              "      <td>737.637</td>\n",
              "      <td>IntervalClass.MITTELTOENIG</td>\n",
              "      <td>IntervalGeneric.Quinte</td>\n",
              "    </tr>\n",
              "    <tr>\n",
              "      <th>34</th>\n",
              "      <td>QUINTE_UEBERMAESSIG_NATUERLICHE_DOPPELTERZ</td>\n",
              "      <td>\"übermäßige Quinte natürliche Doppelterz\"</td>\n",
              "      <td>\"5^2/2^4\"</td>\n",
              "      <td>1.5625</td>\n",
              "      <td>772.627</td>\n",
              "      <td>IntervalClass.REIN</td>\n",
              "      <td>IntervalGeneric.Quinte</td>\n",
              "    </tr>\n",
              "    <tr>\n",
              "      <th>35</th>\n",
              "      <td>QUINTE_UEBERMAESSIG</td>\n",
              "      <td>\"übermäßige Quinte\"</td>\n",
              "      <td>\"(3^4*5)/2^8\"</td>\n",
              "      <td>1.58203125</td>\n",
              "      <td>794.134</td>\n",
              "      <td>IntervalClass.REIN</td>\n",
              "      <td>IntervalGeneric.Quinte</td>\n",
              "    </tr>\n",
              "    <tr>\n",
              "      <th>36</th>\n",
              "      <td>SEXTE_KLEINE_TEMPERIERT</td>\n",
              "      <td>\"temperierte kleine Sexte\"</td>\n",
              "      <td>\"2^(8/12)\"</td>\n",
              "      <td>1.587401052</td>\n",
              "      <td>800.000</td>\n",
              "      <td>IntervalClass.TEMPERIERT</td>\n",
              "      <td>IntervalGeneric.Sexte</td>\n",
              "    </tr>\n",
              "    <tr>\n",
              "      <th>37</th>\n",
              "      <td>SEXTE_KLEIN_NATUERLICH</td>\n",
              "      <td>\"natürliche kleine Sexte\"</td>\n",
              "      <td>\"2^3/5\"</td>\n",
              "      <td>1.6</td>\n",
              "      <td>813.686</td>\n",
              "      <td>IntervalClass.REIN</td>\n",
              "      <td>IntervalGeneric.Sexte</td>\n",
              "    </tr>\n",
              "    <tr>\n",
              "      <th>38</th>\n",
              "      <td>SEXTE_NATUR</td>\n",
              "      <td>\"Natursexte\"</td>\n",
              "      <td>\"13/2^3\"</td>\n",
              "      <td>1.625</td>\n",
              "      <td>840.528</td>\n",
              "      <td>IntervalClass.REIN</td>\n",
              "      <td>IntervalGeneric.Sexte</td>\n",
              "    </tr>\n",
              "    <tr>\n",
              "      <th>39</th>\n",
              "      <td>SEXTE_GROSS_NATUERLICH</td>\n",
              "      <td>\"natürliche große Sexte\"</td>\n",
              "      <td>\"5/3\"</td>\n",
              "      <td>1.666666667</td>\n",
              "      <td>884.359</td>\n",
              "      <td>IntervalClass.REIN</td>\n",
              "      <td>IntervalGeneric.Sexte</td>\n",
              "    </tr>\n",
              "    <tr>\n",
              "      <th>40</th>\n",
              "      <td>SEXTE_GROSS_TEMPERIERT</td>\n",
              "      <td>\"temperierte große Sexte\"</td>\n",
              "      <td>\"2^(9/12)\"</td>\n",
              "      <td>1.681792831</td>\n",
              "      <td>9000.000</td>\n",
              "      <td>IntervalClass.TEMPERIERT</td>\n",
              "      <td>IntervalGeneric.Sexte</td>\n",
              "    </tr>\n",
              "    <tr>\n",
              "      <th>41</th>\n",
              "      <td>SEXTE_GROSS_PYTHAGOREISCH</td>\n",
              "      <td>\"pythagoreische große Sexte\"</td>\n",
              "      <td>\"3^3/2^4\"</td>\n",
              "      <td>1.6875</td>\n",
              "      <td>905.865</td>\n",
              "      <td>IntervalClass.PYTHAGORAEISCH</td>\n",
              "      <td>IntervalGeneric.Sexte</td>\n",
              "    </tr>\n",
              "    <tr>\n",
              "      <th>42</th>\n",
              "      <td>SEPTIME_NATUR</td>\n",
              "      <td>\"Naturseptime i\"</td>\n",
              "      <td>\"7/2^2\"</td>\n",
              "      <td>1.75</td>\n",
              "      <td>968.826</td>\n",
              "      <td>IntervalClass.REIN</td>\n",
              "      <td>IntervalGeneric.Septe</td>\n",
              "    </tr>\n",
              "    <tr>\n",
              "      <th>43</th>\n",
              "      <td>SEPTE_KLEINE_PYTHAGOREISCH</td>\n",
              "      <td>\"pythagoreische kleine Septe\"</td>\n",
              "      <td>\"2^4/3^2\"</td>\n",
              "      <td>1.777777778</td>\n",
              "      <td>996.090</td>\n",
              "      <td>IntervalClass.PYTHAGORAEISCH</td>\n",
              "      <td>IntervalGeneric.Septe</td>\n",
              "    </tr>\n",
              "    <tr>\n",
              "      <th>44</th>\n",
              "      <td>SEPTE_KLEINE_TEMPERIERT</td>\n",
              "      <td>\"temperierte kleine Septe\"</td>\n",
              "      <td>\"2^(10/12)\"</td>\n",
              "      <td>1.781797436</td>\n",
              "      <td>1000.000</td>\n",
              "      <td>IntervalClass.TEMPERIERT</td>\n",
              "      <td>IntervalGeneric.Septe</td>\n",
              "    </tr>\n",
              "    <tr>\n",
              "      <th>45</th>\n",
              "      <td>SEPTE_KLEIN</td>\n",
              "      <td>\"kleine Septe\"</td>\n",
              "      <td>\"3^2/5\"</td>\n",
              "      <td>1.8</td>\n",
              "      <td>1017.596</td>\n",
              "      <td>IntervalClass.REIN</td>\n",
              "      <td>IntervalGeneric.Septe</td>\n",
              "    </tr>\n",
              "    <tr>\n",
              "      <th>46</th>\n",
              "      <td>SEPTE_GROSS</td>\n",
              "      <td>\"große Septe\"</td>\n",
              "      <td>\"(2*5^2)/3^3\"</td>\n",
              "      <td>1.851851852</td>\n",
              "      <td>1066.762</td>\n",
              "      <td>IntervalClass.REIN</td>\n",
              "      <td>IntervalGeneric.Septe</td>\n",
              "    </tr>\n",
              "    <tr>\n",
              "      <th>47</th>\n",
              "      <td>SEPTE_GROSS_15PARTIALTON</td>\n",
              "      <td>\"große Septe - 15.PT\"</td>\n",
              "      <td>\"(3*5)/2^3\"</td>\n",
              "      <td>1.875</td>\n",
              "      <td>1088.269</td>\n",
              "      <td>IntervalClass.REIN</td>\n",
              "      <td>IntervalGeneric.Septe</td>\n",
              "    </tr>\n",
              "    <tr>\n",
              "      <th>48</th>\n",
              "      <td>SEPTE_GROSS_TEMPERIERT</td>\n",
              "      <td>\"temperierte große Septe\"</td>\n",
              "      <td>\"2^(11/12)\"</td>\n",
              "      <td>1.887748625</td>\n",
              "      <td>1100.000</td>\n",
              "      <td>IntervalClass.TEMPERIERT</td>\n",
              "      <td>IntervalGeneric.Septe</td>\n",
              "    </tr>\n",
              "    <tr>\n",
              "      <th>49</th>\n",
              "      <td>OKTAVE</td>\n",
              "      <td>\"Oktave\"</td>\n",
              "      <td>\"2\"</td>\n",
              "      <td>2</td>\n",
              "      <td>1200.000</td>\n",
              "      <td>IntervalClass.REIN</td>\n",
              "      <td>IntervalGeneric.Oktave</td>\n",
              "    </tr>\n",
              "  </tbody>\n",
              "</table>\n",
              "</div>"
            ],
            "text/plain": [
              "                                           key  \\\n",
              "0                                        PRIME   \n",
              "1                                      SCHISMA   \n",
              "2               KOMMA_PYTHAGORAEISCH_ZWOELFTEL   \n",
              "3                KOMMA_PYTHAGORAEISCH_SECHSTEL   \n",
              "4                     KOMMA_SYNTONISCH_VIERTEL   \n",
              "5                                   DIASCHISMA   \n",
              "6                             KOMMA_SYNTONISCH   \n",
              "7                          KOMMA_PYTHAGOREISCH   \n",
              "8                                 DIESIS_GROSS   \n",
              "9                                 CHROMA_KLEIN   \n",
              "10                                CHROMA_GROSS   \n",
              "11     SEKUNDE_KLEIN_TEMPERIERT_NAEHERUNGSWERT   \n",
              "12                    SEKUNDE_KLEIN_TEMPERIERT   \n",
              "13                          HALBTON_DIATONISCH   \n",
              "14                               GANZTON_KLEIN   \n",
              "15                        GANZTON_MITTELTOENIG   \n",
              "16                    SEKUNDE_GROSS_TEMPERIERT   \n",
              "17                 SEKUNDE_GROSS_PYTHAGOREISCH   \n",
              "18                       TERZ_KLEIN_TEMPERIERT   \n",
              "19                       TERZ_KLEIN_NATUERLICH   \n",
              "20                       TERZ_GROSS_NATUERLICH   \n",
              "21                       TERZ_GROSS_TEMPERIERT   \n",
              "22                    TERZ_GROSS_PYTHAGOREISCH   \n",
              "23                           QUARTE_TEMPERIERT   \n",
              "24             TERZ_UEBERMAESSIG_PYTHAGOREISCH   \n",
              "25                                  ALPHORN_FA   \n",
              "26                              TRITONUS_NATUR   \n",
              "27                         QUARTE_UEBERMAESSIG   \n",
              "28                           QUINTE_VERMINDERT   \n",
              "29           QUARTE_UEBERMAESSIG_PYTHAGOREISCH   \n",
              "30                         QUINTE_MITTELTOENIG   \n",
              "31                           QUINTE_TEMPERIERT   \n",
              "32                        QUINTE_PYTHAGOREISCH   \n",
              "33                   WOLFSQUINTE_MITTELTOENIGE   \n",
              "34  QUINTE_UEBERMAESSIG_NATUERLICHE_DOPPELTERZ   \n",
              "35                         QUINTE_UEBERMAESSIG   \n",
              "36                     SEXTE_KLEINE_TEMPERIERT   \n",
              "37                      SEXTE_KLEIN_NATUERLICH   \n",
              "38                                 SEXTE_NATUR   \n",
              "39                      SEXTE_GROSS_NATUERLICH   \n",
              "40                      SEXTE_GROSS_TEMPERIERT   \n",
              "41                   SEXTE_GROSS_PYTHAGOREISCH   \n",
              "42                               SEPTIME_NATUR   \n",
              "43                  SEPTE_KLEINE_PYTHAGOREISCH   \n",
              "44                     SEPTE_KLEINE_TEMPERIERT   \n",
              "45                                 SEPTE_KLEIN   \n",
              "46                                 SEPTE_GROSS   \n",
              "47                    SEPTE_GROSS_15PARTIALTON   \n",
              "48                      SEPTE_GROSS_TEMPERIERT   \n",
              "49                                      OKTAVE   \n",
              "\n",
              "                                         name                description  \\\n",
              "0                                     \"Prime\"                        \"1\"   \n",
              "1                                   \"Schisma\"           \"(3^8*5)/(2^15)\"   \n",
              "2                \"1/12 pythagoräisches Komma\"   \"((3^12)/(2^19))^(1/12)\"   \n",
              "3                 \"1/6 pythagoräisches Komma\"      \"(3^2)/(2^4)*2^(5/6)\"   \n",
              "4                    \"1/4 syntonisches Komma\"    \"((3^4)/(2^4*5))^(1/4)\"   \n",
              "5                                \"Diaschisma\"                \"2048/2025\"   \n",
              "6                        \"syntonisches Komma\"                    \"81/80\"   \n",
              "7                     \"pythagoreisches Komma\"                \"3^12/2^19\"   \n",
              "8                              \"große Diesis\"          \"(2^3)*(3^4)/5^4\"   \n",
              "9                            \"kleines Chroma\"                    \"25/24\"   \n",
              "10                            \"großes Chroma\"                  \"135/128\"   \n",
              "11    \"temperierte kleine Sekunde - Näherung\"     \"((2^2)*(7^2))/(5*37)\"   \n",
              "12               \"temperierte kleine Sekunde\"                 \"2^(1/12)\"   \n",
              "13                     \"Diatonischer Halbton\"                    \"16/15\"   \n",
              "14                          \"kleiner Ganzton\"                \"(2*5)/3^2\"   \n",
              "15                    \"mitteltöniger Ganzton\"            \"(1/2)*5^(1/2)\"   \n",
              "16                \"temperierte große Sekunde\"                 \"2^(2/12)\"   \n",
              "17             \"pythagoreische große Sekunde\"                  \"3^2/2^3\"   \n",
              "18                  \"temperierte kleine Terz\"                 \"2^(3/12)\"   \n",
              "19                   \"natürliche kleine Terz\"                  \"(2*3)/5\"   \n",
              "20                    \"natürliche große Terz\"                    \"5/2^2\"   \n",
              "21                   \"temperierte große Terz\"                 \"2^(4/12)\"   \n",
              "22                \"pythagoreische große Terz\"                  \"3^4/2^6\"   \n",
              "23                       \"temperierte Quarte\"                 \"2^(5/12)\"   \n",
              "24           \"pythagoreische übermäßige Terz\"                \"3^11/2^17\"   \n",
              "25                               \"Alphorn Fa\"                   \"11/2^3\"   \n",
              "26                            \"Naturtritonus\"                      \"7/5\"   \n",
              "27                        \"übermäßige Quarte\"              \"(3^2*5)/2^5\"   \n",
              "28                       \"verminderte Quinte\"              \"2^6/(3^2*5)\"   \n",
              "29         \"pythagoreische übermäßige Quarte\"                  \"3^6/2^9\"   \n",
              "30                      \"mitteltönige Quinte\"                  \"5^(1/4)\"   \n",
              "31                       \"temperierte Quinte\"                 \"2^(7/12)\"   \n",
              "32                    \"pythagoreische Quinte\"                      \"3/2\"   \n",
              "33                 \"mitteltönige Wolfsquinte\"        \"(2^7/5^3)*5^(1/4)\"   \n",
              "34  \"übermäßige Quinte natürliche Doppelterz\"                  \"5^2/2^4\"   \n",
              "35                        \"übermäßige Quinte\"              \"(3^4*5)/2^8\"   \n",
              "36                 \"temperierte kleine Sexte\"                 \"2^(8/12)\"   \n",
              "37                  \"natürliche kleine Sexte\"                    \"2^3/5\"   \n",
              "38                               \"Natursexte\"                   \"13/2^3\"   \n",
              "39                   \"natürliche große Sexte\"                      \"5/3\"   \n",
              "40                  \"temperierte große Sexte\"                 \"2^(9/12)\"   \n",
              "41               \"pythagoreische große Sexte\"                  \"3^3/2^4\"   \n",
              "42                           \"Naturseptime i\"                    \"7/2^2\"   \n",
              "43              \"pythagoreische kleine Septe\"                  \"2^4/3^2\"   \n",
              "44                 \"temperierte kleine Septe\"                \"2^(10/12)\"   \n",
              "45                             \"kleine Septe\"                    \"3^2/5\"   \n",
              "46                              \"große Septe\"              \"(2*5^2)/3^3\"   \n",
              "47                      \"große Septe - 15.PT\"                \"(3*5)/2^3\"   \n",
              "48                  \"temperierte große Septe\"                \"2^(11/12)\"   \n",
              "49                                   \"Oktave\"                        \"2\"   \n",
              "\n",
              "           ratio       cent                 interval_class  \\\n",
              "0              1          0            IntervalClass.MICRO   \n",
              "1     1.00112915      1.954            IntervalClass.MICRO   \n",
              "2    1.001129891      1.955            IntervalClass.MICRO   \n",
              "3    1.002261058      3.910            IntervalClass.MICRO   \n",
              "4    1.003110457      5.377            IntervalClass.MICRO   \n",
              "5    1.011358025     19.553            IntervalClass.MICRO   \n",
              "6         1.0125     21.506            IntervalClass.MICRO   \n",
              "7    1.013643265     23.460            IntervalClass.MICRO   \n",
              "8         1.0368     62.565            IntervalClass.MICRO   \n",
              "9    1.041666667     70.672            IntervalClass.MICRO   \n",
              "10     1.0546875     92.179            IntervalClass.MICRO   \n",
              "11   1.059459459     99.994       IntervalClass.TEMPERIERT   \n",
              "12   1.059463094    100.000       IntervalClass.TEMPERIERT   \n",
              "13   1.066666667    111.731     IntervalClass.MITTELTOENIG   \n",
              "14   1.111111111    182.404             IntervalClass.REIN   \n",
              "15   1.118033989    193.157     IntervalClass.MITTELTOENIG   \n",
              "16   1.122462048    200.000       IntervalClass.TEMPERIERT   \n",
              "17         1.125    203.910   IntervalClass.PYTHAGORAEISCH   \n",
              "18   1.189207115    300.000       IntervalClass.TEMPERIERT   \n",
              "19           1.2    315.641             IntervalClass.REIN   \n",
              "20          1.25    386.314             IntervalClass.REIN   \n",
              "21    1.25992105    400.000       IntervalClass.TEMPERIERT   \n",
              "22      1.265625    407.820   IntervalClass.PYTHAGORAEISCH   \n",
              "23   1.334839854    500.000       IntervalClass.TEMPERIERT   \n",
              "24   1.351524353    521.505   IntervalClass.PYTHAGORAEISCH   \n",
              "25         1.375    551.318             IntervalClass.REIN   \n",
              "26           1.4    582.512             IntervalClass.REIN   \n",
              "27       1.40625    590.224             IntervalClass.REIN   \n",
              "28   1.422222222    609.776             IntervalClass.REIN   \n",
              "29   1.423828125    611.730   IntervalClass.PYTHAGORAEISCH   \n",
              "30   1.495348781    696.578     IntervalClass.MITTELTOENIG   \n",
              "31   1.498307077    700.000       IntervalClass.TEMPERIERT   \n",
              "32           1.5    701.955   IntervalClass.PYTHAGORAEISCH   \n",
              "33   1.531237152    737.637     IntervalClass.MITTELTOENIG   \n",
              "34        1.5625    772.627             IntervalClass.REIN   \n",
              "35    1.58203125    794.134             IntervalClass.REIN   \n",
              "36   1.587401052    800.000       IntervalClass.TEMPERIERT   \n",
              "37           1.6    813.686             IntervalClass.REIN   \n",
              "38         1.625    840.528             IntervalClass.REIN   \n",
              "39   1.666666667    884.359             IntervalClass.REIN   \n",
              "40   1.681792831   9000.000       IntervalClass.TEMPERIERT   \n",
              "41        1.6875    905.865   IntervalClass.PYTHAGORAEISCH   \n",
              "42          1.75    968.826             IntervalClass.REIN   \n",
              "43   1.777777778    996.090   IntervalClass.PYTHAGORAEISCH   \n",
              "44   1.781797436   1000.000       IntervalClass.TEMPERIERT   \n",
              "45           1.8   1017.596             IntervalClass.REIN   \n",
              "46   1.851851852   1066.762             IntervalClass.REIN   \n",
              "47         1.875   1088.269             IntervalClass.REIN   \n",
              "48   1.887748625   1100.000       IntervalClass.TEMPERIERT   \n",
              "49             2   1200.000             IntervalClass.REIN   \n",
              "\n",
              "               interval_type  \n",
              "0      IntervalGeneric.Micro  \n",
              "1      IntervalGeneric.Micro  \n",
              "2      IntervalGeneric.Micro  \n",
              "3      IntervalGeneric.Micro  \n",
              "4      IntervalGeneric.Micro  \n",
              "5      IntervalGeneric.Micro  \n",
              "6      IntervalGeneric.Micro  \n",
              "7      IntervalGeneric.Micro  \n",
              "8      IntervalGeneric.Micro  \n",
              "9      IntervalGeneric.Micro  \n",
              "10     IntervalGeneric.Micro  \n",
              "11   IntervalGeneric.Sekunde  \n",
              "12   IntervalGeneric.Sekunde  \n",
              "13   IntervalGeneric.Sekunde  \n",
              "14   IntervalGeneric.Sekunde  \n",
              "15   IntervalGeneric.Sekunde  \n",
              "16   IntervalGeneric.Sekunde  \n",
              "17   IntervalGeneric.Sekunde  \n",
              "18      IntervalGeneric.Terz  \n",
              "19      IntervalGeneric.Terz  \n",
              "20      IntervalGeneric.Terz  \n",
              "21      IntervalGeneric.Terz  \n",
              "22      IntervalGeneric.Terz  \n",
              "23    IntervalGeneric.Quarte  \n",
              "24      IntervalGeneric.Terz  \n",
              "25    IntervalGeneric.Quarte  \n",
              "26    IntervalGeneric.Quarte  \n",
              "27    IntervalGeneric.Quarte  \n",
              "28    IntervalGeneric.Quinte  \n",
              "29    IntervalGeneric.Quarte  \n",
              "30    IntervalGeneric.Quinte  \n",
              "31    IntervalGeneric.Quinte  \n",
              "32    IntervalGeneric.Quinte  \n",
              "33    IntervalGeneric.Quinte  \n",
              "34    IntervalGeneric.Quinte  \n",
              "35    IntervalGeneric.Quinte  \n",
              "36     IntervalGeneric.Sexte  \n",
              "37     IntervalGeneric.Sexte  \n",
              "38     IntervalGeneric.Sexte  \n",
              "39     IntervalGeneric.Sexte  \n",
              "40     IntervalGeneric.Sexte  \n",
              "41     IntervalGeneric.Sexte  \n",
              "42     IntervalGeneric.Septe  \n",
              "43     IntervalGeneric.Septe  \n",
              "44     IntervalGeneric.Septe  \n",
              "45     IntervalGeneric.Septe  \n",
              "46     IntervalGeneric.Septe  \n",
              "47     IntervalGeneric.Septe  \n",
              "48     IntervalGeneric.Septe  \n",
              "49    IntervalGeneric.Oktave  "
            ]
          },
          "execution_count": 86,
          "metadata": {},
          "output_type": "execute_result"
        }
      ],
      "source": [
        "df"
      ]
    },
    {
      "cell_type": "markdown",
      "id": "fb7c4b3f",
      "metadata": {
        "id": "fb7c4b3f"
      },
      "source": [
        "# Hausaufgabe"
      ]
    },
    {
      "cell_type": "markdown",
      "id": "f19cf45b",
      "metadata": {
        "id": "f19cf45b"
      },
      "source": [
        "Programmiere in Sypder das erste Projekt im folgenden Video nach: https://www.youtube.com/watch?v=DLn3jOsNRVE&t=291s"
      ]
    },
    {
      "cell_type": "code",
      "execution_count": null,
      "id": "b960ccdb",
      "metadata": {
        "id": "b960ccdb",
        "outputId": "e18cc432-79f7-44a4-90a2-6456fd8d1195"
      },
      "outputs": [
        {
          "name": "stdout",
          "output_type": "stream",
          "text": [
            "Welcome to my computer quiz!\n",
            "Do you want to play? yes\n",
            "Okay! Let's play :)\n",
            "What does CPU stand for? Central Processing UNit\n",
            "Correct!\n",
            "What does GPU stand for? Graphical Processing Unit\n",
            "Incorrect!\n",
            "What does RAM stand for? Rapit Access Memory\n",
            "Incorrect!\n",
            "What does PSU stand for? Power Supply\n",
            "Correct!\n",
            "You got 2 questions correct!\n",
            "You got 50.0%.\n"
          ]
        }
      ],
      "source": [
        "print(\"Welcome to my computer quiz!\")\n",
        "\n",
        "playing = input(\"Do you want to play? \")\n",
        "\n",
        "if playing.lower() != \"yes\":\n",
        "    quit()\n",
        "\n",
        "print(\"Okay! Let's play :)\")\n",
        "score = 0\n",
        "\n",
        "answer = input(\"What does CPU stand for? \")\n",
        "if answer.lower() == \"central processing unit\":\n",
        "    print('Correct!')\n",
        "    score += 1\n",
        "else:\n",
        "    print(\"Incorrect!\")\n",
        "\n",
        "answer = input(\"What does GPU stand for? \")\n",
        "if answer.lower() == \"graphics processing unit\":\n",
        "    print('Correct!')\n",
        "    score += 1\n",
        "else:\n",
        "    print(\"Incorrect!\")\n",
        "\n",
        "answer = input(\"What does RAM stand for? \")\n",
        "if answer.lower() == \"random access memory\":\n",
        "    print('Correct!')\n",
        "    score += 1\n",
        "else:\n",
        "    print(\"Incorrect!\")\n",
        "\n",
        "answer = input(\"What does PSU stand for? \")\n",
        "if answer.lower() == \"power supply\":\n",
        "    print('Correct!')\n",
        "    score += 1\n",
        "else:\n",
        "    print(\"Incorrect!\")\n",
        "\n",
        "print(\"You got \" + str(score) + \" questions correct!\")\n",
        "print(\"You got \" + str((score / 4) * 100) + \"%.\")"
      ]
    },
    {
      "cell_type": "code",
      "execution_count": null,
      "id": "3155c404",
      "metadata": {
        "id": "3155c404"
      },
      "outputs": [],
      "source": []
    }
  ],
  "metadata": {
    "kernelspec": {
      "display_name": "Python 3 (ipykernel)",
      "language": "python",
      "name": "python3"
    },
    "language_info": {
      "codemirror_mode": {
        "name": "ipython",
        "version": 3
      },
      "file_extension": ".py",
      "mimetype": "text/x-python",
      "name": "python",
      "nbconvert_exporter": "python",
      "pygments_lexer": "ipython3",
      "version": "3.9.15"
    },
    "colab": {
      "provenance": [],
      "include_colab_link": true
    }
  },
  "nbformat": 4,
  "nbformat_minor": 5
}