{
  "cells": [
    {
      "cell_type": "markdown",
      "metadata": {
        "id": "view-in-github",
        "colab_type": "text"
      },
      "source": [
        "<a href=\"https://colab.research.google.com/github/Eratofee/anwendungsbezogene_Programmierung/blob/main/3AbschlussGrundkenntnisse.ipynb\" target=\"_parent\"><img src=\"https://colab.research.google.com/assets/colab-badge.svg\" alt=\"Open In Colab\"/></a>"
      ]
    },
    {
      "cell_type": "markdown",
      "source": [
        "# Wiederholung und Warm-Up"
      ],
      "metadata": {
        "id": "6wbpZz_H3oMa"
      },
      "id": "6wbpZz_H3oMa"
    },
    {
      "cell_type": "markdown",
      "id": "f19cf45b",
      "metadata": {
        "id": "f19cf45b"
      },
      "source": [
        "Programmiere das erste Projekt im folgenden Video nach: https://www.youtube.com/watch?v=DLn3jOsNRVE&t=291s"
      ]
    },
    {
      "cell_type": "markdown",
      "id": "eb8d0d3d",
      "metadata": {
        "id": "eb8d0d3d"
      },
      "source": [
        "# weitere Datentypen, Module, Klassen, File IO, Aufgaben"
      ]
    },
    {
      "cell_type": "markdown",
      "id": "9c20ef23",
      "metadata": {
        "id": "9c20ef23"
      },
      "source": [
        "## weitere Datentypen"
      ]
    },
    {
      "cell_type": "markdown",
      "id": "05802d4f",
      "metadata": {
        "id": "05802d4f"
      },
      "source": [
        "### Tuple"
      ]
    },
    {
      "cell_type": "markdown",
      "id": "d301b1b2",
      "metadata": {
        "id": "d301b1b2"
      },
      "source": [
        "Während die eckigen Klammern Listen erzeugen, sind die Kennzeichen eines Tuples die runden Klammern, bzw. Kommata zwischen gemischten Typen:"
      ]
    },
    {
      "cell_type": "code",
      "execution_count": null,
      "id": "1bb0d86d",
      "metadata": {
        "id": "1bb0d86d"
      },
      "outputs": [],
      "source": [
        "t=(3,6,1,2,8,1)"
      ]
    },
    {
      "cell_type": "code",
      "execution_count": null,
      "id": "eda34f72",
      "metadata": {
        "id": "eda34f72"
      },
      "outputs": [],
      "source": [
        "t[2]"
      ]
    },
    {
      "cell_type": "code",
      "execution_count": null,
      "id": "97ae75cc",
      "metadata": {
        "id": "97ae75cc"
      },
      "outputs": [],
      "source": [
        "t[3]=0"
      ]
    },
    {
      "cell_type": "markdown",
      "id": "3cd44236",
      "metadata": {
        "id": "3cd44236"
      },
      "source": [
        "Man kann per Index ein Element ansprechen, es aber nicht verändern: 'tuple' object does not support item assignment"
      ]
    },
    {
      "cell_type": "code",
      "execution_count": null,
      "id": "0f74af7e",
      "metadata": {
        "id": "0f74af7e"
      },
      "outputs": [],
      "source": [
        "x = [1,3,2,3]\n",
        "r = (x,3)\n",
        "r"
      ]
    },
    {
      "cell_type": "markdown",
      "id": "9aa79ae2",
      "metadata": {
        "id": "9aa79ae2"
      },
      "source": [
        "Tuple sind unveränderbar (immutable), wohingegen Listen an beliebiger Stelle überschrieben werden können."
      ]
    },
    {
      "cell_type": "code",
      "execution_count": null,
      "id": "4561b7f1",
      "metadata": {
        "id": "4561b7f1"
      },
      "outputs": [],
      "source": [
        "x.reverse()\n",
        "r"
      ]
    },
    {
      "cell_type": "markdown",
      "id": "122c265c",
      "metadata": {
        "id": "122c265c"
      },
      "source": [
        "### Set"
      ]
    },
    {
      "cell_type": "markdown",
      "id": "9b1332f5",
      "metadata": {
        "id": "9b1332f5"
      },
      "source": [
        "Wichtige Eigentschaften: In einer Menge (engl. \"set\") gibt es keine Duplikate und es ist keine Reihenfolge festgelegt."
      ]
    },
    {
      "cell_type": "markdown",
      "id": "a58e3473",
      "metadata": {
        "id": "a58e3473"
      },
      "source": [
        "Ein Set wird entweder mit {} erstellt, oder mittels der set()-Funktion aus anderen Datentypen gecastet."
      ]
    },
    {
      "cell_type": "code",
      "execution_count": null,
      "id": "413ba338",
      "metadata": {
        "id": "413ba338"
      },
      "outputs": [],
      "source": [
        "korb = {'Apfel', 'Orange', 'Apfel', 'Pfirsich'}\n",
        "print(korb)"
      ]
    },
    {
      "cell_type": "code",
      "execution_count": null,
      "id": "c86fe8a7",
      "metadata": {
        "id": "c86fe8a7"
      },
      "outputs": [],
      "source": [
        "kleiner_korb = set(('Orange', 'Banane', 'Traube')) # aus Tupel\n",
        "# kleiner_korb = set(['Orange', 'Banane', 'Traube']) # aus List\n",
        "kleiner_korb"
      ]
    },
    {
      "cell_type": "code",
      "execution_count": null,
      "id": "c24a12c9",
      "metadata": {
        "id": "c24a12c9"
      },
      "outputs": [],
      "source": [
        "korb | kleiner_korb            # alle Elemente, die in den Sets zu finden sind"
      ]
    },
    {
      "cell_type": "code",
      "execution_count": null,
      "id": "094157b7",
      "metadata": {
        "id": "094157b7"
      },
      "outputs": [],
      "source": [
        "korb & kleiner_korb           # Elemente, die nur in beiden Sets zu finden sind (Schnittmenge)"
      ]
    },
    {
      "cell_type": "code",
      "execution_count": null,
      "id": "f047d4cb",
      "metadata": {
        "id": "f047d4cb"
      },
      "outputs": [],
      "source": [
        "korb ^ kleiner_korb           # Elemente, die in beiden Sets, aber nicht in der gemeinsamen Schnittmenge zu finden sind"
      ]
    },
    {
      "cell_type": "code",
      "execution_count": null,
      "id": "916b4611",
      "metadata": {
        "id": "916b4611"
      },
      "outputs": [],
      "source": [
        "korb.add(\"Nuss\")\n",
        "korb.discard(\"Orange\")\n",
        "print(korb)"
      ]
    },
    {
      "cell_type": "markdown",
      "id": "81204134",
      "metadata": {
        "id": "81204134"
      },
      "source": [
        "### Dictionaries"
      ]
    },
    {
      "cell_type": "code",
      "execution_count": null,
      "id": "c7d3c5ba",
      "metadata": {
        "id": "c7d3c5ba"
      },
      "outputs": [],
      "source": [
        "addressen = {'Wesinger': (\"Anton\",\"015736634098\"), 'Chris': \"0155 3443987\"}"
      ]
    },
    {
      "cell_type": "code",
      "execution_count": null,
      "id": "5b3ac8ed",
      "metadata": {
        "id": "5b3ac8ed"
      },
      "outputs": [],
      "source": [
        "addressen['Antonia'] = \"Wohnheimzimmer 8\""
      ]
    },
    {
      "cell_type": "code",
      "execution_count": null,
      "id": "3ac32b15",
      "metadata": {
        "id": "3ac32b15"
      },
      "outputs": [],
      "source": [
        "addressen"
      ]
    },
    {
      "cell_type": "code",
      "execution_count": null,
      "id": "90557af6",
      "metadata": {
        "id": "90557af6"
      },
      "outputs": [],
      "source": [
        "addressen['Antonia']"
      ]
    },
    {
      "cell_type": "code",
      "execution_count": null,
      "id": "87549429",
      "metadata": {
        "id": "87549429"
      },
      "outputs": [],
      "source": [
        "del addressen['Wesinger']"
      ]
    },
    {
      "cell_type": "code",
      "execution_count": null,
      "id": "4389266d",
      "metadata": {
        "id": "4389266d"
      },
      "outputs": [],
      "source": [
        "addressen"
      ]
    },
    {
      "cell_type": "code",
      "execution_count": null,
      "id": "2854ece3",
      "metadata": {
        "id": "2854ece3"
      },
      "outputs": [],
      "source": [
        "addressen['Ruht'] = (\"01704324458\",'am Upstallgraben 11', \"91357 Plaschen\")"
      ]
    },
    {
      "cell_type": "code",
      "execution_count": null,
      "id": "dc634c79",
      "metadata": {
        "id": "dc634c79"
      },
      "outputs": [],
      "source": [
        "addressen"
      ]
    },
    {
      "cell_type": "code",
      "execution_count": null,
      "id": "7868bcc8",
      "metadata": {
        "id": "7868bcc8"
      },
      "outputs": [],
      "source": [
        "list(addressen)"
      ]
    },
    {
      "cell_type": "code",
      "execution_count": null,
      "id": "534f48a6",
      "metadata": {
        "id": "534f48a6"
      },
      "outputs": [],
      "source": [
        "sorted(addressen)"
      ]
    },
    {
      "cell_type": "code",
      "execution_count": null,
      "id": "1c722c5e",
      "metadata": {
        "id": "1c722c5e"
      },
      "outputs": [],
      "source": [
        "'Antonia' in addressen"
      ]
    },
    {
      "cell_type": "markdown",
      "id": "9ebd61f8",
      "metadata": {
        "id": "9ebd61f8"
      },
      "source": [
        "weitere Methoden auf Dictionaries:"
      ]
    },
    {
      "cell_type": "code",
      "execution_count": null,
      "id": "def8ceaf",
      "metadata": {
        "id": "def8ceaf"
      },
      "outputs": [],
      "source": [
        "addressen.items() # erzeugt eine Liste, die alle Schlüssel/Wert Paare von d als Tupel enthält"
      ]
    },
    {
      "cell_type": "code",
      "execution_count": null,
      "id": "3536b055",
      "metadata": {
        "id": "3536b055"
      },
      "outputs": [],
      "source": [
        "addressen.keys() # liefert Liste mit allen in d definierten Schlüssel"
      ]
    },
    {
      "cell_type": "code",
      "execution_count": null,
      "id": "5b992dba",
      "metadata": {
        "id": "5b992dba"
      },
      "outputs": [],
      "source": [
        "addressen.values()   # liefert Liste mit allen in d definierten Werten"
      ]
    },
    {
      "cell_type": "code",
      "execution_count": null,
      "id": "30f07c53",
      "metadata": {
        "id": "30f07c53"
      },
      "outputs": [],
      "source": [
        "addressen.get('Chris','leider nicht verfügbar')     # liefert den Wert zu Schlüssel k (hier \"Chris\") falls dieser existiert, sonst x (hier \"leider nicht verfügbar\")"
      ]
    },
    {
      "cell_type": "markdown",
      "id": "d0a55ff5",
      "metadata": {
        "id": "d0a55ff5"
      },
      "source": [
        "```python\n",
        "addressen.setdefault(k,x) # setzt addressen[k]=x, wenn der Schlüssel k in d noch nicht vorhanden ist, ansonsten liefert es den Wert von k.\n",
        "```"
      ]
    },
    {
      "cell_type": "code",
      "execution_count": null,
      "id": "b688d28b",
      "metadata": {
        "id": "b688d28b"
      },
      "outputs": [],
      "source": [
        "for item in addressen.items():  # damit können in einer for-Schleife alle Schlüssel/Wert-Paare durchlaufen werden\n",
        "    print(item)"
      ]
    },
    {
      "cell_type": "code",
      "execution_count": null,
      "id": "aeb5fbae",
      "metadata": {
        "id": "aeb5fbae"
      },
      "outputs": [],
      "source": [
        "for item in addressen.keys():  # damit können in einer for-Schleife alle Schlüssel durchlaufen werden\n",
        "    print(item)"
      ]
    },
    {
      "cell_type": "code",
      "execution_count": null,
      "id": "4aebdd9d",
      "metadata": {
        "id": "4aebdd9d"
      },
      "outputs": [],
      "source": [
        "for item in addressen.values():  # damit können in einer for-Schleife alle Werte durchlaufen werden\n",
        "    print(item)"
      ]
    },
    {
      "cell_type": "markdown",
      "id": "4e183047",
      "metadata": {
        "id": "4e183047"
      },
      "source": [
        "## Module"
      ]
    },
    {
      "cell_type": "markdown",
      "id": "a1a978ab",
      "metadata": {
        "id": "a1a978ab"
      },
      "source": [
        "Import Option 1:"
      ]
    },
    {
      "cell_type": "code",
      "execution_count": null,
      "id": "2c51f14d",
      "metadata": {
        "id": "2c51f14d"
      },
      "outputs": [],
      "source": [
        "from numpy import sqrt # numpy ist das bekannteste und größte Mathe Modul"
      ]
    },
    {
      "cell_type": "code",
      "execution_count": null,
      "id": "7e419a10",
      "metadata": {
        "id": "7e419a10"
      },
      "outputs": [],
      "source": [
        "sqrt(x)"
      ]
    },
    {
      "cell_type": "code",
      "execution_count": null,
      "id": "6697c86b",
      "metadata": {
        "id": "6697c86b"
      },
      "outputs": [],
      "source": [
        "random.normal(5, 0.5, 10)"
      ]
    },
    {
      "cell_type": "markdown",
      "id": "e6e6a7e5",
      "metadata": {
        "id": "e6e6a7e5"
      },
      "source": [
        "Import Option 2:"
      ]
    },
    {
      "cell_type": "code",
      "execution_count": null,
      "id": "a4ab1a27",
      "metadata": {
        "id": "a4ab1a27"
      },
      "outputs": [],
      "source": [
        "from numpy import *"
      ]
    },
    {
      "cell_type": "code",
      "execution_count": null,
      "id": "3246f351",
      "metadata": {
        "id": "3246f351"
      },
      "outputs": [],
      "source": [
        "rand = random.normal(5, 0.1, 100)\n",
        "rand"
      ]
    },
    {
      "cell_type": "markdown",
      "id": "a8984acb",
      "metadata": {
        "id": "a8984acb"
      },
      "source": [
        "Import Option 3:\n",
        "Zur besseren Unterscheidung verschiedener importierter Module verwendet man meinst Kürzel als Vorsilbe:"
      ]
    },
    {
      "cell_type": "code",
      "execution_count": null,
      "id": "5e67822e",
      "metadata": {
        "id": "5e67822e"
      },
      "outputs": [],
      "source": [
        "import numpy as np\n",
        "import matplotlib.pyplot as plt   # matplotlib erlaubt schnelles und schönes Plotten von Graphen"
      ]
    },
    {
      "cell_type": "code",
      "execution_count": null,
      "id": "d101c9f7",
      "metadata": {
        "id": "d101c9f7"
      },
      "outputs": [],
      "source": [
        "plt.plot(rand)"
      ]
    },
    {
      "cell_type": "markdown",
      "id": "16f13ecf",
      "metadata": {
        "id": "16f13ecf"
      },
      "source": [
        "Kopiere den Code von https://matplotlib.org/stable/gallery/mplot3d/surface3d.html in die nächste Zelle."
      ]
    },
    {
      "cell_type": "code",
      "execution_count": null,
      "id": "6ef5f7d5",
      "metadata": {
        "id": "6ef5f7d5"
      },
      "outputs": [],
      "source": []
    },
    {
      "cell_type": "code",
      "execution_count": null,
      "id": "9c0578c1",
      "metadata": {
        "id": "9c0578c1"
      },
      "outputs": [],
      "source": []
    },
    {
      "cell_type": "markdown",
      "id": "f2a88bfc",
      "metadata": {
        "id": "f2a88bfc"
      },
      "source": [
        "## Klassen"
      ]
    },
    {
      "cell_type": "markdown",
      "id": "d76e2961",
      "metadata": {
        "id": "d76e2961"
      },
      "source": [
        "Klassen sind selbst definierte Typen. Auch Strings, Integer und Co sind vordefinierte bzw. inherente Klassen in Python.\n",
        "\n",
        "Sowie \"def\" eine Funktionsdefinition einleitet, wird durch das Schlüsselwort\n",
        "\n",
        "```Python\n",
        "\n",
        "class X\n",
        "\n",
        "```\n",
        "\n",
        "eine Klasse gekennzeichnet. Klassennamen werden per Konvention mit großem Anfangsbuchstaben geschrieben.\n",
        "\n",
        "Klassen können eigene Variablen haben, die Eigenschaften beschreiben. Diese werden im Kontext einer Klasse \"Attribute\" genannt.\n",
        "\n",
        "Mittels einer\n",
        "```Python\n",
        "__init__()\n",
        "```\n",
        "Methode werden die \"Mindesteigenschaften\" sog. Instanzattribute, die eine Klasse eines bestimmten Typs haben muss, gesetzt. (Z.B. kein neuer Benutzer ohne email-adresse).\n",
        "\n",
        "ein kleines Beispiel:"
      ]
    },
    {
      "cell_type": "code",
      "execution_count": null,
      "id": "9252a55c",
      "metadata": {
        "id": "9252a55c"
      },
      "outputs": [],
      "source": [
        "class Interval:\n",
        "\n",
        "    def __init__(self, name, cent):\n",
        "        self.name = name\n",
        "        self.cent = cent\n",
        "        self.description = \"no description yet\"\n",
        "\n",
        "    def add_description(self, description):\n",
        "        self.description = description\n",
        "\n",
        "    def show(self):\n",
        "        print(\"Name = \"+ self.name)\n",
        "        print(\"Interval in cents = \"+ str(self.cent))\n",
        "        if self.description != \"no description yet\":\n",
        "            print(\"Description = \"+ self.description)"
      ]
    },
    {
      "cell_type": "code",
      "execution_count": null,
      "id": "25903e6f",
      "metadata": {
        "id": "25903e6f"
      },
      "outputs": [],
      "source": [
        "o = Interval(\"Oktave\", 1200)\n",
        "\n",
        "o.show()"
      ]
    },
    {
      "cell_type": "code",
      "execution_count": null,
      "id": "541b6c7f",
      "metadata": {
        "id": "541b6c7f"
      },
      "outputs": [],
      "source": [
        "a = \"hund\""
      ]
    },
    {
      "cell_type": "code",
      "execution_count": null,
      "id": "f752daf4",
      "metadata": {
        "id": "f752daf4"
      },
      "outputs": [],
      "source": [
        "type(a)"
      ]
    },
    {
      "cell_type": "code",
      "execution_count": null,
      "id": "344a39a0",
      "metadata": {
        "id": "344a39a0"
      },
      "outputs": [],
      "source": [
        "a.upper()"
      ]
    },
    {
      "cell_type": "markdown",
      "id": "7ee8240e",
      "metadata": {
        "id": "7ee8240e"
      },
      "source": [
        "## File IO"
      ]
    },
    {
      "cell_type": "markdown",
      "id": "fac61c14",
      "metadata": {
        "id": "fac61c14"
      },
      "source": [
        "in eine Datei schreiben:"
      ]
    },
    {
      "cell_type": "code",
      "execution_count": null,
      "id": "c0eb2025",
      "metadata": {
        "id": "c0eb2025"
      },
      "outputs": [],
      "source": [
        "with open('readme.txt', 'w') as f:\n",
        "    f.writelines('readme')"
      ]
    },
    {
      "cell_type": "markdown",
      "id": "4449659e",
      "metadata": {
        "id": "4449659e"
      },
      "source": [
        "Aus einer Datei lesen:"
      ]
    },
    {
      "cell_type": "code",
      "execution_count": null,
      "id": "adb15484",
      "metadata": {
        "id": "adb15484"
      },
      "outputs": [],
      "source": [
        "with open('readme.txt') as f:\n",
        "    lines = f.readlines()\n",
        "print(lines)"
      ]
    },
    {
      "cell_type": "code",
      "source": [],
      "metadata": {
        "id": "oSGYYY4jp5kL"
      },
      "id": "oSGYYY4jp5kL",
      "execution_count": null,
      "outputs": []
    },
    {
      "cell_type": "markdown",
      "id": "fc7ab3fc",
      "metadata": {
        "id": "fc7ab3fc"
      },
      "source": [
        "# kleine Aufgaben:"
      ]
    },
    {
      "cell_type": "markdown",
      "id": "425699c6",
      "metadata": {
        "id": "425699c6"
      },
      "source": [
        "Erstelle eine Liste mit Zahlen von 30 bis 70 in 5er Schritten."
      ]
    },
    {
      "cell_type": "code",
      "execution_count": null,
      "id": "689d6f85",
      "metadata": {
        "id": "689d6f85"
      },
      "outputs": [],
      "source": []
    },
    {
      "cell_type": "markdown",
      "id": "df4dbb80",
      "metadata": {
        "id": "df4dbb80"
      },
      "source": [
        "Verbinde und sortiere Liste a mit Liste b = [6,1,58,36,98] zu einer Liste c:\n",
        "\n",
        "Hinweis: eventuell ist ein casting nötig."
      ]
    },
    {
      "cell_type": "code",
      "execution_count": null,
      "id": "c04636b2",
      "metadata": {
        "id": "c04636b2"
      },
      "outputs": [],
      "source": []
    },
    {
      "cell_type": "markdown",
      "id": "a09ef418",
      "metadata": {
        "id": "a09ef418"
      },
      "source": [
        "Gebe das Maximum von c zurück."
      ]
    },
    {
      "cell_type": "code",
      "execution_count": null,
      "id": "4dd9d825",
      "metadata": {
        "id": "4dd9d825"
      },
      "outputs": [],
      "source": []
    },
    {
      "cell_type": "markdown",
      "id": "85c0e4e8",
      "metadata": {
        "id": "85c0e4e8"
      },
      "source": [
        "Gib in einer Schleife immer die Summe des Aktuellen und des vorangegangenen Elementes zurück."
      ]
    },
    {
      "cell_type": "code",
      "execution_count": null,
      "id": "ef541dc4",
      "metadata": {
        "id": "ef541dc4"
      },
      "outputs": [],
      "source": []
    },
    {
      "cell_type": "markdown",
      "id": "59140ff8",
      "metadata": {
        "id": "59140ff8"
      },
      "source": [
        "# Realworld Code zum Lesen"
      ]
    },
    {
      "cell_type": "code",
      "execution_count": null,
      "id": "8ca69df0",
      "metadata": {
        "id": "8ca69df0"
      },
      "outputs": [],
      "source": [
        "with open('Intervals.csv',encoding='utf8') as file:\n",
        "    data = file.read().splitlines()"
      ]
    },
    {
      "cell_type": "code",
      "execution_count": null,
      "id": "7d8a8ea8",
      "metadata": {
        "scrolled": true,
        "id": "7d8a8ea8"
      },
      "outputs": [],
      "source": [
        "data"
      ]
    },
    {
      "cell_type": "markdown",
      "id": "14980254",
      "metadata": {
        "id": "14980254"
      },
      "source": [
        "wir wollen die Intervalle bequem in einer Tabelle abspeichern. Dazu importieren wir die Bibliothek: pandas\n",
        "(https://pandas.pydata.org/pandas-docs/stable/user_guide/10min.html#min)"
      ]
    },
    {
      "cell_type": "code",
      "execution_count": null,
      "id": "cb5f6ab0",
      "metadata": {
        "id": "cb5f6ab0"
      },
      "outputs": [],
      "source": [
        "import pandas as pd"
      ]
    },
    {
      "cell_type": "markdown",
      "id": "4be74b04",
      "metadata": {
        "id": "4be74b04"
      },
      "source": [
        "Damit der Input in eine Tabelle bzw. eine Dataframe passt, muss er zuerst in eine Liste (intervals) von gleich langen Listen (interval) gebracht werden. Test:"
      ]
    },
    {
      "cell_type": "code",
      "execution_count": null,
      "id": "c921c8d9",
      "metadata": {
        "scrolled": true,
        "id": "c921c8d9"
      },
      "outputs": [],
      "source": [
        "intervals = []\n",
        "for i,interval in enumerate(data):\n",
        "    a = interval.split(\",\")[:-1]\n",
        "    print(str(i) + ' '+ str(len(a)))\n",
        "    intervals.append(a)\n",
        "# intervals = intervals"
      ]
    },
    {
      "cell_type": "code",
      "execution_count": null,
      "id": "23aa24ae",
      "metadata": {
        "scrolled": true,
        "id": "23aa24ae"
      },
      "outputs": [],
      "source": [
        "intervals"
      ]
    },
    {
      "cell_type": "code",
      "execution_count": null,
      "id": "4bc9c416",
      "metadata": {
        "id": "4bc9c416"
      },
      "outputs": [],
      "source": [
        "for interval in intervals:\n",
        "    for i,elem in enumerate(interval):\n",
        "        if i == 0:\n",
        "            interval[i] = elem.replace('\"','')\n",
        "            print(elem)\n",
        "        elif i == 1 or i == 2:\n",
        "            interval[i] = elem.replace('\"\"','\"')\n",
        "            print(i)"
      ]
    },
    {
      "cell_type": "code",
      "execution_count": null,
      "id": "0ed3c635",
      "metadata": {
        "id": "0ed3c635"
      },
      "outputs": [],
      "source": [
        "intervals"
      ]
    },
    {
      "cell_type": "code",
      "execution_count": null,
      "id": "6333ea4d",
      "metadata": {
        "id": "6333ea4d"
      },
      "outputs": [],
      "source": [
        "df = pd.DataFrame(intervals, columns=['key','name', 'description', 'ratio', 'cent', 'interval_class', 'interval_type'])"
      ]
    },
    {
      "cell_type": "code",
      "execution_count": null,
      "id": "7d884d5f",
      "metadata": {
        "id": "7d884d5f"
      },
      "outputs": [],
      "source": [
        "df"
      ]
    },
    {
      "cell_type": "markdown",
      "id": "fb7c4b3f",
      "metadata": {
        "id": "fb7c4b3f"
      },
      "source": [
        "# Wir wenden unsere neuen Fähigkeiten zur Verbesserung des Quizzes an"
      ]
    },
    {
      "cell_type": "markdown",
      "source": [
        "Fasse die Fragen in einer Liste aus Tupeln [(frage,antwort), (frage,antwort),..] (siehe oben) und den Code in die Funktionen:\n",
        "\n",
        "```\n",
        "start()\n",
        "asking(question, anwer_correct, score)\n",
        "end()\n",
        "```\n",
        "\n",
        "zusammen.\n",
        "\n",
        "So dass am Ende dieser Aufruf funktioniert:\n",
        "\n",
        "```\n",
        "start()\n",
        "for question, answer_correct in questions:\n",
        "   score = asking(question, anwer_correct, score)\n",
        "end()\n",
        "```\n",
        "\n"
      ],
      "metadata": {
        "id": "JsUR5lWn6BGk"
      },
      "id": "JsUR5lWn6BGk"
    },
    {
      "cell_type": "code",
      "execution_count": null,
      "id": "b960ccdb",
      "metadata": {
        "id": "b960ccdb"
      },
      "outputs": [],
      "source": []
    },
    {
      "cell_type": "code",
      "execution_count": null,
      "id": "3155c404",
      "metadata": {
        "id": "3155c404"
      },
      "outputs": [],
      "source": []
    }
  ],
  "metadata": {
    "kernelspec": {
      "display_name": "Python 3 (ipykernel)",
      "language": "python",
      "name": "python3"
    },
    "language_info": {
      "codemirror_mode": {
        "name": "ipython",
        "version": 3
      },
      "file_extension": ".py",
      "mimetype": "text/x-python",
      "name": "python",
      "nbconvert_exporter": "python",
      "pygments_lexer": "ipython3",
      "version": "3.9.15"
    },
    "colab": {
      "provenance": [],
      "include_colab_link": true
    }
  },
  "nbformat": 4,
  "nbformat_minor": 5
}